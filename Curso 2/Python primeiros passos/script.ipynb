{
 "cells": [
  {
   "cell_type": "markdown",
   "metadata": {},
   "source": [
    "# Começando com Python"
   ]
  },
  {
   "cell_type": "code",
   "execution_count": 147,
   "metadata": {},
   "outputs": [
    {
     "name": "stdout",
     "output_type": "stream",
     "text": [
      "Olá mundo!\n",
      "10\n",
      "Caio 21\n"
     ]
    }
   ],
   "source": [
    "print('Olá mundo!') #imprimindo strings\n",
    "print(10) #imprimindo números\n",
    "print('Caio', 21) #concatenando strings e números"
   ]
  },
  {
   "cell_type": "markdown",
   "metadata": {},
   "source": [
    "## Hora da prática"
   ]
  },
  {
   "cell_type": "markdown",
   "metadata": {},
   "source": [
    "### 1. Imprima a frase Escola de Dados da Alura!."
   ]
  },
  {
   "cell_type": "code",
   "execution_count": 148,
   "metadata": {},
   "outputs": [
    {
     "name": "stdout",
     "output_type": "stream",
     "text": [
      "Escola de dados da Alura!\n"
     ]
    }
   ],
   "source": [
    "print('Escola de dados da Alura!')"
   ]
  },
  {
   "cell_type": "markdown",
   "metadata": {},
   "source": [
    "### 2. Imprima seu nome e seu sobrenome seguindo a estrutura abaixo:\n",
    "\n",
    "Nome: [seu nome] \\\n",
    "Sobrenome: [seu sobrenome]"
   ]
  },
  {
   "cell_type": "code",
   "execution_count": 149,
   "metadata": {},
   "outputs": [
    {
     "name": "stdout",
     "output_type": "stream",
     "text": [
      "Nome: Caio \n",
      "Sobrenome: Fuzita\n"
     ]
    }
   ],
   "source": [
    "print('Nome: Caio', '\\nSobrenome: Fuzita')"
   ]
  },
  {
   "cell_type": "markdown",
   "metadata": {},
   "source": [
    "### 3. Imprima o seu primeiro nome letra a letra. \n",
    "Por exemplo, meu nome é Mirla, então eu obtenho a seguinte saída:\\\n",
    "M\\\n",
    "I\\\n",
    "R\\\n",
    "L\\\n",
    "A"
   ]
  },
  {
   "cell_type": "code",
   "execution_count": 150,
   "metadata": {},
   "outputs": [
    {
     "name": "stdout",
     "output_type": "stream",
     "text": [
      "C\n",
      "A\n",
      "I\n",
      "O\n"
     ]
    }
   ],
   "source": [
    "print('C')\n",
    "print('A')\n",
    "print('I')\n",
    "print('O')"
   ]
  },
  {
   "cell_type": "markdown",
   "metadata": {},
   "source": [
    "### 4. Imprima o dia do seu nascimento em formato dia mês ano\n",
    "Lembrando que os valores de dia e ano não podem estar entre aspas. Supondo uma data de aniversário dia 28 de fevereiro de 2003, o formato deve estar como no exemplo abaixo:\\\n",
    "28 fevereiro 2003"
   ]
  },
  {
   "cell_type": "code",
   "execution_count": 151,
   "metadata": {},
   "outputs": [
    {
     "name": "stdout",
     "output_type": "stream",
     "text": [
      "29 fevereiro 2024\n"
     ]
    }
   ],
   "source": [
    "print(29, 'fevereiro', 2024)"
   ]
  },
  {
   "cell_type": "markdown",
   "metadata": {},
   "source": [
    "### 5. Imprima, em um único print, o atual ano que você está fazendo esse curso\n",
    "O valor do ano deve ser um dado numérico e a saída do print deve ser a seguinte:\\\n",
    "Ano atual: [ano]"
   ]
  },
  {
   "cell_type": "code",
   "execution_count": 152,
   "metadata": {},
   "outputs": [
    {
     "name": "stdout",
     "output_type": "stream",
     "text": [
      "Ano atual: 2024\n"
     ]
    }
   ],
   "source": [
    "print('Ano atual:', 2024)"
   ]
  },
  {
   "cell_type": "markdown",
   "metadata": {},
   "source": [
    "# Manipulando dados no Python"
   ]
  },
  {
   "cell_type": "markdown",
   "metadata": {},
   "source": [
    "## Variáveis"
   ]
  },
  {
   "cell_type": "code",
   "execution_count": 153,
   "metadata": {},
   "outputs": [
    {
     "data": {
      "text/plain": [
       "5"
      ]
     },
     "execution_count": 153,
     "metadata": {},
     "output_type": "execute_result"
    }
   ],
   "source": [
    "idade = 5\n",
    "idade"
   ]
  },
  {
   "cell_type": "code",
   "execution_count": 154,
   "metadata": {},
   "outputs": [
    {
     "data": {
      "text/plain": [
       "10"
      ]
     },
     "execution_count": 154,
     "metadata": {},
     "output_type": "execute_result"
    }
   ],
   "source": [
    "idade = 10\n",
    "idade"
   ]
  },
  {
   "cell_type": "code",
   "execution_count": 155,
   "metadata": {},
   "outputs": [
    {
     "data": {
      "text/plain": [
       "'Caio'"
      ]
     },
     "execution_count": 155,
     "metadata": {},
     "output_type": "execute_result"
    }
   ],
   "source": [
    "nome = 'Caio'\n",
    "nome"
   ]
  },
  {
   "cell_type": "markdown",
   "metadata": {},
   "source": [
    "Nomes que não podemos definir para variáveis:\n",
    "\n",
    "* Nomes que começam com números. Exemplos: 10_notas, 2_nomes_casa.\n",
    "\n",
    "* Palavras separadas por espaço. Exemplos: Nome escola, notas estudantes.\n",
    "\n",
    "* Nomes de funções do Python. Exemplos: print, type."
   ]
  },
  {
   "cell_type": "markdown",
   "metadata": {},
   "source": [
    "## Tipos de variáveis"
   ]
  },
  {
   "cell_type": "markdown",
   "metadata": {},
   "source": [
    "int\tArmazena números inteiros\t3, 100 ou -5\\\n",
    "float\tArmazena números com ponto flutuante, ou seja, números que possuem uma parte fracionária ou reais\t3.14, 100.0 ou -0.5\\\n",
    "str\tArmazena strings, ou seja, um texto ou sequências de caracteres. As strings são geralmente usadas para armazenar texto e delimitadas por aspas simples ou duplas\t\"Olá!\", 'Alura' ou \"1234\"\\\n",
    "bool\tArmazena valores lógicos verdadeiro ou falso\tTrue e False"
   ]
  },
  {
   "cell_type": "code",
   "execution_count": 156,
   "metadata": {},
   "outputs": [
    {
     "data": {
      "text/plain": [
       "int"
      ]
     },
     "execution_count": 156,
     "metadata": {},
     "output_type": "execute_result"
    }
   ],
   "source": [
    "i = 5\n",
    "type(i)"
   ]
  },
  {
   "cell_type": "markdown",
   "metadata": {},
   "source": [
    "## Variáveis numéricas"
   ]
  },
  {
   "cell_type": "code",
   "execution_count": 157,
   "metadata": {},
   "outputs": [],
   "source": [
    "q_seguranca = 5\n",
    "s_seguranca = 3000\n",
    "\n",
    "q_docente = 16\n",
    "s_docente = 6000\n",
    "\n",
    "q_diretoria = 1\n",
    "s_diretoria = 12500\n"
   ]
  },
  {
   "cell_type": "code",
   "execution_count": 158,
   "metadata": {},
   "outputs": [
    {
     "data": {
      "text/plain": [
       "22"
      ]
     },
     "execution_count": 158,
     "metadata": {},
     "output_type": "execute_result"
    }
   ],
   "source": [
    "total_empregados = q_seguranca + q_docente + q_diretoria\n",
    "total_empregados\n"
   ]
  },
  {
   "cell_type": "code",
   "execution_count": 159,
   "metadata": {},
   "outputs": [
    {
     "data": {
      "text/plain": [
       "9500"
      ]
     },
     "execution_count": 159,
     "metadata": {},
     "output_type": "execute_result"
    }
   ],
   "source": [
    "diferenca_salario = s_diretoria - s_seguranca\n",
    "diferenca_salario"
   ]
  },
  {
   "cell_type": "code",
   "execution_count": 160,
   "metadata": {},
   "outputs": [
    {
     "data": {
      "text/plain": [
       "5613.636363636364"
      ]
     },
     "execution_count": 160,
     "metadata": {},
     "output_type": "execute_result"
    }
   ],
   "source": [
    "media = (q_seguranca*s_seguranca + q_docente*s_docente + q_diretoria*s_diretoria) / (total_empregados)\n",
    "media\n"
   ]
  },
  {
   "cell_type": "markdown",
   "metadata": {},
   "source": [
    "## Strings"
   ]
  },
  {
   "cell_type": "code",
   "execution_count": 161,
   "metadata": {},
   "outputs": [
    {
     "name": "stdout",
     "output_type": "stream",
     "text": [
      "<class 'str'> <class 'str'>\n"
     ]
    }
   ],
   "source": [
    "s1 = 'Alura'\n",
    "s2 = \"Alura\"\n",
    "print(type(s1),type(s2))\n"
   ]
  },
  {
   "cell_type": "markdown",
   "metadata": {},
   "source": [
    "Usando métodos"
   ]
  },
  {
   "cell_type": "code",
   "execution_count": 132,
   "metadata": {},
   "outputs": [],
   "source": [
    "texto = '  Caio Teruo Fuzita '"
   ]
  },
  {
   "cell_type": "code",
   "execution_count": 133,
   "metadata": {},
   "outputs": [
    {
     "data": {
      "text/plain": [
       "'  CAIO TERUO FUZITA '"
      ]
     },
     "execution_count": 133,
     "metadata": {},
     "output_type": "execute_result"
    }
   ],
   "source": [
    "texto.upper()"
   ]
  },
  {
   "cell_type": "code",
   "execution_count": 134,
   "metadata": {},
   "outputs": [
    {
     "data": {
      "text/plain": [
       "'  caio teruo fuzita '"
      ]
     },
     "execution_count": 134,
     "metadata": {},
     "output_type": "execute_result"
    }
   ],
   "source": [
    "texto.lower()"
   ]
  },
  {
   "cell_type": "code",
   "execution_count": 135,
   "metadata": {},
   "outputs": [
    {
     "data": {
      "text/plain": [
       "'Caio Teruo Fuzita'"
      ]
     },
     "execution_count": 135,
     "metadata": {},
     "output_type": "execute_result"
    }
   ],
   "source": [
    "texto.strip()\n"
   ]
  },
  {
   "cell_type": "code",
   "execution_count": 136,
   "metadata": {},
   "outputs": [
    {
     "data": {
      "text/plain": [
       "'  Caio Teruo Fuzita '"
      ]
     },
     "execution_count": 136,
     "metadata": {},
     "output_type": "execute_result"
    }
   ],
   "source": [
    "texto.replace('y','t')\n"
   ]
  },
  {
   "cell_type": "code",
   "execution_count": 137,
   "metadata": {},
   "outputs": [],
   "source": [
    "texto = texto.strip()\n"
   ]
  },
  {
   "cell_type": "code",
   "execution_count": 138,
   "metadata": {},
   "outputs": [
    {
     "data": {
      "text/plain": [
       "'CAIO TERUO FUZITA'"
      ]
     },
     "execution_count": 138,
     "metadata": {},
     "output_type": "execute_result"
    }
   ],
   "source": [
    "texto = texto.strip().replace('y','t').upper()\n",
    "texto\n"
   ]
  },
  {
   "cell_type": "markdown",
   "metadata": {},
   "source": [
    "## Coletando Dados"
   ]
  },
  {
   "cell_type": "code",
   "execution_count": 169,
   "metadata": {},
   "outputs": [],
   "source": [
    "nome = input('Escreva seu nome: ')\n"
   ]
  },
  {
   "cell_type": "code",
   "execution_count": 170,
   "metadata": {},
   "outputs": [
    {
     "data": {
      "text/plain": [
       "'Caio'"
      ]
     },
     "execution_count": 170,
     "metadata": {},
     "output_type": "execute_result"
    }
   ],
   "source": [
    "nome"
   ]
  },
  {
   "cell_type": "code",
   "execution_count": 171,
   "metadata": {},
   "outputs": [],
   "source": [
    "ano_entrada = input('Escreva o ano de ingresso do(a) estudante:  ')\n"
   ]
  },
  {
   "cell_type": "code",
   "execution_count": 172,
   "metadata": {},
   "outputs": [
    {
     "data": {
      "text/plain": [
       "str"
      ]
     },
     "execution_count": 172,
     "metadata": {},
     "output_type": "execute_result"
    }
   ],
   "source": [
    "type(ano_entrada)"
   ]
  },
  {
   "cell_type": "code",
   "execution_count": 173,
   "metadata": {},
   "outputs": [],
   "source": [
    "ano_entrada = int(input('Escreva o ano de ingresso do(a) estudante:  '))\n"
   ]
  },
  {
   "cell_type": "code",
   "execution_count": 174,
   "metadata": {},
   "outputs": [
    {
     "data": {
      "text/plain": [
       "int"
      ]
     },
     "execution_count": 174,
     "metadata": {},
     "output_type": "execute_result"
    }
   ],
   "source": [
    "type(ano_entrada)"
   ]
  },
  {
   "cell_type": "code",
   "execution_count": 175,
   "metadata": {},
   "outputs": [
    {
     "name": "stdout",
     "output_type": "stream",
     "text": [
      "Ano de entrada: 2024\n"
     ]
    }
   ],
   "source": [
    "print(f'Ano de entrada: {ano_entrada}')"
   ]
  },
  {
   "cell_type": "markdown",
   "metadata": {},
   "source": [
    "## Hora da prática"
   ]
  },
  {
   "cell_type": "markdown",
   "metadata": {},
   "source": [
    "### Coleta e amostragem de dados"
   ]
  },
  {
   "cell_type": "markdown",
   "metadata": {},
   "source": [
    "#### 1. Crie um programa que solicite à pessoa usuária digitar seu nome, e imprima “Olá, [nome]!”."
   ]
  },
  {
   "cell_type": "code",
   "execution_count": 176,
   "metadata": {},
   "outputs": [
    {
     "data": {
      "text/plain": [
       "'Caio'"
      ]
     },
     "execution_count": 176,
     "metadata": {},
     "output_type": "execute_result"
    }
   ],
   "source": [
    "nome = input('Insira seu nome: ')\n",
    "nome"
   ]
  },
  {
   "cell_type": "markdown",
   "metadata": {},
   "source": [
    "#### 2. Crie um programa que solicite à pessoa usuária digitar seu nome e idade, e imprima “Olá, [nome], você tem [idade] anos.”."
   ]
  },
  {
   "cell_type": "code",
   "execution_count": 177,
   "metadata": {},
   "outputs": [
    {
     "name": "stdout",
     "output_type": "stream",
     "text": [
      "Olá, Caio, você tem 21 anos\n"
     ]
    }
   ],
   "source": [
    "nome = input('Insira seu nome: ')\n",
    "idade = int(input('Insira sua idade'))\n",
    "\n",
    "print(f'Olá, {nome}, você tem {idade} anos')"
   ]
  },
  {
   "cell_type": "markdown",
   "metadata": {},
   "source": [
    "#### 3. Crie um programa que solicite à pessoa usuária digitar seu nome, idade e altura em metros, e imprima “Olá, [nome], você tem [idade] anos e mede [altura] metros!”."
   ]
  },
  {
   "cell_type": "code",
   "execution_count": 178,
   "metadata": {},
   "outputs": [
    {
     "name": "stdout",
     "output_type": "stream",
     "text": [
      "Olá, Caio, você tem 21 anos e mede 1.73 metros\n"
     ]
    }
   ],
   "source": [
    "nome = input('Insira seu nome: ')\n",
    "idade = int(input('Insira sua idade'))\n",
    "altura = float(input('Insira sua altura'))\n",
    "\n",
    "print(f'Olá, {nome}, você tem {idade} anos e mede {altura} metros')"
   ]
  },
  {
   "cell_type": "markdown",
   "metadata": {},
   "source": [
    "### Calculadora com operadores"
   ]
  },
  {
   "cell_type": "markdown",
   "metadata": {},
   "source": [
    "#### 1. Crie um programa que solicite dois valores numéricos à pessoa usuária e imprima a soma dos dois valores."
   ]
  },
  {
   "cell_type": "code",
   "execution_count": 179,
   "metadata": {},
   "outputs": [
    {
     "name": "stdout",
     "output_type": "stream",
     "text": [
      "A soma dos valores é 5\n"
     ]
    }
   ],
   "source": [
    "num_1 = int(input('Insira o primeiro número'))\n",
    "num_2 = int(input('Insira o segundo número'))\n",
    "\n",
    "print(f'A soma dos valores é {num_1 + num_2}')"
   ]
  },
  {
   "cell_type": "markdown",
   "metadata": {},
   "source": [
    "#### 2. Crie um programa que solicite três valores numéricos à pessoa usuária e imprima a soma dos três valores."
   ]
  },
  {
   "cell_type": "code",
   "execution_count": 180,
   "metadata": {},
   "outputs": [
    {
     "name": "stdout",
     "output_type": "stream",
     "text": [
      "A soma dos valores é 9\n"
     ]
    }
   ],
   "source": [
    "num_1 = int(input('Insira o primeiro número'))\n",
    "num_2 = int(input('Insira o segundo número'))\n",
    "num_3 = int(input('Insira o terceiro número'))\n",
    "\n",
    "print(f'A soma dos valores é {num_1 + num_2 + num_3}')"
   ]
  },
  {
   "cell_type": "markdown",
   "metadata": {},
   "source": [
    "#### 3.Crie um programa que solicite dois valores numéricos à pessoa usuária e imprima a subtração do primeiro pelo o segundo valor."
   ]
  },
  {
   "cell_type": "code",
   "execution_count": 181,
   "metadata": {},
   "outputs": [
    {
     "name": "stdout",
     "output_type": "stream",
     "text": [
      "A subtração do primeiro pelo segundo valor é: -1\n"
     ]
    }
   ],
   "source": [
    "num_1 = int(input('Insira o primeiro valor'))\n",
    "num_2 = int(input('Insira o segundo valor'))\n",
    "\n",
    "print(f'A subtração do primeiro pelo segundo valor é: {num_1 - num_2}')"
   ]
  },
  {
   "cell_type": "markdown",
   "metadata": {},
   "source": [
    "#### 4. Crie um programa que solicite dois valores numéricos à pessoa usuária e imprima a multiplicação dos dois valores."
   ]
  },
  {
   "cell_type": "code",
   "execution_count": 182,
   "metadata": {},
   "outputs": [
    {
     "name": "stdout",
     "output_type": "stream",
     "text": [
      "A multiplicação dos 2 valores é: 6\n"
     ]
    }
   ],
   "source": [
    "num_1 = int(input('Insira o primeiro valor'))\n",
    "num_2 = int(input('Insira o segundo valor'))\n",
    "\n",
    "print(f'A multiplicação dos 2 valores é: {num_1 * num_2}')"
   ]
  },
  {
   "cell_type": "markdown",
   "metadata": {},
   "source": [
    "#### 5. Crie um programa que solicite dois valores numéricos, um numerador e um denominador, e realize a divisão entre os dois valores. Deixe claro que o valor do denominador não pode ser 0."
   ]
  },
  {
   "cell_type": "code",
   "execution_count": 183,
   "metadata": {},
   "outputs": [
    {
     "name": "stdout",
     "output_type": "stream",
     "text": [
      "2 / 3 = 0.6666666666666666\n"
     ]
    }
   ],
   "source": [
    "num_1 = int(input('Insira o valor do numerador'))\n",
    "num_2 = int(input('Insira o valor do denominador != 0'))\n",
    "\n",
    "print(f'{num_1} / {num_2} = {num_1 / num_2}')"
   ]
  },
  {
   "cell_type": "markdown",
   "metadata": {},
   "source": [
    "#### 6. Crie um programa que solicite dois valores numéricos, um operador e uma potência, e realize a exponenciação entre esses dois valores."
   ]
  },
  {
   "cell_type": "code",
   "execution_count": 184,
   "metadata": {},
   "outputs": [
    {
     "name": "stdout",
     "output_type": "stream",
     "text": [
      "2 ** 3 = 8\n"
     ]
    }
   ],
   "source": [
    "num_1 = int(input('Insira o valor do operador'))\n",
    "num_2 = int(input('Insira o valor da potência'))\n",
    "\n",
    "print(f'{num_1} ** {num_2} = {num_1 ** num_2}')"
   ]
  },
  {
   "cell_type": "markdown",
   "metadata": {},
   "source": [
    "#### 7. Crie um programa que solicite dois valores numéricos, um numerador e um denominador e realize a divisão inteira entre os dois valores. Deixe claro que o valor do denominador não pode ser 0."
   ]
  },
  {
   "cell_type": "code",
   "execution_count": 185,
   "metadata": {},
   "outputs": [
    {
     "name": "stdout",
     "output_type": "stream",
     "text": [
      "2 // 3 = 0\n"
     ]
    }
   ],
   "source": [
    "num_1 = int(input('Insira o valor do numerador'))\n",
    "num_2 = int(input('Insira o valor do denominador != 0'))\n",
    "\n",
    "print(f'{num_1} // {num_2} = {num_1 // num_2}')"
   ]
  },
  {
   "cell_type": "markdown",
   "metadata": {},
   "source": [
    "#### 8. Crie um programa que solicite dois valores numéricos, um numerador e um denominador, e retorne o resto da divisão entre os dois valores. Deixe claro que o valor do denominador não pode ser 0."
   ]
  },
  {
   "cell_type": "code",
   "execution_count": 186,
   "metadata": {},
   "outputs": [
    {
     "name": "stdout",
     "output_type": "stream",
     "text": [
      "2 % 3 = 2\n"
     ]
    }
   ],
   "source": [
    "num_1 = int(input('Insira o valor do numerador'))\n",
    "num_2 = int(input('Insira o valor do denominador != 0'))\n",
    "\n",
    "print(f'{num_1} % {num_2} = {num_1 % num_2}')"
   ]
  },
  {
   "cell_type": "markdown",
   "metadata": {},
   "source": [
    "#### 9. Crie um código que solicita 3 notas de um estudante e imprima a média das notas."
   ]
  },
  {
   "cell_type": "code",
   "execution_count": 187,
   "metadata": {},
   "outputs": [
    {
     "name": "stdout",
     "output_type": "stream",
     "text": [
      "Média das notas: 7.0\n"
     ]
    }
   ],
   "source": [
    "nota_1 = int(input('Insira a nota 1'))\n",
    "nota_2 = int(input('Insira a nota 2'))\n",
    "nota_3 = int(input('Insira a nota 3'))\n",
    "\n",
    "soma = nota_1 + nota_2 + nota_3\n",
    "\n",
    "print(f'Média das notas: {soma / 3}')"
   ]
  },
  {
   "cell_type": "markdown",
   "metadata": {},
   "source": [
    "#### 10. Crie um código que calcule e imprima a média ponderada dos números 5, 12, 20 e 15 com pesos respectivamente iguais a 1, 2, 3 e 4."
   ]
  },
  {
   "cell_type": "code",
   "execution_count": 188,
   "metadata": {},
   "outputs": [
    {
     "name": "stdout",
     "output_type": "stream",
     "text": [
      "Média ponderada = 14.9\n"
     ]
    }
   ],
   "source": [
    "num_1 = 5 * 1\n",
    "num_2 = 12 * 2\n",
    "num_3 = 20 * 3\n",
    "num_4 = 15 * 4\n",
    "\n",
    "\n",
    "\n",
    "print(f'Média ponderada = {(num_1 + num_2 + num_3 + num_4) / 10}')"
   ]
  },
  {
   "cell_type": "markdown",
   "metadata": {},
   "source": [
    "### Editando Textos"
   ]
  },
  {
   "cell_type": "markdown",
   "metadata": {},
   "source": [
    "#### 1. Crie uma variável chamada “frase” e atribua a ela uma string de sua escolha. Em seguida, imprima a frase na tela."
   ]
  },
  {
   "cell_type": "code",
   "execution_count": 189,
   "metadata": {},
   "outputs": [
    {
     "data": {
      "text/plain": [
       "'Teste da frase'"
      ]
     },
     "execution_count": 189,
     "metadata": {},
     "output_type": "execute_result"
    }
   ],
   "source": [
    "frase = 'Teste da frase'\n",
    "frase"
   ]
  },
  {
   "cell_type": "markdown",
   "metadata": {},
   "source": [
    "#### 2. Crie um código que solicite uma frase e depois imprima a frase na tela."
   ]
  },
  {
   "cell_type": "code",
   "execution_count": 190,
   "metadata": {},
   "outputs": [
    {
     "data": {
      "text/plain": [
       "'teste'"
      ]
     },
     "execution_count": 190,
     "metadata": {},
     "output_type": "execute_result"
    }
   ],
   "source": [
    "frase = input('Insira uma frase')\n",
    "frase"
   ]
  },
  {
   "cell_type": "markdown",
   "metadata": {},
   "source": [
    "#### 3. Crie um código que solicite uma frase à pessoa usuária e imprima a mesma frase digitada mas com todas as letras maiúsculas."
   ]
  },
  {
   "cell_type": "code",
   "execution_count": 191,
   "metadata": {},
   "outputs": [
    {
     "data": {
      "text/plain": [
       "'TESTE'"
      ]
     },
     "execution_count": 191,
     "metadata": {},
     "output_type": "execute_result"
    }
   ],
   "source": [
    "frase = input('Insira uma frase')\n",
    "frase.upper()"
   ]
  },
  {
   "cell_type": "markdown",
   "metadata": {},
   "source": [
    "#### 4. Crie um código que solicite uma frase à pessoa usuária e imprima a mesma frase digitada mas com todas as letras minúsculas."
   ]
  },
  {
   "cell_type": "code",
   "execution_count": 192,
   "metadata": {},
   "outputs": [
    {
     "data": {
      "text/plain": [
       "'teste'"
      ]
     },
     "execution_count": 192,
     "metadata": {},
     "output_type": "execute_result"
    }
   ],
   "source": [
    "frase = input('Insira uma frase')\n",
    "frase.lower()"
   ]
  },
  {
   "cell_type": "markdown",
   "metadata": {},
   "source": [
    "#### 5. Crie uma variável chamada “frase” e atribua a ela uma string de sua escolha. Em seguida, imprima a frase sem espaços em branco no início e no fim."
   ]
  },
  {
   "cell_type": "code",
   "execution_count": 193,
   "metadata": {},
   "outputs": [
    {
     "data": {
      "text/plain": [
       "'teste'"
      ]
     },
     "execution_count": 193,
     "metadata": {},
     "output_type": "execute_result"
    }
   ],
   "source": [
    "frase = input('Insira uma frase')\n",
    "frase.strip()"
   ]
  },
  {
   "cell_type": "markdown",
   "metadata": {},
   "source": [
    "#### 6. Crie um código que solicite uma frase à pessoa usuária e imprima a mesma frase sem espaços em branco no início e no fim."
   ]
  },
  {
   "cell_type": "code",
   "execution_count": 194,
   "metadata": {},
   "outputs": [
    {
     "data": {
      "text/plain": [
       "'teste'"
      ]
     },
     "execution_count": 194,
     "metadata": {},
     "output_type": "execute_result"
    }
   ],
   "source": [
    "frase = input('Insira uma frase')\n",
    "frase.strip()"
   ]
  },
  {
   "cell_type": "markdown",
   "metadata": {},
   "source": [
    "#### 7. Crie um código que solicite uma frase à pessoa usuária e imprima a mesma frase sem espaços em branco no início e no fim e em letras minúsculas."
   ]
  },
  {
   "cell_type": "code",
   "execution_count": 204,
   "metadata": {},
   "outputs": [
    {
     "name": "stdout",
     "output_type": "stream",
     "text": [
      "teste\n"
     ]
    }
   ],
   "source": [
    "frase = input('Insira uma frase')\n",
    "frase.strip().lower()\n",
    "print(frase)"
   ]
  },
  {
   "cell_type": "markdown",
   "metadata": {},
   "source": [
    "#### 8. Crie um código que solicite uma frase à pessoa usuária e imprima a mesma frase com todas as vogais “e” trocadas pela letra “f”."
   ]
  },
  {
   "cell_type": "code",
   "execution_count": 196,
   "metadata": {},
   "outputs": [
    {
     "data": {
      "text/plain": [
       "'tfstf'"
      ]
     },
     "execution_count": 196,
     "metadata": {},
     "output_type": "execute_result"
    }
   ],
   "source": [
    "frase = input('Insira uma frase')\n",
    "frase.replace('e', 'f')\n",
    "frase"
   ]
  },
  {
   "cell_type": "markdown",
   "metadata": {},
   "source": [
    "#### 9. Crie um código que solicite uma frase à pessoa usuária e imprima a mesma frase com todas as vogais “a” trocadas pela caractere “@”."
   ]
  },
  {
   "cell_type": "code",
   "execution_count": 197,
   "metadata": {},
   "outputs": [
    {
     "data": {
      "text/plain": [
       "'teste'"
      ]
     },
     "execution_count": 197,
     "metadata": {},
     "output_type": "execute_result"
    }
   ],
   "source": [
    "frase = input('Insira uma frase')\n",
    "frase.replace('a', '@')"
   ]
  },
  {
   "cell_type": "markdown",
   "metadata": {},
   "source": [
    "#### 10. Crie um código que solicite uma frase à pessoa usuária e imprima a mesma frase com todas as consoantes “s” trocadas pelo caractere “$”."
   ]
  },
  {
   "cell_type": "code",
   "execution_count": 198,
   "metadata": {},
   "outputs": [
    {
     "data": {
      "text/plain": [
       "'te$te'"
      ]
     },
     "execution_count": 198,
     "metadata": {},
     "output_type": "execute_result"
    }
   ],
   "source": [
    "frase = input('Insira uma frase')\n",
    "frase.replace('s', '$')"
   ]
  },
  {
   "cell_type": "markdown",
   "metadata": {},
   "source": [
    "# Estruturas condicionais"
   ]
  },
  {
   "cell_type": "markdown",
   "metadata": {},
   "source": [
    "## Conhecendo o if e o else"
   ]
  },
  {
   "cell_type": "code",
   "execution_count": 199,
   "metadata": {},
   "outputs": [
    {
     "name": "stdout",
     "output_type": "stream",
     "text": [
      "condição verdadeira: 2\n"
     ]
    }
   ],
   "source": [
    "if 2<7:\n",
    "   print('condição verdadeira: 2')"
   ]
  },
  {
   "cell_type": "code",
   "execution_count": 200,
   "metadata": {},
   "outputs": [
    {
     "name": "stdout",
     "output_type": "stream",
     "text": [
      "fora do bloco\n"
     ]
    }
   ],
   "source": [
    "if 2>7:\n",
    "   print('condição verdadeira')\n",
    "   print()\n",
    "print('fora do bloco')"
   ]
  },
  {
   "cell_type": "code",
   "execution_count": 206,
   "metadata": {},
   "outputs": [
    {
     "name": "stdout",
     "output_type": "stream",
     "text": [
      "Maria é mais velha que Beatriz.\n"
     ]
    }
   ],
   "source": [
    "idade_maria = int(input('Digite a idade da Maria: '))\n",
    "idade_beatriz = int(input('Digite a idade da Beatriz: '))\n",
    "\n",
    "if idade_maria > idade_beatriz:\n",
    "  print('Maria é mais velha que Beatriz.')\n"
   ]
  },
  {
   "cell_type": "code",
   "execution_count": 208,
   "metadata": {},
   "outputs": [
    {
     "name": "stdout",
     "output_type": "stream",
     "text": [
      "Maria é mais nova que Beatriz.\n"
     ]
    }
   ],
   "source": [
    "idade_maria = int(input('Digite a idade da Maria: '))\n",
    "idade_beatriz = int(input('Digite a idade da Beatriz: '))\n",
    "\n",
    "if idade_maria < idade_beatriz:\n",
    "  print('Maria é mais nova que Beatriz.')\n"
   ]
  },
  {
   "cell_type": "code",
   "execution_count": 210,
   "metadata": {},
   "outputs": [
    {
     "name": "stdout",
     "output_type": "stream",
     "text": [
      "Empresa 1 tem uma quantidade de empregados maior ou igual à empresa 2.\n"
     ]
    }
   ],
   "source": [
    "empregados_empresa_1 = int(input('Digite a quantidade de empregados da empresa 1: '))\n",
    "empregados_empresa_2 = int(input('Digite a quantidade de empregados da empresa 2: '))\n",
    "\n",
    "if empregados_empresa_1 >= empregados_empresa_2:\n",
    "  print('Empresa 1 tem uma quantidade de empregados maior ou igual à empresa 2.')\n"
   ]
  },
  {
   "cell_type": "code",
   "execution_count": 211,
   "metadata": {},
   "outputs": [
    {
     "name": "stdout",
     "output_type": "stream",
     "text": [
      "Empresa 1 tem uma quantidade de empregados menor ou igual à empresa 2.\n"
     ]
    }
   ],
   "source": [
    "empregados_empresa_1 = int(input('Digite a quantidade de empregados da empresa 1: '))\n",
    "empregados_empresa_2 = int(input('Digite a quantidade de empregados da empresa 2: '))\n",
    "\n",
    "if empregados_empresa_1 <= empregados_empresa_2:\n",
    "  print('Empresa 1 tem uma quantidade de empregados menor ou igual à empresa 2.')\n"
   ]
  },
  {
   "cell_type": "code",
   "execution_count": 212,
   "metadata": {},
   "outputs": [
    {
     "name": "stdout",
     "output_type": "stream",
     "text": [
      "Os livros têm o mesmo título\n"
     ]
    }
   ],
   "source": [
    "livro_1 = input('Digite o título do 1° livro: ')\n",
    "livro_2 = input('Digite o título do 2° livro: ')\n",
    "\n",
    "if livro_1 == livro_2:\n",
    "  print('Os livros têm o mesmo título')"
   ]
  },
  {
   "cell_type": "code",
   "execution_count": 213,
   "metadata": {},
   "outputs": [
    {
     "name": "stdout",
     "output_type": "stream",
     "text": [
      "Os livros têm títulos diferentes\n"
     ]
    }
   ],
   "source": [
    "livro_1 = input('Digite o título do 1° livro: ')\n",
    "livro_2 = input('Digite o título do 2° livro: ')\n",
    "\n",
    "if livro_1 != livro_2:\n",
    "  print('Os livros têm títulos diferentes')\n"
   ]
  },
  {
   "cell_type": "markdown",
   "metadata": {},
   "source": [
    "## Utilizando if e else"
   ]
  },
  {
   "cell_type": "code",
   "execution_count": 216,
   "metadata": {},
   "outputs": [
    {
     "name": "stdout",
     "output_type": "stream",
     "text": [
      "Reprovado(a)\n"
     ]
    }
   ],
   "source": [
    "media = float(input('Digite a média: '))\n",
    "\n",
    "if media >= 6.0:\n",
    "  print('Aprovado(a)')\n",
    "else:\n",
    "  print('Reprovado(a)')\n"
   ]
  },
  {
   "cell_type": "markdown",
   "metadata": {},
   "source": [
    "## Utilizando elif"
   ]
  },
  {
   "cell_type": "code",
   "execution_count": 217,
   "metadata": {},
   "outputs": [
    {
     "name": "stdout",
     "output_type": "stream",
     "text": [
      "Recuperação\n"
     ]
    }
   ],
   "source": [
    "if media >= 6.0:\n",
    "  print('Aprovado(a)')\n",
    "elif 6.0 > media >= 4.0:\n",
    "  print('Recuperação')\n",
    "if media < 4.0:\n",
    "  print('Reprovado(a)')\n"
   ]
  },
  {
   "cell_type": "markdown",
   "metadata": {},
   "source": [
    "## Operadores lógicos"
   ]
  },
  {
   "cell_type": "code",
   "execution_count": 218,
   "metadata": {},
   "outputs": [],
   "source": [
    "t1 = t2 = True\n",
    "f1 = f2 = False "
   ]
  },
  {
   "cell_type": "code",
   "execution_count": 220,
   "metadata": {},
   "outputs": [
    {
     "name": "stdout",
     "output_type": "stream",
     "text": [
      "expressão verdadeira\n"
     ]
    }
   ],
   "source": [
    "if t1 and t2:\n",
    "  print('expressão verdadeira')\n",
    "else:\n",
    "  print('expressão falsa')\n"
   ]
  },
  {
   "cell_type": "code",
   "execution_count": 221,
   "metadata": {},
   "outputs": [
    {
     "name": "stdout",
     "output_type": "stream",
     "text": [
      "expressão falsa\n"
     ]
    }
   ],
   "source": [
    "if t1 and f2:\n",
    "  print('expressão verdadeira')\n",
    "else:\n",
    "  print('expressão falsa')\n"
   ]
  },
  {
   "cell_type": "code",
   "execution_count": 222,
   "metadata": {},
   "outputs": [
    {
     "name": "stdout",
     "output_type": "stream",
     "text": [
      "expressão falsa\n"
     ]
    }
   ],
   "source": [
    "if f1 or f2:\n",
    "  print('expressão verdadeira')\n",
    "else:\n",
    "  print('expressão falsa')\n"
   ]
  },
  {
   "cell_type": "code",
   "execution_count": 223,
   "metadata": {},
   "outputs": [
    {
     "name": "stdout",
     "output_type": "stream",
     "text": [
      "expressão verdadeira\n"
     ]
    }
   ],
   "source": [
    "if t1 or f2:\n",
    "  print('expressão verdadeira')\n",
    "else:\n",
    "  print('expressão falsa')\n"
   ]
  },
  {
   "cell_type": "code",
   "execution_count": 224,
   "metadata": {},
   "outputs": [
    {
     "name": "stdout",
     "output_type": "stream",
     "text": [
      "expressão falsa\n"
     ]
    }
   ],
   "source": [
    "if not t1:\n",
    "  print('expressão verdadeira')\n",
    "else:\n",
    "  print('expressão falsa')\n"
   ]
  },
  {
   "cell_type": "code",
   "execution_count": 225,
   "metadata": {},
   "outputs": [
    {
     "name": "stdout",
     "output_type": "stream",
     "text": [
      "expressão verdadeira\n"
     ]
    }
   ],
   "source": [
    "if not f1:\n",
    "  print('expressão verdadeira')\n",
    "else:\n",
    "  print('expressão falsa')\n"
   ]
  },
  {
   "cell_type": "code",
   "execution_count": 226,
   "metadata": {},
   "outputs": [],
   "source": [
    "lista = 'José da Silva, Maria Oliveira, Pedro Martins, Ana Souza, Carlos Rodrigues, Juliana Santos, Bruno Gomes, Beatriz Costa, Felipe Almeida, Mariana Fernandes, João Pinto, Luísa Nascimento, Gabriel Souza, Manuela Santos, Thiago Oliveira, Sofia Ferreira, Rafael Albuquerque, Isabella Gomes, Bruno Costa, Maria Martins, Rafaela Souza, Matheus Fernandes, Luísa Almeida, Beatriz Pinto, Mariana Rodrigues, Gabriel Nascimento, João Ferreira, Maria Albuquerque, Felipe Oliveira'\n",
    "\n",
    "nome_1 = 'Mariana Rodrigues'\n",
    "nome_2 = 'Marcelo Nogueira'\n"
   ]
  },
  {
   "cell_type": "code",
   "execution_count": 227,
   "metadata": {},
   "outputs": [
    {
     "name": "stdout",
     "output_type": "stream",
     "text": [
      "Mariana Rodrigues está na lista\n"
     ]
    }
   ],
   "source": [
    "if nome_1 in lista:\n",
    "  print(f'{nome_1} está na lista')\n",
    "else:\n",
    "  print(f'{nome_1} não está na lista')\n"
   ]
  },
  {
   "cell_type": "code",
   "execution_count": 228,
   "metadata": {},
   "outputs": [
    {
     "name": "stdout",
     "output_type": "stream",
     "text": [
      "Marcelo Nogueira não está na lista\n"
     ]
    }
   ],
   "source": [
    "if nome_2 in lista:\n",
    "  print(f'{nome_2} está na lista')\n",
    "else:\n",
    "  print(f'{nome_2} não está na lista')\n"
   ]
  },
  {
   "cell_type": "markdown",
   "metadata": {},
   "source": [
    "## Hora da prática"
   ]
  },
  {
   "cell_type": "markdown",
   "metadata": {},
   "source": [
    "### 1. Escreva um programa que peça à pessoa usuária para fornecer dois números e exibir o número maior."
   ]
  },
  {
   "cell_type": "code",
   "execution_count": 229,
   "metadata": {},
   "outputs": [
    {
     "name": "stdout",
     "output_type": "stream",
     "text": [
      "O valor 2 é maior\n"
     ]
    }
   ],
   "source": [
    "valor_1 = int(input('Insira o valor 1'))\n",
    "valor_2 = int(input('Insira o valor 2'))\n",
    "\n",
    "if valor_1 > valor_2:\n",
    "    print('O valor 1 é maior')\n",
    "elif valor_1 < valor_2:\n",
    "    print('O valor 2 é maior')\n",
    "else:\n",
    "    print('Os valores são iguais')"
   ]
  },
  {
   "cell_type": "markdown",
   "metadata": {},
   "source": [
    "### 2. Escreva um programa que solicite o percentual de crescimento de produção de uma empresa e informe se houve um crescimento (porcentagem positiva) ou decrescimento (porcentagem negativa)."
   ]
  },
  {
   "cell_type": "code",
   "execution_count": 230,
   "metadata": {},
   "outputs": [
    {
     "name": "stdout",
     "output_type": "stream",
     "text": [
      "Crescimento\n"
     ]
    }
   ],
   "source": [
    "crescimento = float(input('Insira o percentual de crescimento'))\n",
    "\n",
    "if crescimento > 0:\n",
    "    print('Crescimento')\n",
    "elif crescimento < 0:\n",
    "    print('Decrescimento')\n",
    "else:\n",
    "    print('Mesmo nível')"
   ]
  },
  {
   "cell_type": "markdown",
   "metadata": {},
   "source": [
    "### 3. Escreva um programa que determine se uma letra fornecida pela pessoa usuária é uma vogal ou consoante."
   ]
  },
  {
   "cell_type": "code",
   "execution_count": 236,
   "metadata": {},
   "outputs": [
    {
     "name": "stdout",
     "output_type": "stream",
     "text": [
      "Vogal\n"
     ]
    }
   ],
   "source": [
    "letra = input('Insira uma letra')\n",
    "\n",
    "if letra in (['a', 'e', 'i', 'o', 'u']):\n",
    "    print('Vogal')\n",
    "else:\n",
    "    print('Consoante')"
   ]
  },
  {
   "cell_type": "markdown",
   "metadata": {},
   "source": [
    "### 4. Escreva um programa que leia valores médios de preços de um modelo de carro por 3 anos consecutivos e exiba o valor mais alto e mais baixo entre esses três anos."
   ]
  },
  {
   "cell_type": "code",
   "execution_count": 238,
   "metadata": {},
   "outputs": [
    {
     "name": "stdout",
     "output_type": "stream",
     "text": [
      "Maior preço: 2023\n",
      "Menor preço: 2024\n"
     ]
    }
   ],
   "source": [
    "preco_2022 = float(input('Preço em 2022'))\n",
    "preco_2023 = float(input('Preço em 2023'))\n",
    "preco_2024 = float(input('Preço em 2024'))\n",
    "\n",
    "if preco_2022 > preco_2023 and preco_2022 > preco_2024:\n",
    "    print('Maior preço: 2022')\n",
    "elif preco_2023 > preco_2022 and preco_2023 > preco_2024:\n",
    "    print('Maior preço: 2023')\n",
    "elif preco_2024 > preco_2023 and preco_2024 > preco_2022:\n",
    "    print('Maior preço: 2024')\n",
    "\n",
    "if preco_2022 < preco_2023 and preco_2022 < preco_2024:\n",
    "    print('Menor preço: 2022')\n",
    "elif preco_2023 < preco_2022 and preco_2023 < preco_2024:\n",
    "    print('Menor preço: 2023')\n",
    "elif preco_2024 < preco_2023 and preco_2024 < preco_2022:\n",
    "    print('Menor preço: 2024')\n",
    "        \n"
   ]
  },
  {
   "cell_type": "markdown",
   "metadata": {},
   "source": [
    "### 5. Escreva um programa que pergunte sobre o preço de três produtos e indique qual é o produto mais barato para comprar."
   ]
  },
  {
   "cell_type": "code",
   "execution_count": 241,
   "metadata": {},
   "outputs": [
    {
     "name": "stdout",
     "output_type": "stream",
     "text": [
      "Menor preço: produto 3\n"
     ]
    }
   ],
   "source": [
    "preco_prod_1 = float(input('Preço do produto 1'))\n",
    "preco_prod_2 = float(input('Preço do produto 2'))\n",
    "preco_prod_3 = float(input('Preço do produto 3'))\n",
    "\n",
    "if preco_prod_1 < preco_prod_2 and preco_prod_1 < preco_prod_3:\n",
    "    print('Menor preço: produto 1')\n",
    "elif preco_prod_2 < preco_prod_1 and preco_prod_2 < preco_prod_3:\n",
    "    print('Menor preço: produto 2')\n",
    "elif preco_prod_3 < preco_prod_2 and preco_prod_3 < preco_prod_1:\n",
    "    print('Menor preço: produto 3')"
   ]
  },
  {
   "cell_type": "markdown",
   "metadata": {},
   "source": [
    "### 6. Escreva um programa que leia três números e os exiba em ordem decrescente."
   ]
  },
  {
   "cell_type": "code",
   "execution_count": 246,
   "metadata": {},
   "outputs": [
    {
     "name": "stdout",
     "output_type": "stream",
     "text": [
      "8\n",
      "5\n",
      "3\n"
     ]
    }
   ],
   "source": [
    "numero_1 = int(input('Insira o número 1'))\n",
    "numero_2 = int(input('Insira o número 2'))\n",
    "numero_3 = int(input('Insira o número 3'))\n",
    "\n",
    "if numero_1 > numero_2 and numero_1 > numero_3:\n",
    "    print(numero_1)\n",
    "\n",
    "    if numero_2 > numero_3:\n",
    "        print(numero_2)\n",
    "        print(numero_3)\n",
    "    else:\n",
    "        print(numero_3)\n",
    "        print(numero_2)\n",
    "\n",
    "if numero_2 > numero_1 and numero_2 > numero_3:\n",
    "    print(numero_2)\n",
    "\n",
    "    if numero_1 > numero_3:\n",
    "        print(numero_1)\n",
    "        print(numero_3)\n",
    "    else:\n",
    "        print(numero_3)\n",
    "        print(numero_1)\n",
    "\n",
    "if numero_3 > numero_2 and numero_3 > numero_1:\n",
    "    print(numero_3)\n",
    "\n",
    "    if numero_2 > numero_1:\n",
    "        print(numero_2)\n",
    "        print(numero_1)\n",
    "    else:\n",
    "        print(numero_1)\n",
    "        print(numero_2)"
   ]
  },
  {
   "cell_type": "markdown",
   "metadata": {},
   "source": [
    "### 7. Escreva um programa que pergunte em qual turno a pessoa usuária estuda (\"manhã\", \"tarde\" ou \"noite\") e exiba a mensagem \"Bom Dia!\", \"Boa Tarde!\", \"Boa Noite!\", ou \"Valor Inválido!\", conforme o caso."
   ]
  },
  {
   "cell_type": "code",
   "execution_count": 252,
   "metadata": {},
   "outputs": [
    {
     "name": "stdout",
     "output_type": "stream",
     "text": [
      "Boa noite\n"
     ]
    }
   ],
   "source": [
    "turno = input('Qual turno você estuda?')\n",
    "\n",
    "if turno == 'manha':\n",
    "    print('Bom dia')\n",
    "elif turno == 'tarde':\n",
    "    print('Boa tarde')\n",
    "elif turno == 'noite':\n",
    "    print('Boa noite')\n",
    "else:\n",
    "    print('Valor inválido')"
   ]
  },
  {
   "cell_type": "markdown",
   "metadata": {},
   "source": [
    "### 8. Escreva um programa que peça um número inteiro à pessoa usuária e determine se ele é par ou ímpar."
   ]
  },
  {
   "cell_type": "code",
   "execution_count": 254,
   "metadata": {},
   "outputs": [
    {
     "name": "stdout",
     "output_type": "stream",
     "text": [
      "2 é par\n"
     ]
    }
   ],
   "source": [
    "entrada = int(input('Insira um número inteiro'))\n",
    "\n",
    "if entrada % 2 == 0:\n",
    "    print(f'{entrada} é par')\n",
    "else:\n",
    "    print(f'{entrada} é ímpar')"
   ]
  },
  {
   "cell_type": "markdown",
   "metadata": {},
   "source": [
    "### 9. Escreva um programa que peça um número à pessoa usuária e informe se ele é inteiro ou decimal."
   ]
  },
  {
   "cell_type": "code",
   "execution_count": 257,
   "metadata": {},
   "outputs": [
    {
     "name": "stdout",
     "output_type": "stream",
     "text": [
      "3.2 é decimal\n"
     ]
    }
   ],
   "source": [
    "entrada = float(input('Insira um número'))\n",
    "\n",
    "if entrada % 1 == 0:\n",
    "    print(f'{entrada} é inteiro')\n",
    "else:\n",
    "    print(f'{entrada} é decimal')"
   ]
  },
  {
   "cell_type": "markdown",
   "metadata": {},
   "source": [
    "### 10. Um programa deve ser escrito para ler dois números e, em seguida, perguntar à pessoa usuária qual operação ele deseja realizar. O resultado da operação deve incluir informações sobre o número - se é par ou ímpar, positivo ou negativo e inteiro ou decimal."
   ]
  },
  {
   "cell_type": "code",
   "execution_count": 4,
   "metadata": {},
   "outputs": [
    {
     "name": "stdout",
     "output_type": "stream",
     "text": [
      "Resultado da operação 4.5 * 3.0 = 13.5\n",
      "Ímpar\n",
      "Positivo\n",
      "Decimal\n"
     ]
    }
   ],
   "source": [
    "valor_1 = float(input('Insira o valor 1'))\n",
    "valor_2 = float(input('Insira o valor 2'))\n",
    "\n",
    "operacao = input('Qual operação desejada? + - * /')\n",
    "\n",
    "if operacao == '+':\n",
    "    resultado_operacao = valor_1 + valor_2\n",
    "elif operacao == '-':\n",
    "    resultado_operacao = valor_1 - valor_2\n",
    "elif operacao == '*':\n",
    "    resultado_operacao = valor_1 * valor_2\n",
    "elif operacao == '/':\n",
    "    resultado_operacao = valor_1 / valor_2\n",
    "\n",
    "print(f'Resultado da operação {valor_1} {operacao} {valor_2} = {resultado_operacao}')\n",
    "\n",
    "if resultado_operacao % 2 == 0:\n",
    "    print('Par')\n",
    "else:\n",
    "    print('Ímpar')\n",
    "\n",
    "if resultado_operacao >= 0:\n",
    "    print('Positivo')\n",
    "else:\n",
    "    print('Negativo')\n",
    "\n",
    "if resultado_operacao % 1 == 0:\n",
    "    print('Inteiro')\n",
    "else:\n",
    "    print('Decimal')\n",
    " \n"
   ]
  },
  {
   "cell_type": "markdown",
   "metadata": {},
   "source": [
    "### 11. Escreva um programa que peça à pessoa usuária três números que representam os lados de um triângulo. O programa deve informar se os valores podem ser utilizados para formar um triângulo e, caso afirmativo, se ele é equilátero, isósceles ou escaleno. Tenha em mente algumas dicas:"
   ]
  },
  {
   "cell_type": "markdown",
   "metadata": {},
   "source": [
    "* Três lados formam um triângulo quando a soma de quaisquer dois lados for maior que o terceiro;\n",
    "* Triângulo Equilátero: três lados iguais;\n",
    "* Triângulo Isósceles: quaisquer dois lados iguais;\n",
    "* Triângulo Escaleno: três lados diferentes."
   ]
  },
  {
   "cell_type": "code",
   "execution_count": 18,
   "metadata": {},
   "outputs": [
    {
     "name": "stdout",
     "output_type": "stream",
     "text": [
      "Triângulo isósceles\n"
     ]
    }
   ],
   "source": [
    "lado_1 = float(input('Insira o lado 1 do triângulo'))\n",
    "lado_2 = float(input('Insira o lado 2 do triângulo'))\n",
    "lado_3 = float(input('Insira o lado 3 do triângulo'))\n",
    "\n",
    "if (lado_1 + lado_2) > lado_3 or (lado_3 + lado_2) > lado_1 or (lado_3 + lado_1) > lado_2:\n",
    "\n",
    "    if lado_1 == lado_2 and lado_2 == lado_3:\n",
    "        print('Triângulo equilátero')\n",
    "    elif lado_1 != lado_2 and lado_2 != lado_3 and lado_1 != lado_3:\n",
    "        print('Triângulo escaleno')\n",
    "    else:\n",
    "        print('Triângulo isósceles')\n",
    "\n",
    "else:\n",
    "    print('Não é possível formar um triângulo')"
   ]
  },
  {
   "cell_type": "markdown",
   "metadata": {},
   "source": [
    "### 12. Um estabelecimento está vendendo combustíveis com descontos variados. Para o etanol, se a quantidade comprada for até 15 litros, o desconto será de 2% por litro. Caso contrário, será de 4% por litro. Para o diesel, se a quantidade comprada for até 15 litros, o desconto será de 3% por litro. Caso contrário, será de 5% por litro. O preço do litro de diesel é R$ 2,00 e o preço do litro de etanol é R$ 1,70. Escreva um programa que leia a quantidade de litros vendidos e o tipo de combustível (E para etanol e D para diesel) e calcule o valor a ser pago pelo cliente."
   ]
  },
  {
   "cell_type": "markdown",
   "metadata": {},
   "source": [
    "* O do valor do desconto será a multiplicação entre preço do litro, quantidade de litros e o valor do desconto.\n",
    "* O valor a ser pago por um cliente será o resultado da multiplicação do preço do litro pela quantidade de litros menos o valor de desconto resultante do cálculo."
   ]
  },
  {
   "cell_type": "markdown",
   "metadata": {},
   "source": [
    "### 13. Em uma empresa de venda de imóveis você precisa criar um código que analise os dados de vendas anuais para ajudar a diretoria na tomada de decisão. O código precisa coletar os dados de quantidade de venda durante os anos de 2022 e 2023 e fazer um cálculo de variação percentual."
   ]
  },
  {
   "cell_type": "markdown",
   "metadata": {},
   "source": [
    "* Para variação acima de 20%: bonificação para o time de vendas.\n",
    "* Para variação entre 2% e 20%: pequena bonificação para time de vendas.\n",
    "* Para variação entre 2% e -10%: planejamento de políticas de incentivo às vendas.\n",
    "* Para bonificações abaixo de -10%: corte de gastos."
   ]
  },
  {
   "cell_type": "code",
   "execution_count": 19,
   "metadata": {},
   "outputs": [
    {
     "name": "stdout",
     "output_type": "stream",
     "text": [
      "Pequena bonificação para time de vendas.\n"
     ]
    }
   ],
   "source": [
    "venda_2022 = float(input('Informe a quantidade de vendas em 2022: '))\n",
    "venda_2023 = float(input('Informe a quantidade de vendas em 2023: '))\n",
    "\n",
    "var_percentual = 100 * (venda_2023 - venda_2022) / (venda_2022)\n",
    "\n",
    "if var_percentual > 20:\n",
    "    print('Bonificação para o time de vendas.')\n",
    "elif 2 <= var_percentual <= 20:\n",
    "    print('Pequena bonificação para time de vendas.')\n",
    "elif -10 <= var_percentual < 2:\n",
    "    print('Planejamento de políticas de incentivo às vendas.')\n",
    "else:\n",
    "    print('Corte de gastos.')\n"
   ]
  },
  {
   "cell_type": "markdown",
   "metadata": {},
   "source": [
    "# Estruturas de repetição"
   ]
  },
  {
   "cell_type": "code",
   "execution_count": 20,
   "metadata": {},
   "outputs": [
    {
     "name": "stdout",
     "output_type": "stream",
     "text": [
      "1\n",
      "2\n",
      "3\n",
      "4\n",
      "5\n",
      "6\n",
      "7\n",
      "8\n",
      "9\n",
      "10\n"
     ]
    }
   ],
   "source": [
    "contador = 1\n",
    "while contador <= 10:\n",
    "  print(contador)\n",
    "  contador = contador+1"
   ]
  },
  {
   "cell_type": "code",
   "execution_count": 22,
   "metadata": {},
   "outputs": [
    {
     "name": "stdout",
     "output_type": "stream",
     "text": [
      "Média: 7.5\n",
      "Média: 5.0\n",
      "Média: 8.5\n"
     ]
    }
   ],
   "source": [
    "contador = 1\n",
    "while contador <= 3:\n",
    "  nota_1 = float(input('Digite a 1° nota: '))\n",
    "  nota_2 = float(input('Digite a 2° nota: '))\n",
    "\n",
    "  print(f'Média: {(nota_1+nota_2)/2}')\n",
    "  contador += 1"
   ]
  },
  {
   "cell_type": "code",
   "execution_count": 23,
   "metadata": {},
   "outputs": [
    {
     "name": "stdout",
     "output_type": "stream",
     "text": [
      "1\n",
      "2\n",
      "3\n",
      "4\n",
      "5\n",
      "6\n",
      "7\n",
      "8\n",
      "9\n",
      "10\n"
     ]
    }
   ],
   "source": [
    "for contador in range(1,11):\n",
    "  print(contador)"
   ]
  },
  {
   "cell_type": "code",
   "execution_count": 24,
   "metadata": {},
   "outputs": [
    {
     "name": "stdout",
     "output_type": "stream",
     "text": [
      "Média: 6.5\n",
      "Média: 7.5\n",
      "Média: 3.5\n"
     ]
    }
   ],
   "source": [
    "for contador in range(1,4):\n",
    "  nota_1 = float(input('Digite a 1° nota: '))\n",
    "  nota_2 = float(input('Digite a 2° nota: '))\n",
    "\n",
    "  print(f'Média: {(nota_1+nota_2)/2}')"
   ]
  },
  {
   "cell_type": "markdown",
   "metadata": {},
   "source": [
    "## Hora da prática"
   ]
  },
  {
   "cell_type": "markdown",
   "metadata": {},
   "source": [
    "### 1. Escreva um programa que peça dois números inteiros e imprima todos os números inteiros entre eles."
   ]
  },
  {
   "cell_type": "code",
   "execution_count": 29,
   "metadata": {},
   "outputs": [
    {
     "name": "stdout",
     "output_type": "stream",
     "text": [
      "6\n",
      "7\n"
     ]
    }
   ],
   "source": [
    "inicio = int(input('Insira o primeiro número inteiro: '))\n",
    "fim = int(input('Insira o segundo número inteiro: '))\n",
    "\n",
    "if inicio < fim:\n",
    "  for i in range(inicio + 1, fim): \n",
    "    print(i)\n",
    "elif inicio > fim:\n",
    "  for i in range(fim + 1, inicio):\n",
    "    print(i)\n",
    "else: \n",
    "  print('Os números são iguais.')\n"
   ]
  },
  {
   "cell_type": "markdown",
   "metadata": {},
   "source": [
    "### 2. Escreva um programa para calcular quantos dias levará para a colônia de uma bactéria A ultrapassar ou igualar a colônia de uma bactéria B, com base nas taxas de crescimento de 3% e 1,5% respectivamente. Considere que a colônia A inicia com 4 elementos e a B com 10."
   ]
  },
  {
   "cell_type": "code",
   "execution_count": 30,
   "metadata": {},
   "outputs": [
    {
     "name": "stdout",
     "output_type": "stream",
     "text": [
      "Irá levar 63 dias para a colônia A ultrapassar a colônia B.\n"
     ]
    }
   ],
   "source": [
    "colonia_a = 4\n",
    "colonia_b = 10\n",
    "\n",
    "taxa_a = 0.03\n",
    "taxa_b = 0.015\n",
    "\n",
    "dias = 0\n",
    "\n",
    "while colonia_a <= colonia_b:\n",
    "  colonia_a *= 1 + taxa_a\n",
    "  colonia_b *= 1 + taxa_b\n",
    "  dias += 1\n",
    "\n",
    "print(f'Irá levar {dias} dias para a colônia A ultrapassar a colônia B.')\n"
   ]
  },
  {
   "cell_type": "markdown",
   "metadata": {},
   "source": [
    "### 3. Para tratar uma quantidade de 15 dados de avaliações de pessoas usuárias de um serviço da empresa, precisamos verificar se as notas são válidas. Então, escreva um programa que vai receber a nota de 0 a 5 de todos os dados e verificar se é um valor válido. Caso seja inserido uma nota acima de 5 ou abaixo de 0, repita até que a pessoa usuária insira um valor válido."
   ]
  },
  {
   "cell_type": "code",
   "execution_count": 33,
   "metadata": {},
   "outputs": [
    {
     "name": "stdout",
     "output_type": "stream",
     "text": [
      "Verificação feita. Todas as notas são válidas\n"
     ]
    }
   ],
   "source": [
    "for i in range(15):\n",
    "  nota = float(input(f'Insira a nota da pessoa usuária {i}: '))\n",
    "\n",
    "  while (nota < 0) or (nota > 5):\n",
    "    nota = float(input(f'Nota inválida, insira novamente a nota da pessoa usuária {i}: '))\n",
    "\n",
    "print('Verificação feita. Todas as notas são válidas')\n"
   ]
  },
  {
   "cell_type": "markdown",
   "metadata": {},
   "source": [
    "### 4. Desenvolva um programa que leia um conjunto indeterminado de temperaturas em Celsius e informe a média delas. A leitura deve ser encerrada ao ser enviado o valor -273°C."
   ]
  },
  {
   "cell_type": "code",
   "execution_count": 34,
   "metadata": {},
   "outputs": [
    {
     "name": "stdout",
     "output_type": "stream",
     "text": [
      "A média das temperaturas é: 24.0\n"
     ]
    }
   ],
   "source": [
    "temperatura = float(input('Insira a temperatura em Celsius: '))\n",
    "\n",
    "contadora = 0\n",
    "soma = 0\n",
    "\n",
    "while temperatura != -273:\n",
    "    soma += temperatura\n",
    "    contadora += 1\n",
    "    temperatura = float(input('Insira a temperatura em Celsius: '))\n",
    "\n",
    "media = soma / contadora\n",
    "\n",
    "print(f'A média das temperaturas é: {media}')\n"
   ]
  },
  {
   "cell_type": "markdown",
   "metadata": {},
   "source": [
    "### 5.  Escreva um programa que calcule o fatorial de um número inteiro fornecido pela pessoa usuária. Lembrando que o fatorial de um número inteiro é a multiplicação desse número por todos os seus antecessores até o número 1. \n",
    "\n",
    "Por exemplo, o fatorial de 5 é 5 x 4 x 3 x 2 x 1 = 120."
   ]
  },
  {
   "cell_type": "code",
   "execution_count": 35,
   "metadata": {},
   "outputs": [
    {
     "name": "stdout",
     "output_type": "stream",
     "text": [
      "Fatorial de 5 é 120\n"
     ]
    }
   ],
   "source": [
    "num = int(input('Informe um número inteiro: '))\n",
    "\n",
    "fatorial = 1\n",
    "\n",
    "i = num\n",
    "while i > 0:\n",
    "    fatorial *= i\n",
    "    i -= 1\n",
    "\n",
    "print(f'Fatorial de {num} é {fatorial}')\n"
   ]
  },
  {
   "cell_type": "markdown",
   "metadata": {},
   "source": [
    "### 6. Escreva um programa que gere a tabuada de um número inteiro de 1 a 10, de acordo com a escolha da pessoa usuária. \n",
    "\n",
    "Como exemplo, para o número 2, a tabuada deve ser mostrada no seguinte formato:\\\n",
    "Tabuada do 2:\\\n",
    "2 x 1 = 2\\\n",
    "2 x 2 = 4\\\n",
    "[...]\\\n",
    "2 x 10 = 20"
   ]
  },
  {
   "cell_type": "code",
   "execution_count": 36,
   "metadata": {},
   "outputs": [
    {
     "name": "stdout",
     "output_type": "stream",
     "text": [
      "Tabuada do 6:\n",
      "6 x 1 = 6\n",
      "6 x 2 = 12\n",
      "6 x 3 = 18\n",
      "6 x 4 = 24\n",
      "6 x 5 = 30\n",
      "6 x 6 = 36\n",
      "6 x 7 = 42\n",
      "6 x 8 = 48\n",
      "6 x 9 = 54\n",
      "6 x 10 = 60\n"
     ]
    }
   ],
   "source": [
    "num = int(input('Informe um número inteiro de 1 a 10: '))\n",
    "\n",
    "print(f'Tabuada do {num}:')\n",
    "for i in range(1, 11):\n",
    "    resultado = num * i\n",
    "    print(f'{num} x {i} = {resultado}')\n"
   ]
  },
  {
   "cell_type": "markdown",
   "metadata": {},
   "source": [
    "### 7. Os números primos possuem várias aplicações dentro da Ciência de Dados em criptografia e segurança, por exemplo. Um número primo é aquele que é divisível apenas por um e por ele mesmo. Assim, faça um programa que peça um número inteiro e determine se ele é ou não um número primo."
   ]
  },
  {
   "cell_type": "code",
   "execution_count": 37,
   "metadata": {},
   "outputs": [
    {
     "name": "stdout",
     "output_type": "stream",
     "text": [
      "O número 6 não é primo\n"
     ]
    }
   ],
   "source": [
    "num = int(input(\"Digite o número: \"))\n",
    "\n",
    "eh_primo = True\n",
    "\n",
    "for i in range(2, num):\n",
    "    if num % i == 0:\n",
    "        eh_primo = False\n",
    "        break\n",
    "\n",
    "if eh_primo == True:\n",
    "    print(f'O número {num} é primo')\n",
    "else:\n",
    "    print(f'O número {num} não é primo')\n"
   ]
  },
  {
   "cell_type": "markdown",
   "metadata": {},
   "source": [
    "### 8. Vamos entender a distribuição de idades de pensionistas de uma empresa de previdência. Escreva um programa que leia as idades de uma quantidade não informada de clientes e mostre a distribuição em intervalos de [0-25], [26-50], [51-75] e [76-100]. Encerre a entrada de dados com um número negativo."
   ]
  },
  {
   "cell_type": "code",
   "execution_count": 38,
   "metadata": {},
   "outputs": [
    {
     "name": "stdout",
     "output_type": "stream",
     "text": [
      "Distribuição de idades:\n",
      "[0-25]: 2\n",
      "[26-50]: 0\n",
      "[51-75]: 2\n",
      "[76-100]: 0\n"
     ]
    }
   ],
   "source": [
    "\n",
    "idade = int(input('Informe a idade (ou um número negativo para encerrar): '))\n",
    "\n",
    "contador_0_25 = 0 \n",
    "contador_26_50 = 0\n",
    "contador_51_75 = 0 \n",
    "contador_76_100 = 0 \n",
    "\n",
    "while idade >= 0:\n",
    "    if idade >= 0 and idade <= 25:\n",
    "        contador_0_25 += 1\n",
    "    elif idade >= 26 and idade <= 50:\n",
    "        contador_26_50 += 1\n",
    "    elif idade >= 51 and idade <= 75:\n",
    "        contador_51_75 += 1\n",
    "    elif idade >= 76 and idade <= 100:\n",
    "        contador_76_100 += 1\n",
    " \n",
    "    idade = int(input('Informe a idade (ou um número negativo para encerrar): '))\n",
    "\n",
    "print('Distribuição de idades:')\n",
    "print('[0-25]:', contador_0_25)\n",
    "print('[26-50]:', contador_26_50)\n",
    "print('[51-75]:', contador_51_75)\n",
    "print('[76-100]:', contador_76_100)\n"
   ]
  },
  {
   "cell_type": "markdown",
   "metadata": {},
   "source": [
    "### 9. Em uma eleição para gerência em uma empresa com 20 pessoas colaboradoras, existem quatro candidatos(as). Escreva um programa que calcule o(a) vencedor(a) da eleição.\n",
    "\n",
    "* Cada colaborador(a) votou em uma das quatro pessoas candidatas (que representamos pelos números 1, 2, 3 e 4).\n",
    "* Também foram contabilizados os votos nulos (representados pelo número 5) e os votos em branco (representados pelo número 6).\n",
    "\n",
    "Ao final da votação, o programa deve exibir o número total de votos para cada candidato(a), os nulos e os votos em branco. Além disso, deve calcular e exibir a porcentagem de votos nulos em relação ao total de votos e a porcentagem de votos em branco em relação ao total de votos."
   ]
  },
  {
   "cell_type": "code",
   "execution_count": 39,
   "metadata": {},
   "outputs": [
    {
     "name": "stdout",
     "output_type": "stream",
     "text": [
      "Votos candidato 1: 6\n",
      "Votos candidato 2: 7\n",
      "Votos candidato 3: 5\n",
      "Votos candidato 4: 1\n",
      "Votos nulos: 1\n",
      "Votos em branco: 0\n",
      "Percentual de votos nulos: 5.0\n",
      "Percentual de votos em branco: 0.0\n"
     ]
    }
   ],
   "source": [
    "votos_candidato1 = 0\n",
    "votos_candidato2 = 0\n",
    "votos_candidato3 = 0\n",
    "votos_candidato4 = 0\n",
    "votos_nulos = 0\n",
    "votos_branco = 0\n",
    "\n",
    "for i in range(0,20):\n",
    "    voto = int(input('Informe seu voto: '))\n",
    "    if voto == 1:\n",
    "        votos_candidato1 += 1\n",
    "    elif voto == 2:\n",
    "        votos_candidato2 += 1\n",
    "    elif voto == 3:\n",
    "        votos_candidato3 += 1\n",
    "    elif voto == 4:\n",
    "        votos_candidato4 += 1\n",
    "    elif voto == 5:\n",
    "        votos_nulos += 1\n",
    "    elif voto == 6:\n",
    "        votos_branco += 1\n",
    "    else:\n",
    "        print(\"Voto inválido.\")\n",
    "\n",
    "print(f'Votos candidato 1: {votos_candidato1}')\n",
    "print(f'Votos candidato 2: {votos_candidato2}')\n",
    "print(f'Votos candidato 3: {votos_candidato3}')\n",
    "print(f'Votos candidato 4: {votos_candidato4}')\n",
    "print(f'Votos nulos: {votos_nulos}')\n",
    "print(f'Votos em branco: {votos_branco}')\n",
    "print(f'Percentual de votos nulos: {(votos_nulos / 20 * 100)}')\n",
    "print(f'Percentual de votos em branco: {(votos_branco / 20 * 100)}')\n"
   ]
  },
  {
   "cell_type": "markdown",
   "metadata": {},
   "source": [
    "# Estrutura de dados\n"
   ]
  },
  {
   "cell_type": "markdown",
   "metadata": {},
   "source": [
    "## Listas"
   ]
  },
  {
   "cell_type": "code",
   "execution_count": 59,
   "metadata": {},
   "outputs": [
    {
     "data": {
      "text/plain": [
       "['Fabricio Daniel', 9.5, 9.0, 8.0, True]"
      ]
     },
     "execution_count": 59,
     "metadata": {},
     "output_type": "execute_result"
    }
   ],
   "source": [
    "lista = ['Fabricio Daniel',9.5,9.0,8.0,True]\n",
    "lista"
   ]
  },
  {
   "cell_type": "code",
   "execution_count": 41,
   "metadata": {},
   "outputs": [
    {
     "name": "stdout",
     "output_type": "stream",
     "text": [
      "Fabricio Daniel\n",
      "9.5\n",
      "True\n"
     ]
    }
   ],
   "source": [
    "print(lista[0])\n",
    "print(lista[1])\n",
    "print(lista[-1])"
   ]
  },
  {
   "cell_type": "code",
   "execution_count": 42,
   "metadata": {},
   "outputs": [
    {
     "name": "stdout",
     "output_type": "stream",
     "text": [
      "Fabricio Daniel\n",
      "9.5\n",
      "9.0\n",
      "8.0\n",
      "True\n"
     ]
    }
   ],
   "source": [
    "for elemento in lista:\n",
    "  print(elemento)"
   ]
  },
  {
   "cell_type": "code",
   "execution_count": 43,
   "metadata": {},
   "outputs": [
    {
     "data": {
      "text/plain": [
       "['Fabricio Daniel', 9.5, 9.0, 10.0, True]"
      ]
     },
     "execution_count": 43,
     "metadata": {},
     "output_type": "execute_result"
    }
   ],
   "source": [
    "lista[3] = 10.0\n",
    "lista"
   ]
  },
  {
   "cell_type": "code",
   "execution_count": 44,
   "metadata": {},
   "outputs": [
    {
     "data": {
      "text/plain": [
       "9.5"
      ]
     },
     "execution_count": 44,
     "metadata": {},
     "output_type": "execute_result"
    }
   ],
   "source": [
    "media = (lista[1] + lista[2] + lista[3])/3\n",
    "media"
   ]
  },
  {
   "cell_type": "code",
   "execution_count": 45,
   "metadata": {},
   "outputs": [
    {
     "data": {
      "text/plain": [
       "5"
      ]
     },
     "execution_count": 45,
     "metadata": {},
     "output_type": "execute_result"
    }
   ],
   "source": [
    "len(lista)"
   ]
  },
  {
   "cell_type": "code",
   "execution_count": 49,
   "metadata": {},
   "outputs": [
    {
     "name": "stdout",
     "output_type": "stream",
     "text": [
      "[9.5, 9.0, 10.0]\n",
      "[9.5, 9.0]\n",
      "['Fabricio Daniel', 9.5, 9.0]\n",
      "[10.0, True]\n"
     ]
    }
   ],
   "source": [
    "print(lista[1:4])\n",
    "print(lista[1:3])\n",
    "print(lista[:3])\n",
    "print(lista[3:])"
   ]
  },
  {
   "cell_type": "code",
   "execution_count": 50,
   "metadata": {},
   "outputs": [
    {
     "data": {
      "text/plain": [
       "['Fabricio Daniel', 9.5, 9.0, 10.0, True, 9.5]"
      ]
     },
     "execution_count": 50,
     "metadata": {},
     "output_type": "execute_result"
    }
   ],
   "source": [
    "lista.append(media)\n",
    "lista"
   ]
  },
  {
   "cell_type": "code",
   "execution_count": 53,
   "metadata": {},
   "outputs": [
    {
     "data": {
      "text/plain": [
       "['Fabricio Daniel', 9.5, 9.0, 10.0, True, 9.5, 10.0, 8.0, 9.0, 10.0, 8.0, 9.0]"
      ]
     },
     "execution_count": 53,
     "metadata": {},
     "output_type": "execute_result"
    }
   ],
   "source": [
    "lista.extend([10.0,8.0,9.0])\n",
    "lista"
   ]
  },
  {
   "cell_type": "code",
   "execution_count": 62,
   "metadata": {},
   "outputs": [
    {
     "data": {
      "text/plain": [
       "['Fabricio Daniel', 9.0, 8.0, True]"
      ]
     },
     "execution_count": 62,
     "metadata": {},
     "output_type": "execute_result"
    }
   ],
   "source": [
    "lista.remove(9.5)\n",
    "lista"
   ]
  },
  {
   "cell_type": "code",
   "execution_count": 339,
   "metadata": {},
   "outputs": [
    {
     "name": "stdout",
     "output_type": "stream",
     "text": [
      "Labrador Retriever\n",
      "Golden Retriever\n",
      "Bulldog Francês\n",
      "Pastor Alemão\n",
      "Poodle\n"
     ]
    }
   ],
   "source": [
    "raca_caes = ['Labrador Retriever',\n",
    "             'Bulldog Francês',\n",
    "             'Pastor Alemão',\n",
    "             'Poodle']\n",
    "\n",
    "raca_caes.insert(1, 'Golden Retriever')\n",
    "raca_caes\n"
   ]
  },
  {
   "cell_type": "code",
   "execution_count": 64,
   "metadata": {},
   "outputs": [
    {
     "data": {
      "text/plain": [
       "'Golden Retriever'"
      ]
     },
     "execution_count": 64,
     "metadata": {},
     "output_type": "execute_result"
    }
   ],
   "source": [
    "raca_caes.pop(1)\n"
   ]
  },
  {
   "cell_type": "code",
   "execution_count": 65,
   "metadata": {},
   "outputs": [
    {
     "data": {
      "text/plain": [
       "2"
      ]
     },
     "execution_count": 65,
     "metadata": {},
     "output_type": "execute_result"
    }
   ],
   "source": [
    "raca_caes.index('Pastor Alemão')\n"
   ]
  },
  {
   "cell_type": "code",
   "execution_count": 66,
   "metadata": {},
   "outputs": [
    {
     "data": {
      "text/plain": [
       "['Bulldog Francês', 'Labrador Retriever', 'Pastor Alemão', 'Poodle']"
      ]
     },
     "execution_count": 66,
     "metadata": {},
     "output_type": "execute_result"
    }
   ],
   "source": [
    "raca_caes.sort()\n",
    "raca_caes\n"
   ]
  },
  {
   "cell_type": "markdown",
   "metadata": {},
   "source": [
    "## Dicionário\n",
    "\n",
    "dicionário = {chave: valor}"
   ]
  },
  {
   "cell_type": "code",
   "execution_count": 67,
   "metadata": {},
   "outputs": [
    {
     "data": {
      "text/plain": [
       "{'chave_1': 1, 'chave_2': 2}"
      ]
     },
     "execution_count": 67,
     "metadata": {},
     "output_type": "execute_result"
    }
   ],
   "source": [
    "dicionario = {'chave_1':1,\n",
    "              'chave_2':2}\n",
    "dicionario"
   ]
  },
  {
   "cell_type": "code",
   "execution_count": 68,
   "metadata": {},
   "outputs": [
    {
     "data": {
      "text/plain": [
       "{'matricula': 2000168933,\n",
       " 'dia_cadastro': 25,\n",
       " 'mes_cadastro': 10,\n",
       " 'turma': '2E'}"
      ]
     },
     "execution_count": 68,
     "metadata": {},
     "output_type": "execute_result"
    }
   ],
   "source": [
    "cadastro = {'matricula': 2000168933,\n",
    "            'dia_cadastro': 25,\n",
    "            'mes_cadastro': 10,\n",
    "            'turma': '2E'}\n",
    "cadastro"
   ]
  },
  {
   "cell_type": "code",
   "execution_count": 69,
   "metadata": {},
   "outputs": [
    {
     "data": {
      "text/plain": [
       "2000168933"
      ]
     },
     "execution_count": 69,
     "metadata": {},
     "output_type": "execute_result"
    }
   ],
   "source": [
    "cadastro['matricula'] # ou cadastro.matricula"
   ]
  },
  {
   "cell_type": "code",
   "execution_count": 70,
   "metadata": {},
   "outputs": [
    {
     "data": {
      "text/plain": [
       "{'matricula': 2000168933,\n",
       " 'dia_cadastro': 25,\n",
       " 'mes_cadastro': 10,\n",
       " 'turma': '2G'}"
      ]
     },
     "execution_count": 70,
     "metadata": {},
     "output_type": "execute_result"
    }
   ],
   "source": [
    "cadastro['turma'] = '2G'\n",
    "cadastro"
   ]
  },
  {
   "cell_type": "code",
   "execution_count": 71,
   "metadata": {},
   "outputs": [
    {
     "data": {
      "text/plain": [
       "{'matricula': 2000168933,\n",
       " 'dia_cadastro': 25,\n",
       " 'mes_cadastro': 10,\n",
       " 'turma': '2G',\n",
       " 'modalidade': 'EAD'}"
      ]
     },
     "execution_count": 71,
     "metadata": {},
     "output_type": "execute_result"
    }
   ],
   "source": [
    "cadastro['modalidade'] = 'EAD'\n",
    "cadastro"
   ]
  },
  {
   "cell_type": "code",
   "execution_count": 72,
   "metadata": {},
   "outputs": [
    {
     "data": {
      "text/plain": [
       "{'matricula': 2000168933,\n",
       " 'dia_cadastro': 25,\n",
       " 'mes_cadastro': 10,\n",
       " 'modalidade': 'EAD'}"
      ]
     },
     "execution_count": 72,
     "metadata": {},
     "output_type": "execute_result"
    }
   ],
   "source": [
    "cadastro.pop('turma')\n",
    "cadastro"
   ]
  },
  {
   "cell_type": "code",
   "execution_count": 73,
   "metadata": {},
   "outputs": [
    {
     "data": {
      "text/plain": [
       "dict_items([('matricula', 2000168933), ('dia_cadastro', 25), ('mes_cadastro', 10), ('modalidade', 'EAD')])"
      ]
     },
     "execution_count": 73,
     "metadata": {},
     "output_type": "execute_result"
    }
   ],
   "source": [
    "cadastro.items()"
   ]
  },
  {
   "cell_type": "code",
   "execution_count": 74,
   "metadata": {},
   "outputs": [
    {
     "data": {
      "text/plain": [
       "dict_keys(['matricula', 'dia_cadastro', 'mes_cadastro', 'modalidade'])"
      ]
     },
     "execution_count": 74,
     "metadata": {},
     "output_type": "execute_result"
    }
   ],
   "source": [
    "cadastro.keys()"
   ]
  },
  {
   "cell_type": "code",
   "execution_count": 75,
   "metadata": {},
   "outputs": [
    {
     "data": {
      "text/plain": [
       "dict_values([2000168933, 25, 10, 'EAD'])"
      ]
     },
     "execution_count": 75,
     "metadata": {},
     "output_type": "execute_result"
    }
   ],
   "source": [
    "cadastro.values()"
   ]
  },
  {
   "cell_type": "code",
   "execution_count": 76,
   "metadata": {},
   "outputs": [
    {
     "name": "stdout",
     "output_type": "stream",
     "text": [
      "2000168933\n",
      "25\n",
      "10\n",
      "EAD\n"
     ]
    }
   ],
   "source": [
    "for chaves in cadastro.keys():\n",
    "  print(cadastro[chaves])"
   ]
  },
  {
   "cell_type": "code",
   "execution_count": 77,
   "metadata": {},
   "outputs": [
    {
     "name": "stdout",
     "output_type": "stream",
     "text": [
      "2000168933\n",
      "25\n",
      "10\n",
      "EAD\n"
     ]
    }
   ],
   "source": [
    "for valores in cadastro.values():\n",
    "  print(valores)"
   ]
  },
  {
   "cell_type": "code",
   "execution_count": 78,
   "metadata": {},
   "outputs": [
    {
     "name": "stdout",
     "output_type": "stream",
     "text": [
      "matricula 2000168933\n",
      "dia_cadastro 25\n",
      "mes_cadastro 10\n",
      "modalidade EAD\n"
     ]
    }
   ],
   "source": [
    "for chaves, valores in cadastro.items():\n",
    "  print(chaves, valores)"
   ]
  },
  {
   "cell_type": "markdown",
   "metadata": {},
   "source": [
    "## Hora da prática"
   ]
  },
  {
   "cell_type": "markdown",
   "metadata": {},
   "source": [
    "### 1.  Faça um programa que tenha a seguinte lista contendo os valores de gastos de uma empresa de papel [2172.54, 3701.35, 3518.09, 3456.61, 3249.38, 2840.82, 3891.45, 3075.26, 2317.64, 3219.08]. Com esses valores, faça um programa que calcule a média de gastos. Dica: use as funções built-in sum() e len()."
   ]
  },
  {
   "cell_type": "code",
   "execution_count": 82,
   "metadata": {},
   "outputs": [
    {
     "data": {
      "text/plain": [
       "3144.222"
      ]
     },
     "execution_count": 82,
     "metadata": {},
     "output_type": "execute_result"
    }
   ],
   "source": [
    "gastos = [2172.54, 3701.35, 3518.09, 3456.61, 3249.38, 2840.82, 3891.45, 3075.26, 2317.64, 3219.08]\n",
    "\n",
    "sum(gastos) / len(gastos)"
   ]
  },
  {
   "cell_type": "markdown",
   "metadata": {},
   "source": [
    "### 3. Com os mesmos dados da questão anterior, defina quantas compras foram realizadas acima de 3000 reais e calcule a porcentagem quanto ao total de compras."
   ]
  },
  {
   "cell_type": "code",
   "execution_count": 88,
   "metadata": {},
   "outputs": [
    {
     "name": "stdout",
     "output_type": "stream",
     "text": [
      "Quantidade de compras acima de 3000: 7\n",
      "Porcentagem em relação ao número de compras 70.0%\n"
     ]
    }
   ],
   "source": [
    "valor_3000 = []\n",
    "\n",
    "for valor in gastos:\n",
    "    if valor > 3000:\n",
    "        valor_3000.append(valor)\n",
    "\n",
    "print(f'Quantidade de compras acima de 3000: {len(valor_3000)}')\n",
    "print(f'Porcentagem em relação ao número de compras {len(valor_3000) / len(gastos) * 100}%')"
   ]
  },
  {
   "cell_type": "markdown",
   "metadata": {},
   "source": [
    "### 3. Faça um código que colete em uma lista 5 números inteiros quaisquer e imprima a lista. \n",
    "\n",
    "Exemplo: [1,4,7,2,4]."
   ]
  },
  {
   "cell_type": "code",
   "execution_count": 93,
   "metadata": {},
   "outputs": [
    {
     "name": "stdout",
     "output_type": "stream",
     "text": [
      "[49, 3, 2, 5, 4]\n"
     ]
    }
   ],
   "source": [
    "numeros = []\n",
    "\n",
    "for i in range(5):\n",
    "    numeros.append(int(input(f'Insira o número {i + 1}')))\n",
    "\n",
    "print(numeros)\n",
    "    "
   ]
  },
  {
   "cell_type": "markdown",
   "metadata": {},
   "source": [
    "### 4. Colete novamente 5 inteiros e imprima a lista em ordem inversa à enviada."
   ]
  },
  {
   "cell_type": "code",
   "execution_count": 95,
   "metadata": {},
   "outputs": [
    {
     "name": "stdout",
     "output_type": "stream",
     "text": [
      "5\n",
      "4\n",
      "3\n",
      "2\n",
      "1\n"
     ]
    }
   ],
   "source": [
    "numeros = []\n",
    "\n",
    "for i in range(5):\n",
    "    numeros.append(int(input(f'Insira o número {i + 1}')))\n",
    "\n",
    "for i in range(4, -1, -1):\n",
    "    print(numeros[i])"
   ]
  },
  {
   "cell_type": "markdown",
   "metadata": {},
   "source": [
    "### 5.  Faça um programa que, ao inserir um número qualquer, cria uma lista contendo todos os números primos entre 1 e o número digitado."
   ]
  },
  {
   "cell_type": "code",
   "execution_count": 114,
   "metadata": {},
   "outputs": [],
   "source": [
    "def is_primo(number, primos):\n",
    "    for i in range(2, number):\n",
    "        if number % i == 0:\n",
    "            break\n",
    "    else:\n",
    "        primos.append(number)"
   ]
  },
  {
   "cell_type": "code",
   "execution_count": 116,
   "metadata": {},
   "outputs": [
    {
     "data": {
      "text/plain": [
       "[1, 2, 3, 5, 7]"
      ]
     },
     "execution_count": 116,
     "metadata": {},
     "output_type": "execute_result"
    }
   ],
   "source": [
    "entrada = int(input('Insira um valor maior que 1'))\n",
    "primos = []\n",
    "\n",
    "for i in range(1, entrada):\n",
    "    if is_primo(i, primos):\n",
    "        primos.append(i)\n",
    "\n",
    "\n",
    "\n",
    "\n",
    "primos"
   ]
  },
  {
   "cell_type": "markdown",
   "metadata": {},
   "source": [
    "### 6. Escreva um programa que peça uma data informando o dia, mês e ano e determine se ela é válida para uma análise."
   ]
  },
  {
   "cell_type": "code",
   "execution_count": 159,
   "metadata": {},
   "outputs": [
    {
     "name": "stdout",
     "output_type": "stream",
     "text": [
      "Data inválida\n"
     ]
    }
   ],
   "source": [
    "calendario = {\n",
    "    'mes': [1, 2, 3, 4, 5, 6, 7, 8, 9, 10, 11, 12],\n",
    "    'dias': [31, 28, 31, 30, 31, 30, 31, 31, 30, 31, 30, 31]\n",
    "}\n",
    "\n",
    "input_dia = int(input('Insira o dia'))\n",
    "input_mes = int(input('Insira o mês'))\n",
    "input_ano = int(input('Insira o ano'))\n",
    "\n",
    "if input_mes < 13:\n",
    "    index_mes = calendario['mes'].index(input_mes)\n",
    "\n",
    "\n",
    "if (input_dia > calendario['dias'][index_mes]) or (input_dia < 1) or (input_mes < 1 or input_mes > 12):\n",
    "    print('Data inválida')\n",
    "else:\n",
    "    print('Data Válida')"
   ]
  },
  {
   "cell_type": "markdown",
   "metadata": {},
   "source": [
    "### 7. Para um estudo envolvendo o nível de multiplicação de bactérias em uma colônia, foi coletado o número de bactérias por dia (em milhares) e pode ser observado a seguir: [1.2, 2.1, 3.3, 5.0, 7.8, 11.3, 16.6, 25.1, 37.8, 56.9]. Tendo esses valores, faça um código que gere uma lista contendo o percentual de crescimento de bactérias por dia, comparando o número de bactérias em cada dia com o número de bactérias do dia anterior. \n",
    "\n",
    "Dica: para calcular o percentual de crescimento usamos a seguinte equação: 100 * (amostra_atual - amostra_passada) / (amostra_passada)."
   ]
  },
  {
   "cell_type": "code",
   "execution_count": 167,
   "metadata": {},
   "outputs": [
    {
     "name": "stdout",
     "output_type": "stream",
     "text": [
      "Dia 1: 75.0%\n",
      "Dia 2: 57.14%\n",
      "Dia 3: 51.52%\n",
      "Dia 4: 56.0%\n",
      "Dia 5: 44.87%\n",
      "Dia 6: 46.9%\n",
      "Dia 7: 51.2%\n",
      "Dia 8: 50.6%\n",
      "Dia 9: 50.53%\n"
     ]
    }
   ],
   "source": [
    "bacterias = [1.2, 2.1, 3.3, 5.0, 7.8, 11.3, 16.6, 25.1, 37.8, 56.9]\n",
    "resultado = []\n",
    "\n",
    "for i in range(1, len(bacterias)):\n",
    "    resultado.append(100 * (bacterias[i] - bacterias[i-1]) / bacterias[i-1])\n",
    "\n",
    "for i in range(0, len(resultado)):\n",
    "    print(f'Dia {i + 1}: {round(resultado[i], 2)}%')"
   ]
  },
  {
   "cell_type": "markdown",
   "metadata": {},
   "source": [
    "### 8. Para uma seleção de produtos alimentícios, precisamos separar o conjunto de IDs dados por números inteiros sabendo que os produtos com ID par são doces e os com ID ímpar são amargos. Monte um código que colete 10 IDs. Depois, calcule e mostre a quantidade de produtos doces e amargos."
   ]
  },
  {
   "cell_type": "code",
   "execution_count": 216,
   "metadata": {},
   "outputs": [
    {
     "name": "stdout",
     "output_type": "stream",
     "text": [
      "Doces: 5\n",
      "Amargos: 5\n"
     ]
    }
   ],
   "source": [
    "import random\n",
    "ids = []\n",
    "doces = amargos = 0\n",
    "\n",
    "for i in range(10):\n",
    "    ids.append(random.randint(1, 100))\n",
    "\n",
    "for id in ids:\n",
    "    if id % 2 == 0:\n",
    "        doces += 1\n",
    "    else:\n",
    "        amargos += 1\n",
    "\n",
    "print(f'Doces: {doces}\\nAmargos: {amargos}')"
   ]
  },
  {
   "cell_type": "markdown",
   "metadata": {},
   "source": [
    "### 9. Desenvolva um programa que informa a nota de um(a) aluno(a) de acordo com suas respostas. Ele deve pedir a resposta desse(a) aluno(a) para cada questão e é preciso verificar se a resposta foi igual ao gabarito. Cada questão vale um ponto e existem as alternativas A, B, C ou D."
   ]
  },
  {
   "cell_type": "markdown",
   "metadata": {},
   "source": [
    "Gabarito da prova:\\\n",
    "01 - D\\\n",
    "02 - A\\\n",
    "03 - C\\\n",
    "04 - B\\\n",
    "05 - A\\\n",
    "06 - D\\\n",
    "07 - C\\\n",
    "08 - C\\\n",
    "09 - A\\\n",
    "10 - B"
   ]
  },
  {
   "cell_type": "code",
   "execution_count": 312,
   "metadata": {},
   "outputs": [
    {
     "name": "stdout",
     "output_type": "stream",
     "text": [
      "Corretas: 4\n",
      "Erradas: 6\n"
     ]
    }
   ],
   "source": [
    "alternativas = ['A', 'B', 'C', 'D']\n",
    "\n",
    "gabarito = ['D', 'A', 'C', 'B', 'A', 'D', 'C', 'C', 'A', 'B']\n",
    "\n",
    "respostas = []\n",
    "\n",
    "corretas = erradas = 0\n",
    "\n",
    "for i in range(10):\n",
    "    respostas.append(alternativas[random.randint(0, 3)])\n",
    "\n",
    "for i in range(len(gabarito)):\n",
    "    if respostas[i] == gabarito[i]:\n",
    "        corretas += 1\n",
    "\n",
    "erradas = 10 - corretas\n",
    "\n",
    "print(f'Corretas: {corretas}\\nErradas: {erradas}')"
   ]
  },
  {
   "cell_type": "markdown",
   "metadata": {},
   "source": [
    "### 10. Um instituto de meteorologia deseja fazer um estudo de temperatura média de cada mês do ano. Para isso, você precisa fazer um código que colete e armazene essas temperaturas médias em uma lista. Depois, calcule a média anual das temperaturas e mostre todas as temperaturas acima da média anual e em que mês elas ocorreram, mostrando os meses por extenso (Janeiro, Fevereiro, etc.)."
   ]
  },
  {
   "cell_type": "code",
   "execution_count": 332,
   "metadata": {},
   "outputs": [
    {
     "name": "stdout",
     "output_type": "stream",
     "text": [
      "Temperaturas do ano\n",
      "janeiro: 28.16\n",
      "fevereiro: 23.57\n",
      "marco: 27.91\n",
      "abril: 23.95\n",
      "maio: 24.11\n",
      "junho: 24.56\n",
      "julho: 25.24\n",
      "agosto: 25.87\n",
      "setembro: 25.15\n",
      "outubro: 28.16\n",
      "novembro: 21.54\n",
      "dezembro: 24.63\n",
      "\n",
      "Temperatura média do ano: 25.2375\n",
      "\n",
      "Temperaturas acima da média\n",
      "janeiro: 28.16\n",
      "marco: 27.91\n",
      "julho: 25.24\n",
      "agosto: 25.87\n",
      "outubro: 28.16\n"
     ]
    }
   ],
   "source": [
    "meses = ['janeiro', 'fevereiro', 'marco', 'abril', 'maio', 'junho', 'julho', 'agosto', 'setembro', 'outubro', 'novembro', 'dezembro']\n",
    "\n",
    "temperatuas_medias_mes = []\n",
    "\n",
    "for i in range(12):\n",
    "    temperatuas_medias_mes.append(round(random.uniform(20, 30), 2))\n",
    "\n",
    "temperatura_media_ano = sum(temperatuas_medias_mes) / len(temperatuas_medias_mes)\n",
    "temperatura_media_ano\n",
    "\n",
    "print('Temperaturas do ano')\n",
    "for i in range(12):\n",
    "    print(f'{meses[i]}: {temperatuas_medias_mes[i]}')\n",
    "\n",
    "print()\n",
    "\n",
    "print(f'Temperatura média do ano: {temperatura_media_ano}')\n",
    "\n",
    "print() \n",
    "\n",
    "print('Temperaturas acima da média')\n",
    "for i in range(12):\n",
    "    if temperatuas_medias_mes[i] > temperatura_media_ano:\n",
    "            print(f'{meses[i]}: {temperatuas_medias_mes[i]}')"
   ]
  },
  {
   "cell_type": "markdown",
   "metadata": {},
   "source": [
    "### 11. Uma empresa de e-commerce está interessada em analisar as vendas dos seus produtos. Os dados das vendas foram armazenados em um dicionário:"
   ]
  },
  {
   "cell_type": "markdown",
   "metadata": {},
   "source": [
    "{'Produto A': 300, 'Produto B': 80, 'Produto C': 60,\\\n",
    " 'Produto D': 200, 'Produto E': 250, 'Produto F': 30}\n",
    "\n",
    " Escreva um código que calcule o total de vendas e o produto mais vendido.\n"
   ]
  },
  {
   "cell_type": "code",
   "execution_count": 382,
   "metadata": {},
   "outputs": [
    {
     "name": "stdout",
     "output_type": "stream",
     "text": [
      "Total de vendas: 920\n",
      "Mais vendido: Produto A 300 vendas\n"
     ]
    }
   ],
   "source": [
    "produtos = {\n",
    "    'Produto A': 300,\n",
    "    'Produto B': 80, \n",
    "    'Produto C': 60,\n",
    "    'Produto D': 200,\n",
    "    'Produto E': 250,\n",
    "    'Produto F': 30\n",
    "}\n",
    "\n",
    "valores = produtos.values()\n",
    "total = 0\n",
    "mais_vendido = 0\n",
    "\n",
    "for valor in valores:\n",
    "    total += valor\n",
    "\n",
    "print(f'Total de vendas: {total}')\n",
    "\n",
    "maior_valor = max(produtos.values())\n",
    "\n",
    "for produto in produtos.keys():\n",
    "    if produtos[produto] == maior_valor:\n",
    "        print(f'Mais vendido: {produto} {maior_valor} vendas')\n"
   ]
  },
  {
   "cell_type": "markdown",
   "metadata": {},
   "source": [
    "### 12. Uma pesquisa de mercado foi feita para decidir qual design de marca infantil mais agrada as crianças. A pesquisa foi feita e o votos computados podem ser observados abaixo:\n",
    "\n",
    "Tabela de votos da marca\\\n",
    "Design 1 - 1334 votos\\\n",
    "Design 2 - 982 votos\\\n",
    "Design 3 - 1751 votos\\\n",
    "Design 4 - 210 votos\\\n",
    "Design 5 - 1811 votos\n",
    "\n",
    "Adapte os dados fornecidos para uma estrutura de dicionário. A partir dele, informe o design vencedor e a porcentagem de votos recebidos."
   ]
  },
  {
   "cell_type": "code",
   "execution_count": 16,
   "metadata": {},
   "outputs": [
    {
     "name": "stdout",
     "output_type": "stream",
     "text": [
      "Vencedor: Design 5 com 1811 votos (29.75% do total de votos)\n"
     ]
    }
   ],
   "source": [
    "votos = {\n",
    "    'Design 1': 1334,\n",
    "    'Design 2': 982,\n",
    "    'Design 3': 1751,\n",
    "    'Design 4': 210,\n",
    "    'Design 5': 1811\n",
    "}\n",
    "\n",
    "total_votos = sum(votos.values())\n",
    "mais_votos = max(votos.values())\n",
    "\n",
    "for design in votos.keys():\n",
    "    if votos[design] == mais_votos:\n",
    "        print(f'Vencedor: {design} com {mais_votos} votos ({round(mais_votos / total_votos * 100, 2)}% do total de votos)')"
   ]
  },
  {
   "cell_type": "markdown",
   "metadata": {},
   "source": [
    "### 13. As pessoas colaboradoras de um setor da empresa que você trabalha vão receber um abono correspondente a 10% do salário devido ao ótimo desempenho do time. O setor financeiro solicitou sua ajuda para a verificação das consequências financeiras que esse abono irá gerar nos recursos. Assim, foi encaminhada para você uma lista com os salários que receberão o abono: [1172, 1644, 2617, 5130, 5532, 6341, 6650, 7238, 7685, 7782, 7903]. O abono de cada colaborador(a) não pode ser inferior a 200. Em código, transforme cada um dos salários em chaves de um dicionário e o abono de cada salário no elemento. Depois, informe o total de gastos com o abono, quantos(as) colaboradores(as) receberam o abono mínimo e qual o maior valor de abono fornecido."
   ]
  },
  {
   "cell_type": "code",
   "execution_count": 37,
   "metadata": {},
   "outputs": [
    {
     "name": "stdout",
     "output_type": "stream",
     "text": [
      " \n",
      "Total de gastos com o abono: 6087.8\n",
      "Quantidade de colaboradores que receberam o mínimo: 2\n",
      "Maior valor de abono: 790.3\n",
      "\n"
     ]
    }
   ],
   "source": [
    "resultado = {\n",
    "    'salarios': [1172, 1644, 2617, 5130, 5532, 6341, 6650, 7238, 7685, 7782, 7903],\n",
    "    'taxa': []\n",
    "}\n",
    "\n",
    "for salario in resultado['salarios']:\n",
    "    taxa = salario * 0.1\n",
    "    if taxa < 200:\n",
    "        resultado['taxa'].append(200)\n",
    "    else:\n",
    "        resultado['taxa'].append(taxa)\n",
    "\n",
    "total_gasto = sum(resultado['taxa'])\n",
    "contagem_abono_minimo = resultado['taxa'].count(200)\n",
    "maior_abono = round(max(resultado['taxa']), 2)\n",
    "\n",
    "print(f''' \n",
    "Total de gastos com o abono: {total_gasto}\n",
    "Quantidade de colaboradores que receberam o mínimo: {contagem_abono_minimo}\n",
    "Maior valor de abono: {maior_abono}\n",
    "''')\n"
   ]
  },
  {
   "cell_type": "markdown",
   "metadata": {},
   "source": [
    "### 14.  Uma equipe de cientistas de dados está estudando a diversidade biológica em uma floresta. A equipe fez a coleta de informações sobre o número de espécies de plantas e animais em cada área dessa floresta e armazenou essas informações em um dicionário. Nele, a chave descreve a área dos dados e os valores nas listas correspondem às espécies de plantas e animais nas áreas, respectivamente."
   ]
  },
  {
   "cell_type": "markdown",
   "metadata": {},
   "source": [
    "{'Área Norte': [2819, 7236],\\\n",
    " 'Área Leste': [1440, 9492],\\\n",
    " 'Área Sul': [5969, 7496],\\\n",
    " 'Área Oeste': [14446, 49688],\\\n",
    " 'Área Centro': [22558, 45148]\\\n",
    "}\n"
   ]
  },
  {
   "cell_type": "markdown",
   "metadata": {},
   "source": [
    "Escreva um código para calcular a média de espécies por área e identificar a área com a maior diversidade biológica. "
   ]
  },
  {
   "cell_type": "code",
   "execution_count": 47,
   "metadata": {},
   "outputs": [
    {
     "name": "stdout",
     "output_type": "stream",
     "text": [
      "A Área Norte tem a média de 5027.5 espécies\n",
      "A Área Leste tem a média de 5466.0 espécies\n",
      "A Área Sul tem a média de 6732.5 espécies\n",
      "A Área Oeste tem a média de 32067.0 espécies\n",
      "A Área Centro tem a média de 33853.0 espécies\n",
      "Média geral de espécies: 16629.2\n",
      "Área com a maior diversidade biológica: Área Centro\n"
     ]
    }
   ],
   "source": [
    "dados = {'Área Norte': [2819, 7236],\n",
    "         'Área Leste': [1440, 9492],\n",
    "         'Área Sul': [5969, 7496],\n",
    "         'Área Oeste': [14446, 49688],\n",
    "         'Área Centro': [22558, 45148]}\n",
    "\n",
    "soma_media = 0\n",
    "maior_diversidade = '' \n",
    "maior_soma = 0 \n",
    "\n",
    "for area, especies in dados.items():\n",
    "  soma_especies = sum(especies)\n",
    "  media = soma_especies / len(especies)\n",
    "  print(f'A {area} tem a média de {media} espécies')\n",
    "  if soma_especies > maior_soma:\n",
    "      maior_soma = soma_especies\n",
    "      maior_diversidade = area\n",
    "  soma_media += media\n",
    "media_total = soma_media / len(dados)\n",
    "print(f'Média geral de espécies: {media_total}')\n",
    "print(f'Área com a maior diversidade biológica: {maior_diversidade}')\n",
    "\n"
   ]
  },
  {
   "cell_type": "markdown",
   "metadata": {},
   "source": [
    "### 15. O setor de RH da sua empresa te pediu uma ajuda para analisar as idades de colaboradores(as) de 4 setores da empresa. Para isso, foram fornecidos os seguintes dados:"
   ]
  },
  {
   "cell_type": "markdown",
   "metadata": {},
   "source": [
    "{\\\n",
    " 'Setor A': [22, 26, 30, 30, 35, 38, 40, 56, 57, 65],\\\n",
    " 'Setor B': [22, 24, 26, 33, 41, 49, 50, 54, 60, 64],\\\n",
    " 'Setor C': [23, 26, 26, 29, 34, 35, 36, 41, 52, 56],\\\n",
    " 'Setor D': [19, 20, 25, 27, 34, 39, 42, 44, 50, 65]\\\n",
    "}\n"
   ]
  },
  {
   "cell_type": "markdown",
   "metadata": {},
   "source": [
    "Sabendo que cada setor tem 10 colaboradores(as), construa um código que calcule a média de idade de cada setor, a idade média geral entre todos os setores e quantas pessoas estão acima da idade média geral."
   ]
  },
  {
   "cell_type": "code",
   "execution_count": 75,
   "metadata": {},
   "outputs": [
    {
     "name": "stdout",
     "output_type": "stream",
     "text": [
      "Média de idade do Setor A: 39.9\n",
      "Média de idade do Setor B: 42.3\n",
      "Média de idade do Setor C: 35.8\n",
      "Média de idade do Setor D: 36.5\n",
      "Média total: 38.625\n",
      "Acima da média geral: 18\n"
     ]
    }
   ],
   "source": [
    "idades = {\n",
    "    'Setor A': [22, 26, 30, 30, 35, 38, 40, 56, 57, 65],\n",
    "    'Setor B': [22, 24, 26, 33, 41, 49, 50, 54, 60, 64],\n",
    "    'Setor C': [23, 26, 26, 29, 34, 35, 36, 41, 52, 56],\n",
    "    'Setor D': [19, 20, 25, 27, 34, 39, 42, 44, 50, 65]\n",
    "}\n",
    "\n",
    "total_idades = 0\n",
    "\n",
    "for setor, idade in idades.items():\n",
    "    print(f'Média de idade do {setor}: {sum(idade) / len(idade)}')\n",
    "    total_idades += sum(idade)\n",
    "\n",
    "\n",
    "media_total = total_idades / (len(idades) * len(idade))\n",
    "print(f'Média total: {media_total}')\n",
    "\n",
    "acima_media = 0\n",
    "\n",
    "for idade in idades.values():\n",
    "    for valor in idade:\n",
    "        if valor > media_total:\n",
    "            acima_media += 1\n",
    "\n",
    "print(f'Acima da média geral: {acima_media}')\n",
    "\n"
   ]
  }
 ],
 "metadata": {
  "kernelspec": {
   "display_name": "base",
   "language": "python",
   "name": "python3"
  },
  "language_info": {
   "codemirror_mode": {
    "name": "ipython",
    "version": 3
   },
   "file_extension": ".py",
   "mimetype": "text/x-python",
   "name": "python",
   "nbconvert_exporter": "python",
   "pygments_lexer": "ipython3",
   "version": "3.9.13"
  }
 },
 "nbformat": 4,
 "nbformat_minor": 2
}
