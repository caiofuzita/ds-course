{
 "cells": [
  {
   "cell_type": "markdown",
   "metadata": {},
   "source": [
    "# Começando com Python"
   ]
  },
  {
   "cell_type": "code",
   "execution_count": 3,
   "metadata": {},
   "outputs": [
    {
     "name": "stdout",
     "output_type": "stream",
     "text": [
      "Olá mundo!\n",
      "10\n",
      "Caio 21\n"
     ]
    }
   ],
   "source": [
    "print('Olá mundo!') #imprimindo strings\n",
    "print(10) #imprimindo números\n",
    "print('Caio', 21) #concatenando strings e números"
   ]
  },
  {
   "cell_type": "markdown",
   "metadata": {},
   "source": [
    "## Hora da prática"
   ]
  },
  {
   "cell_type": "markdown",
   "metadata": {},
   "source": [
    "### 1. Imprima a frase Escola de Dados da Alura!."
   ]
  },
  {
   "cell_type": "code",
   "execution_count": 4,
   "metadata": {},
   "outputs": [
    {
     "name": "stdout",
     "output_type": "stream",
     "text": [
      "Escola de dados da Alura!\n"
     ]
    }
   ],
   "source": [
    "print('Escola de dados da Alura!')"
   ]
  },
  {
   "cell_type": "markdown",
   "metadata": {},
   "source": [
    "### 2. Imprima seu nome e seu sobrenome seguindo a estrutura abaixo:\n",
    "\n",
    "Nome: [seu nome] \\\n",
    "Sobrenome: [seu sobrenome]"
   ]
  },
  {
   "cell_type": "code",
   "execution_count": 8,
   "metadata": {},
   "outputs": [
    {
     "name": "stdout",
     "output_type": "stream",
     "text": [
      "Nome: Caio \n",
      "Sobrenome: Fuzita\n"
     ]
    }
   ],
   "source": [
    "print('Nome: Caio', '\\nSobrenome: Fuzita')"
   ]
  },
  {
   "cell_type": "markdown",
   "metadata": {},
   "source": [
    "### 3. Imprima o seu primeiro nome letra a letra. \n",
    "Por exemplo, meu nome é Mirla, então eu obtenho a seguinte saída:\\\n",
    "M\\\n",
    "I\\\n",
    "R\\\n",
    "L\\\n",
    "A"
   ]
  },
  {
   "cell_type": "code",
   "execution_count": 11,
   "metadata": {},
   "outputs": [
    {
     "name": "stdout",
     "output_type": "stream",
     "text": [
      "C\n",
      "A\n",
      "I\n",
      "O\n"
     ]
    }
   ],
   "source": [
    "print('C')\n",
    "print('A')\n",
    "print('I')\n",
    "print('O')"
   ]
  },
  {
   "cell_type": "markdown",
   "metadata": {},
   "source": [
    "### 4. Imprima o dia do seu nascimento em formato dia mês ano\n",
    "Lembrando que os valores de dia e ano não podem estar entre aspas. Supondo uma data de aniversário dia 28 de fevereiro de 2003, o formato deve estar como no exemplo abaixo:\\\n",
    "28 fevereiro 2003"
   ]
  },
  {
   "cell_type": "code",
   "execution_count": 12,
   "metadata": {},
   "outputs": [
    {
     "name": "stdout",
     "output_type": "stream",
     "text": [
      "29 fevereiro 2024\n"
     ]
    }
   ],
   "source": [
    "print(29, 'fevereiro', 2024)"
   ]
  },
  {
   "cell_type": "markdown",
   "metadata": {},
   "source": [
    "### 5. Imprima, em um único print, o atual ano que você está fazendo esse curso\n",
    "O valor do ano deve ser um dado numérico e a saída do print deve ser a seguinte:\\\n",
    "Ano atual: [ano]"
   ]
  },
  {
   "cell_type": "code",
   "execution_count": 13,
   "metadata": {},
   "outputs": [
    {
     "name": "stdout",
     "output_type": "stream",
     "text": [
      "Ano atual: 2024\n"
     ]
    }
   ],
   "source": [
    "print('Ano atual:', 2024)"
   ]
  }
 ],
 "metadata": {
  "kernelspec": {
   "display_name": "base",
   "language": "python",
   "name": "python3"
  },
  "language_info": {
   "codemirror_mode": {
    "name": "ipython",
    "version": 3
   },
   "file_extension": ".py",
   "mimetype": "text/x-python",
   "name": "python",
   "nbconvert_exporter": "python",
   "pygments_lexer": "ipython3",
   "version": "3.9.13"
  }
 },
 "nbformat": 4,
 "nbformat_minor": 2
}
