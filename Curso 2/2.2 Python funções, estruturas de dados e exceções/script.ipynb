{
 "cells": [
  {
   "cell_type": "markdown",
   "metadata": {},
   "source": [
    "# Bibliotecas"
   ]
  },
  {
   "cell_type": "code",
   "execution_count": 6,
   "metadata": {},
   "outputs": [
    {
     "data": {
      "text/plain": [
       "<module 'matplotlib.pyplot' from 'C:\\\\Users\\\\Caio Fuzita\\\\AppData\\\\Roaming\\\\Python\\\\Python39\\\\site-packages\\\\matplotlib\\\\pyplot.py'>"
      ]
     },
     "execution_count": 6,
     "metadata": {},
     "output_type": "execute_result"
    }
   ],
   "source": [
    "import matplotlib.pyplot as plt\n",
    "plt"
   ]
  },
  {
   "cell_type": "code",
   "execution_count": 7,
   "metadata": {},
   "outputs": [
    {
     "data": {
      "text/plain": [
       "<BarContainer object of 3 artists>"
      ]
     },
     "execution_count": 7,
     "metadata": {},
     "output_type": "execute_result"
    },
    {
     "data": {
      "image/png": "[encoded data removed]",
      "text/plain": [
       "<Figure size 640x480 with 1 Axes>"
      ]
     },
     "metadata": {},
     "output_type": "display_data"
    }
   ],
   "source": [
    "estudantes = [\"João\", \"Maria\", \"José\"]\n",
    "notas = [8.5, 9, 6.5]\n",
    "\n",
    "plt.bar(x=estudantes, height=notas)"
   ]
  },
  {
   "cell_type": "code",
   "execution_count": 13,
   "metadata": {},
   "outputs": [
    {
     "data": {
      "text/plain": [
       "'Ana'"
      ]
     },
     "execution_count": 13,
     "metadata": {},
     "output_type": "execute_result"
    }
   ],
   "source": [
    "estudantes_2 = [\"João\", \"Maria\", \"José\", \"Ana\"]\n",
    "\n",
    "from random import choice\n",
    "\n",
    "estudante = choice(estudantes_2)\n",
    "estudante\n"
   ]
  },
  {
   "cell_type": "markdown",
   "metadata": {},
   "source": [
    "## Hora da prática"
   ]
  },
  {
   "cell_type": "markdown",
   "metadata": {},
   "source": [
    "### 1.  Escreva um código para instalar a biblioteca matplotlib."
   ]
  },
  {
   "cell_type": "code",
   "execution_count": 14,
   "metadata": {},
   "outputs": [],
   "source": [
    "import matplotlib as plt"
   ]
  },
  {
   "cell_type": "markdown",
   "metadata": {},
   "source": [
    "### 2. Escreva um código para importar a biblioteca numpy com o alias np."
   ]
  },
  {
   "cell_type": "code",
   "execution_count": 15,
   "metadata": {},
   "outputs": [],
   "source": [
    "import numpy as np"
   ]
  },
  {
   "cell_type": "markdown",
   "metadata": {},
   "source": [
    "### 3.  Crie um programa que leia a seguinte lista de números e escolha um número desta aleatoriamente."
   ]
  },
  {
   "cell_type": "markdown",
   "metadata": {},
   "source": [
    "lista = [8, 12, 54, 23, 43, 1, 90, 87, 105, 77]"
   ]
  },
  {
   "cell_type": "code",
   "execution_count": 21,
   "metadata": {},
   "outputs": [
    {
     "data": {
      "text/plain": [
       "87"
      ]
     },
     "execution_count": 21,
     "metadata": {},
     "output_type": "execute_result"
    }
   ],
   "source": [
    "from random import choice\n",
    "\n",
    "lista = [8, 12, 54, 23, 43, 1, 90, 87, 105, 77]\n",
    "\n",
    "resultado = choice(lista)\n",
    "resultado"
   ]
  },
  {
   "cell_type": "markdown",
   "metadata": {},
   "source": [
    "### 4. Crie um programa que sorteia, aleatoriamente, um número inteiro menor que 100."
   ]
  },
  {
   "cell_type": "code",
   "execution_count": 37,
   "metadata": {},
   "outputs": [
    {
     "name": "stdout",
     "output_type": "stream",
     "text": [
      "25\n"
     ]
    }
   ],
   "source": [
    "import random\n",
    "\n",
    "print(random.randrange(100))"
   ]
  },
  {
   "cell_type": "markdown",
   "metadata": {},
   "source": [
    "### 5. Crie um programa que solicite à pessoa usuária digitar dois números inteiros e calcular a potência do 1º número elevado ao 2º."
   ]
  },
  {
   "cell_type": "code",
   "execution_count": 88,
   "metadata": {},
   "outputs": [
    {
     "name": "stdout",
     "output_type": "stream",
     "text": [
      "2.0^3.0 = 8.0\n"
     ]
    }
   ],
   "source": [
    "import math\n",
    "\n",
    "num_1 = float(input('Insira o primeiro número: '))\n",
    "num_2 = float(input('Insira o segundo número: '))\n",
    "\n",
    "print(f'{num_1}^{num_2} = {pow(num_1, num_2)}')\n"
   ]
  },
  {
   "cell_type": "markdown",
   "metadata": {},
   "source": [
    "### 6. Um programa deve ser escrito para sortear uma pessoa seguidora de uma rede social para ganhar um prêmio. A lista de participantes é numerada e devemos escolher aleatoriamente um número de acordo com a quantidade de participantes. Peça à pessoa usuária para fornecer o número de participantes do sorteio e devolva para ela o número sorteado."
   ]
  },
  {
   "cell_type": "code",
   "execution_count": 43,
   "metadata": {},
   "outputs": [
    {
     "name": "stdout",
     "output_type": "stream",
     "text": [
      "O ganhador foi: 146\n"
     ]
    }
   ],
   "source": [
    "num_participantes = int(input('Insira o número de participantes'))\n",
    "\n",
    "print(f'O ganhador foi: {random.randint(1, num_participantes)}')"
   ]
  },
  {
   "cell_type": "markdown",
   "metadata": {},
   "source": [
    "### 7. Você recebeu uma demanda para gerar números de token para acessar o aplicativo de uma empresa. O token precisa ser par e variar de 1000 até 9998. Escreva um código que solicita à pessoa usuária o seu nome e exibe uma mensagem junto a esse token gerado aleatoriamente."
   ]
  },
  {
   "cell_type": "code",
   "execution_count": 70,
   "metadata": {},
   "outputs": [
    {
     "name": "stdout",
     "output_type": "stream",
     "text": [
      "Olá, Caio, o seu token de acesso é 5070, seja bem-vindo(a)!\n"
     ]
    }
   ],
   "source": [
    "nome = input('Insira seu nome: ')\n",
    "\n",
    "token = random.randrange(1000, 9998, 2)\n",
    "\n",
    "print(f'Olá, {nome}, o seu token de acesso é {token}, seja bem-vindo(a)!')"
   ]
  },
  {
   "cell_type": "markdown",
   "metadata": {},
   "source": [
    "### 8. Para diversificar e atrair novos(as) clientes, uma lanchonete criou um item misterioso em seu cardápio chamado \"salada de frutas surpresa\". Neste item, são escolhidas aleatoriamente 3 frutas de uma lista de 12 para compor a salada de frutas da pessoa cliente. Crie o código que faça essa seleção aleatória de acordo com a lista abaixo:"
   ]
  },
  {
   "cell_type": "markdown",
   "metadata": {},
   "source": [
    "frutas = [\"maçã\", \"banana\", \"uva\", \"pêra\", \n",
    "          \"manga\", \"coco\", \"melancia\", \"mamão\",\n",
    "          \"laranja\", \"abacaxi\", \"kiwi\", \"ameixa\"]\n"
   ]
  },
  {
   "cell_type": "code",
   "execution_count": 86,
   "metadata": {},
   "outputs": [
    {
     "name": "stdout",
     "output_type": "stream",
     "text": [
      "mamão\n",
      "coco\n",
      "abacaxi\n"
     ]
    }
   ],
   "source": [
    "frutas = [\"maçã\", \"banana\", \"uva\", \"pêra\", \n",
    "          \"manga\", \"coco\", \"melancia\", \"mamão\",\n",
    "          \"laranja\", \"abacaxi\", \"kiwi\", \"ameixa\"]\n",
    "\n",
    "for i in range(3):\n",
    "    print(choice(frutas))"
   ]
  },
  {
   "cell_type": "markdown",
   "metadata": {},
   "source": [
    "### 9. Você recebeu um desafio de calcular a raiz quadrada de uma lista de números, identificando quais resultaram em um número inteiro. A lista é a seguinte:"
   ]
  },
  {
   "cell_type": "markdown",
   "metadata": {},
   "source": [
    "numeros = [2, 8, 15, 23, 91, 112, 256]\n",
    "No final, informe quais números possuem raízes inteiras e seus respectivos valores."
   ]
  },
  {
   "cell_type": "code",
   "execution_count": 93,
   "metadata": {},
   "outputs": [
    {
     "name": "stdout",
     "output_type": "stream",
     "text": [
      "O número 256 possui raiz quadrada inteira igual a 16\n"
     ]
    }
   ],
   "source": [
    "from math import sqrt\n",
    "\n",
    "numeros = [2, 8, 15, 23, 91, 112, 256]\n",
    "raiz = []\n",
    "\n",
    "for numero in numeros:\n",
    "  raiz.append(sqrt(numero))\n",
    "\n",
    "for i in range(len(raiz)):\n",
    "  if raiz[i] // 1 == raiz[i]:\n",
    "    print(f\"O número {numeros[i]} possui raiz quadrada inteira igual a {int(raiz[i])}\")\n"
   ]
  },
  {
   "cell_type": "markdown",
   "metadata": {},
   "source": [
    "### 10. Faça um programa para uma loja que vende grama para jardins. Essa loja trabalha com jardins circulares e o preço do metro quadrado da grama é de R$ 25,00. Peça à pessoa usuária o raio da área circular e devolva o valor em reais do quanto precisará pagar."
   ]
  },
  {
   "cell_type": "code",
   "execution_count": 94,
   "metadata": {},
   "outputs": [
    {
     "name": "stdout",
     "output_type": "stream",
     "text": [
      "Você precisará pagar R$ 70685.83 por uma área de 2827.43 metros de grama\n"
     ]
    }
   ],
   "source": [
    "from math import pi, pow\n",
    "\n",
    "raio = float(input(\"Digite o raio da área circular em metros: \"))\n",
    "\n",
    "area = pi*pow(raio,2)\n",
    "valor = area * 25.00\n",
    "\n",
    "print(f\"Você precisará pagar R$ {round(valor,2)} por uma área de {round(area,2)} metros de grama\")\n"
   ]
  },
  {
   "cell_type": "markdown",
   "metadata": {},
   "source": [
    "# Funções"
   ]
  },
  {
   "cell_type": "markdown",
   "metadata": {},
   "source": [
    "## Built-in function"
   ]
  },
  {
   "cell_type": "code",
   "execution_count": 95,
   "metadata": {},
   "outputs": [
    {
     "data": {
      "text/plain": [
       "{'19 Trimestre': 8.5, '2° Trimestre': 9.5, '3º trimestre': 7}"
      ]
     },
     "execution_count": 95,
     "metadata": {},
     "output_type": "execute_result"
    }
   ],
   "source": [
    "#Notas do(a) estudante\n",
    "notas = {'19 Trimestre': 8.5, '2° Trimestre': 9.5, '3º trimestre': 7}\n",
    "notas\n"
   ]
  },
  {
   "cell_type": "code",
   "execution_count": 97,
   "metadata": {},
   "outputs": [
    {
     "data": {
      "text/plain": [
       "25.0"
      ]
     },
     "execution_count": 97,
     "metadata": {},
     "output_type": "execute_result"
    }
   ],
   "source": [
    "# Calculando a soma\n",
    "soma = 0\n",
    "\n",
    "for nota in notas.values():\n",
    "    soma += nota\n",
    "\n",
    "soma\n"
   ]
  },
  {
   "cell_type": "code",
   "execution_count": 98,
   "metadata": {},
   "outputs": [
    {
     "data": {
      "text/plain": [
       "25.0"
      ]
     },
     "execution_count": 98,
     "metadata": {},
     "output_type": "execute_result"
    }
   ],
   "source": [
    "# Usando a função embutida sum()\n",
    "somatorio = sum(notas.values())\n",
    "\n",
    "somatorio\n"
   ]
  },
  {
   "cell_type": "code",
   "execution_count": 99,
   "metadata": {},
   "outputs": [
    {
     "data": {
      "text/plain": [
       "3"
      ]
     },
     "execution_count": 99,
     "metadata": {},
     "output_type": "execute_result"
    }
   ],
   "source": [
    "# Usando a função embutida len()\n",
    "qtd_notas = len(notas)\n",
    "\n",
    "qtd_notas\n"
   ]
  },
  {
   "cell_type": "code",
   "execution_count": 100,
   "metadata": {},
   "outputs": [
    {
     "data": {
      "text/plain": [
       "8.333333333333334"
      ]
     },
     "execution_count": 100,
     "metadata": {},
     "output_type": "execute_result"
    }
   ],
   "source": [
    "# Calculando a média\n",
    "media = somatorio / qtd_notas\n",
    "\n",
    "media\n"
   ]
  },
  {
   "cell_type": "code",
   "execution_count": 101,
   "metadata": {},
   "outputs": [
    {
     "name": "stdout",
     "output_type": "stream",
     "text": [
      "Help on built-in function round in module builtins:\n",
      "\n",
      "round(number, ndigits=None)\n",
      "    Round a number to a given precision in decimal digits.\n",
      "    \n",
      "    The return value is an integer if ndigits is omitted or None.  Otherwise\n",
      "    the return value has the same type as the number.  ndigits may be negative.\n",
      "\n"
     ]
    }
   ],
   "source": [
    "help(round)\n"
   ]
  },
  {
   "cell_type": "code",
   "execution_count": 102,
   "metadata": {},
   "outputs": [
    {
     "name": "stdout",
     "output_type": "stream",
     "text": [
      "\u001b[1;31mSignature:\u001b[0m \u001b[0mround\u001b[0m\u001b[1;33m(\u001b[0m\u001b[0mnumber\u001b[0m\u001b[1;33m,\u001b[0m \u001b[0mndigits\u001b[0m\u001b[1;33m=\u001b[0m\u001b[1;32mNone\u001b[0m\u001b[1;33m)\u001b[0m\u001b[1;33m\u001b[0m\u001b[1;33m\u001b[0m\u001b[0m\n",
      "\u001b[1;31mDocstring:\u001b[0m\n",
      "Round a number to a given precision in decimal digits.\n",
      "\n",
      "The return value is an integer if ndigits is omitted or None.  Otherwise\n",
      "the return value has the same type as the number.  ndigits may be negative.\n",
      "\u001b[1;31mType:\u001b[0m      builtin_function_or_method\n"
     ]
    }
   ],
   "source": [
    "round?\n"
   ]
  },
  {
   "cell_type": "code",
   "execution_count": 103,
   "metadata": {},
   "outputs": [
    {
     "data": {
      "text/plain": [
       "8.3"
      ]
     },
     "execution_count": 103,
     "metadata": {},
     "output_type": "execute_result"
    }
   ],
   "source": [
    "media = somatorio / qtd_notas\n",
    "media = round(media,1)\n",
    "media\n"
   ]
  },
  {
   "cell_type": "markdown",
   "metadata": {},
   "source": [
    "## Criando funções"
   ]
  },
  {
   "cell_type": "code",
   "execution_count": 104,
   "metadata": {},
   "outputs": [
    {
     "name": "stdout",
     "output_type": "stream",
     "text": [
      "9.0\n"
     ]
    }
   ],
   "source": [
    "def media():\n",
    "    calculo = (10 + 9 + 8) / 3\n",
    "    print(calculo)\n",
    "\n",
    "media()"
   ]
  },
  {
   "cell_type": "code",
   "execution_count": 18,
   "metadata": {},
   "outputs": [
    {
     "name": "stdout",
     "output_type": "stream",
     "text": [
      "7.0\n"
     ]
    }
   ],
   "source": [
    "def media(nota_1, nota_2, nota_3):\n",
    "    calculo = (nota_1 + nota_2 + nota_3)/3\n",
    "    print(calculo)\n",
    "\n",
    "media(6, 6, 9)\n"
   ]
  },
  {
   "cell_type": "code",
   "execution_count": 106,
   "metadata": {},
   "outputs": [
    {
     "name": "stdout",
     "output_type": "stream",
     "text": [
      "7.0\n"
     ]
    }
   ],
   "source": [
    "nota1 = 8\n",
    "nota2 = 7\n",
    "nota3 = 6\n",
    "\n",
    "media(nota1, nota2, nota3)\n"
   ]
  },
  {
   "cell_type": "code",
   "execution_count": 111,
   "metadata": {},
   "outputs": [
    {
     "name": "stdout",
     "output_type": "stream",
     "text": [
      "8.375\n",
      "8.375\n"
     ]
    },
    {
     "data": {
      "text/plain": [
       "NoneType"
      ]
     },
     "execution_count": 111,
     "metadata": {},
     "output_type": "execute_result"
    }
   ],
   "source": [
    "# Notas do(a) estudante\n",
    "notas = [8.5, 9.0, 6.0, 10.0]\n",
    "\n",
    "def media(lista):\n",
    "    calculo = sum(lista) / len(lista)\n",
    "    print(calculo)\n",
    "\n",
    "media(notas)\n",
    "\n",
    "resultado = media(notas)\n",
    "resultado\n",
    "type(resultado)\n"
   ]
  },
  {
   "cell_type": "markdown",
   "metadata": {},
   "source": [
    "## Funções com retorno"
   ]
  },
  {
   "cell_type": "code",
   "execution_count": 112,
   "metadata": {},
   "outputs": [],
   "source": [
    "# Notas do(a) estudante\n",
    "notas = [8.5, 9.0, 6.0, 10.0]\n",
    "\n",
    "def media(lista):\n",
    "    calculo = sum(lista) / len(lista)\n",
    "    return calculo\n"
   ]
  },
  {
   "cell_type": "code",
   "execution_count": 114,
   "metadata": {},
   "outputs": [
    {
     "data": {
      "text/plain": [
       "8.375"
      ]
     },
     "execution_count": 114,
     "metadata": {},
     "output_type": "execute_result"
    }
   ],
   "source": [
    "resultado = media(notas)\n",
    "resultado\n"
   ]
  },
  {
   "cell_type": "code",
   "execution_count": 117,
   "metadata": {},
   "outputs": [
    {
     "data": {
      "text/plain": [
       "(6.75, 'Aprovado(a)')"
      ]
     },
     "execution_count": 117,
     "metadata": {},
     "output_type": "execute_result"
    }
   ],
   "source": [
    "# Notas do(a) estudante \n",
    "notas = [6.0, 7.0, 9.0, 5.0]\n",
    "\n",
    "def boletim(lista):\n",
    "    media = sum(lista) / len(lista)\n",
    "    \n",
    "    if media >= 6:\n",
    "        situacao = \"Aprovado(a)\"\n",
    "    else:\n",
    "        situacao = \"Reprovado(a)\"\n",
    "    \n",
    "    return (media, situacao)\n",
    "\n",
    "boletim(notas)\n"
   ]
  },
  {
   "cell_type": "markdown",
   "metadata": {},
   "source": [
    "## Funções lambda"
   ]
  },
  {
   "cell_type": "code",
   "execution_count": 1,
   "metadata": {},
   "outputs": [
    {
     "data": {
      "text/plain": [
       "5.5"
      ]
     },
     "execution_count": 1,
     "metadata": {},
     "output_type": "execute_result"
    }
   ],
   "source": [
    "# Comparando uma função de qualitativo no formato de função para função anônima \n",
    "nota = float(input(\"Digite a nota do(a) estudante: \"))\n",
    "\n",
    "def qualitativo(x):\n",
    "    return x + 0.5\n",
    "    \n",
    "qualitativo(nota)"
   ]
  },
  {
   "cell_type": "code",
   "execution_count": 2,
   "metadata": {},
   "outputs": [
    {
     "data": {
      "text/plain": [
       "5.5"
      ]
     },
     "execution_count": 2,
     "metadata": {},
     "output_type": "execute_result"
    }
   ],
   "source": [
    "nota = float(input(\"Digite a nota do(a) estudante: \"))\n",
    "\n",
    "qualitativo = lambda x : x + 0.5\n",
    "\n",
    "qualitativo(nota)"
   ]
  },
  {
   "cell_type": "code",
   "execution_count": 4,
   "metadata": {},
   "outputs": [
    {
     "data": {
      "text/plain": [
       "6.2"
      ]
     },
     "execution_count": 4,
     "metadata": {},
     "output_type": "execute_result"
    }
   ],
   "source": [
    "# Recebendo as notas e calculando a média ponderável\n",
    "N1 = float(input(\"Digite a 1ª nota do(a) estudante: \"))\n",
    "N2 = float(input(\"Digite a 2ª nota do(a) estudante: \"))\n",
    "N3 = float(input(\"Digite a 3ª nota do(a) estudante: \"))\n",
    "\n",
    "media_ponderavel = lambda x, y, z: (x * 3 + y * 2 + z * 5)/10\n",
    "\n",
    "media_estudante = media_ponderavel(N1, N2, N3)\n",
    "media_estudante"
   ]
  },
  {
   "cell_type": "code",
   "execution_count": 7,
   "metadata": {},
   "outputs": [
    {
     "data": {
      "text/plain": [
       "[6.5, 7.5, 9.5, 6.0, 8.5]"
      ]
     },
     "execution_count": 7,
     "metadata": {},
     "output_type": "execute_result"
    }
   ],
   "source": [
    "# Não conseguimos aplicar o lambda em lista direto, é necessário utilizarmos junto a ela a função map\n",
    "# Notas do(a) estudante\n",
    "notas = [6.0, 7.0, 9.0, 5.5, 8.0]\n",
    "qualitativo = 0.5\n",
    "notas_atualizadas = map(lambda x: x + qualitativo, notas)\n",
    "notas_atualizadas = list(notas_atualizadas)\n",
    "\n",
    "notas_atualizadas"
   ]
  },
  {
   "cell_type": "markdown",
   "metadata": {},
   "source": [
    "## Hora da prática"
   ]
  },
  {
   "cell_type": "markdown",
   "metadata": {},
   "source": [
    "### 1. Escreva um código que lê a lista abaixo e faça:"
   ]
  },
  {
   "cell_type": "markdown",
   "metadata": {},
   "source": [
    "lista = [16, 14, 63, 65, 17, 99, 70, 11, 20, 48, 79, 32, 17, 89, 12, 25, 66]\n",
    "<ul>\n",
    "    <li>A leitura do tamanho da lista</li>\n",
    "    <li>A leitura do maior e menor valor</li>\n",
    "    <li>A soma dos valores da lista</li>\n",
    "</ul>\n"
   ]
  },
  {
   "cell_type": "code",
   "execution_count": 12,
   "metadata": {},
   "outputs": [
    {
     "name": "stdout",
     "output_type": "stream",
     "text": [
      "A lista possui 17 números em que o maior número é 99 e o menor número é 11. A soma dos valores presentes nela é igual a 743\n"
     ]
    }
   ],
   "source": [
    "lista = [16, 14, 63, 65, 17, 99, 70, 11, 20, 48, 79, 32, 17, 89, 12, 25, 66]\n",
    "\n",
    "print(f\"A lista possui {len(lista)} números em que o maior número é {max(lista)} e o menor número é {min(lista)}. A soma dos valores presentes nela é igual a {sum(lista)}\")"
   ]
  },
  {
   "cell_type": "markdown",
   "metadata": {},
   "source": [
    "### 2. Escreva uma função que gere a tabuada de um número inteiro de 1 a 10, de acordo com a escolha da pessoa usuária. Como exemplo, para o número 7, a tabuada deve ser mostrada no seguinte formato:"
   ]
  },
  {
   "cell_type": "markdown",
   "metadata": {},
   "source": [
    "Tabuada do 7:\n",
    "7 x 0 = 0\n",
    "7 x 1 = 7\n",
    "[...]\n",
    "7 x 10 = 70"
   ]
  },
  {
   "cell_type": "code",
   "execution_count": 44,
   "metadata": {},
   "outputs": [
    {
     "name": "stdout",
     "output_type": "stream",
     "text": [
      "4 x 1 = 4\n",
      "4 x 2 = 8\n",
      "4 x 3 = 12\n",
      "4 x 4 = 16\n",
      "4 x 5 = 20\n",
      "4 x 6 = 24\n",
      "4 x 7 = 28\n",
      "4 x 8 = 32\n",
      "4 x 9 = 36\n",
      "4 x 10 = 40\n"
     ]
    }
   ],
   "source": [
    "def tabuada(x):\n",
    "    for i in range(1, 11):\n",
    "        print(f'{x} x {i} = {x * i}')\n",
    "\n",
    "tabuada(4)"
   ]
  },
  {
   "cell_type": "markdown",
   "metadata": {},
   "source": [
    "### 3. Crie a função que leia a lista abaixo e retorne uma nova lista com os múltiplos de 3:"
   ]
  },
  {
   "cell_type": "code",
   "execution_count": 48,
   "metadata": {},
   "outputs": [
    {
     "name": "stdout",
     "output_type": "stream",
     "text": [
      "[24, 99]\n"
     ]
    }
   ],
   "source": [
    "lista = [97, 80, 94, 88, 80, 1, 16, 53, 62, 32, 24, 99]\n",
    "\n",
    "def multiplo_3(lista):\n",
    "    resultado = []\n",
    "    for number in lista:\n",
    "        if number % 3 == 0:\n",
    "            resultado.append(number)\n",
    "    return resultado\n",
    "\n",
    "print(multiplo_3(lista))"
   ]
  },
  {
   "cell_type": "markdown",
   "metadata": {},
   "source": [
    "### 4. Crie uma lista dos quadrados dos números da seguinte lista [1, 2, 3, 4, 5, 6, 7, 8, 9, 10]. Lembre-se de utilizar as funções lambda e map() para calcular o quadrado de cada elemento da lista."
   ]
  },
  {
   "cell_type": "code",
   "execution_count": 49,
   "metadata": {},
   "outputs": [
    {
     "data": {
      "text/plain": [
       "[1, 4, 9, 16, 25, 36, 49, 64, 81, 100]"
      ]
     },
     "execution_count": 49,
     "metadata": {},
     "output_type": "execute_result"
    }
   ],
   "source": [
    "lista = [1, 2, 3, 4, 5, 6, 7, 8, 9, 10]\n",
    "\n",
    "quadrados = map(lambda x: x ** 2, lista)\n",
    "quadrados = list(quadrados)\n",
    "quadrados"
   ]
  },
  {
   "cell_type": "markdown",
   "metadata": {},
   "source": [
    "### 5. Você foi contratado(a) como cientista de dados de uma associação de skate. Para analisar as notas recebidas de skatistas em algumas competições ao longo do ano, você precisa criar um código que calcula a pontuação dos(as) atletas. Para isso, o seu código deve receber 5 notas digitadas pelas pessoas juradas."
   ]
  },
  {
   "cell_type": "markdown",
   "metadata": {},
   "source": [
    "Para calcular a pontuação de um(a) skatista, você precisa eliminar a maior e a menor pontuação dentre as 5 notas e tirar a média das 3 notas que sobraram. Retorne a média para apresentar o texto:\n",
    "\n",
    "\"Nota da manobra: [media]\""
   ]
  },
  {
   "cell_type": "code",
   "execution_count": 72,
   "metadata": {},
   "outputs": [
    {
     "name": "stdout",
     "output_type": "stream",
     "text": [
      "Notas geradas [9.72, 9.1, 8.55, 0.98, 4.05]\n",
      "Notas que sobraram [9.1, 8.55, 4.05]\n",
      "Nota da manobra: 7.23\n"
     ]
    }
   ],
   "source": [
    "from random import random\n",
    "\n",
    "def gerador_numeros_float(qtd, intervalo):\n",
    "    result = []\n",
    "    for i in range(qtd):\n",
    "        result.append(round(random() * intervalo, 2))\n",
    "    return result\n",
    "\n",
    "notas = gerador_numeros_float(5, 10)\n",
    "print('Notas geradas', notas)\n",
    "\n",
    "\n",
    "\n",
    "\n",
    "\n",
    "def calculadora_skate(notas):\n",
    "    notas.remove(min(notas))\n",
    "    notas.remove(max(notas))\n",
    "    print('Notas que sobraram', notas)\n",
    "\n",
    "    return round(sum(notas) / len(notas), 2)\n",
    "    \n",
    "print('Nota da manobra:', calculadora_skate(notas))"
   ]
  },
  {
   "cell_type": "markdown",
   "metadata": {},
   "source": [
    "### 6. Para atender a uma demanda de uma instituição de ensino para a análise do desempenho de seus(suas) estudantes, você precisa criar uma função que receba uma lista de 4 notas e retorne:"
   ]
  },
  {
   "cell_type": "markdown",
   "metadata": {},
   "source": [
    "\n",
    "maior nota\n",
    "menor nota\n",
    "média\n",
    "situação (Aprovado(a) ou Reprovado(a))\n",
    "\n",
    "\"O(a) estudante obteve uma média de [media], com a sua maior nota de [maior] pontos e a menor nota de [menor] pontos e foi [situacao]\""
   ]
  },
  {
   "cell_type": "code",
   "execution_count": 8,
   "metadata": {},
   "outputs": [
    {
     "name": "stdout",
     "output_type": "stream",
     "text": [
      "O(a) estudante obteve uma média de 6.56, com a sua maior nota de 8.24 pontos e a menor nota de 3.64 pontos e foi Aprovado\n"
     ]
    }
   ],
   "source": [
    "from random import random\n",
    "\n",
    "def gerador_nota():\n",
    "    notas = []\n",
    "\n",
    "    for i in range(4):\n",
    "        notas.append(round(random() * 10, 2))\n",
    "    \n",
    "    return notas\n",
    "\n",
    "notas = gerador_nota()\n",
    "maior_nota = max(notas)\n",
    "menor_nota = min(notas)\n",
    "media = round(sum(notas) / len(notas), 2)\n",
    "situacao = 'Aprovado' if media >= 6 else 'Reprovado'\n",
    "\n",
    "print(f'O(a) estudante obteve uma média de {media}, com a sua maior nota de {maior_nota} pontos e a menor nota de {menor_nota} pontos e foi {situacao}')"
   ]
  },
  {
   "cell_type": "markdown",
   "metadata": {},
   "source": [
    "### 7. Você recebeu uma demanda para tratar 2 listas com os nomes e sobrenomes de cada estudante concatenando-as para apresentar seus nomes completos na forma Nome Sobrenome. As listas são:\n"
   ]
  },
  {
   "cell_type": "code",
   "execution_count": 9,
   "metadata": {},
   "outputs": [
    {
     "name": "stdout",
     "output_type": "stream",
     "text": [
      "João Silva\n",
      "Maria Souza\n",
      "José Tavares\n"
     ]
    }
   ],
   "source": [
    "nomes = [\"joão\", \"MaRia\", \"JOSÉ\"]\n",
    "sobrenomes = [\"SILVA\", \"souza\", \"Tavares\"]\n",
    "\n",
    "for i in range(len(nomes)):\n",
    "    print(f'{nomes[i].capitalize()} {sobrenomes[i].capitalize()}')"
   ]
  },
  {
   "cell_type": "markdown",
   "metadata": {},
   "source": [
    "### 8.  Como cientista de dados em um time de futebol, você precisa implementar novas formas de coleta de dados sobre o desempenho de jogadores e do time como um todo. Sua primeira ação é criar uma forma de calcular a pontuação do time no campeonato nacional a partir dos dados de gols marcados e sofridos em cada jogo.\n"
   ]
  },
  {
   "cell_type": "markdown",
   "metadata": {},
   "source": [
    "Escreva uma função chamada calcula_pontos que recebe como parâmetros duas listas de números inteiros, representando os gols marcados e sofridos pelo time em cada partida do campeonato. A função deve retornar a pontuação do time e o aproveitamento em percentual, levando em consideração que a vitória vale 3 pontos, o empate vale 1 ponto e a derrota 0 pontos.\n",
    "\n",
    "\"A pontuação do time foi de [pontos] e seu aproveitamento foi de [aprov]%\""
   ]
  },
  {
   "cell_type": "code",
   "execution_count": 10,
   "metadata": {},
   "outputs": [
    {
     "name": "stdout",
     "output_type": "stream",
     "text": [
      "A pontuação do time foi de 6 e seu aproveitamento foi de 40.0%\n"
     ]
    }
   ],
   "source": [
    "gols_marcados = [2, 1, 3, 1, 0]\n",
    "gols_sofridos = [1, 2, 2, 1, 3]\n",
    "\n",
    "def calcula_pontos(marcados, sofridos):\n",
    "    pontos = 0\n",
    "\n",
    "    for i in range(len(gols_marcados)):\n",
    "        if gols_marcados[i] > gols_sofridos[i]:\n",
    "            pontos += 3\n",
    "        elif gols_marcados[i] == gols_sofridos:\n",
    "            pontos += 1\n",
    "    \n",
    "    return pontos\n",
    "\n",
    "pontos = calcula_pontos(gols_marcados, gols_sofridos)\n",
    "\n",
    "aproveitamento = pontos / (len(gols_sofridos) * 3) * 100\n",
    "\n",
    "print(f'A pontuação do time foi de {pontos} e seu aproveitamento foi de {aproveitamento}%')"
   ]
  },
  {
   "cell_type": "markdown",
   "metadata": {},
   "source": [
    "### 9. Você recebeu o desafio de criar um có digo que calcula os gastos de uma viagem para um das quatro cidades partindo de Recife, sendo elas: Salvador, Fortaleza, Natal e Aracaju."
   ]
  },
  {
   "cell_type": "markdown",
   "metadata": {},
   "source": [
    "O custo da diária do hotel é de 150 reais em todas elas e o consumo de gasolina na viagem de carro é de 14 km/l, sendo que o valor da gasolina é de 5 reais o litro. O gastos com passeios e alimentação a se fazer em cada uma delas por dia seria de [200, 400, 250, 300], respectivamente.\n",
    "\n",
    "Sabendo que as distâncias entre Recife e cada uma das cidades é de aproximadamente [850, 800, 300, 550] km, crie três funções nas quais: a 1ª função calcule os gastos com hotel (gasto_hotel), a 2ª calcule os gastos com a gasolina (gasto_gasolina) e a 3ª os gastos com passeio e alimentação (gasto_passeio).\n",
    "\n",
    "Para testar, simule uma viagem de 3 dias para Salvador partindo de Recife. Considere a viagem de ida e volta de carro."
   ]
  },
  {
   "cell_type": "markdown",
   "metadata": {},
   "source": [
    "Você recebeu o desafio de criar um có digo que calcula os gastos de uma viagem para um das quatro cidades partindo de Recife, sendo elas: Salvador, Fortaleza, Natal e Aracaju.\n",
    "\n",
    "O custo da diária do hotel é de 150 reais em todas elas e o consumo de gasolina na viagem de carro é de 14 km/l, sendo que o valor da gasolina é de 5 reais o litro. O gastos com passeios e alimentação a se fazer em cada uma delas por dia seria de [200, 400, 250, 300], respectivamente.\n",
    "\n",
    "Sabendo que as distâncias entre Recife e cada uma das cidades é de aproximadamente [850, 800, 300, 550] km, crie três funções nas quais: a 1ª função calcule os gastos com hotel (gasto_hotel), a 2ª calcule os gastos com a gasolina (gasto_gasolina) e a 3ª os gastos com passeio e alimentação (gasto_passeio).\n",
    "\n",
    "Para testar, simule uma viagem de 3 dias para Salvador partindo de Recife. Considere a viagem de ida e volta de carro."
   ]
  },
  {
   "cell_type": "code",
   "execution_count": 15,
   "metadata": {},
   "outputs": [
    {
     "name": "stdout",
     "output_type": "stream",
     "text": [
      "Viagem de 3 dias de Salvador -> Recife\n",
      "Gasto de hotel: 450\n",
      "Gasto de gasolina: 607.14\n",
      "Gasto passeio e alimentação: 600\n",
      "\n"
     ]
    }
   ],
   "source": [
    "gasto_hotel = lambda dias: dias * 150\n",
    "gasto_gasolina = lambda distancia, consumo, preco: round((distancia / consumo) * preco, 2)\n",
    "\n",
    "def gasto_passeio(cidade, dias):\n",
    "    if cidade == 'Salvador':\n",
    "        return 200 * dias\n",
    "    elif cidade == 'Fortaleza':\n",
    "        return 400 * dias\n",
    "    elif cidade == 'Natal':\n",
    "        return 250 * dias\n",
    "    elif cidade == 'Aracaju':\n",
    "        return 300 * dias\n",
    "\n",
    "print(f'''Viagem de 3 dias de Salvador -> Recife\n",
    "Gasto de hotel: {gasto_hotel(3)}\n",
    "Gasto de gasolina: {gasto_gasolina(850*2, 14, 5)}\n",
    "Gasto passeio e alimentação: {gasto_passeio('Salvador', 3)}\n",
    "''')\n"
   ]
  }
 ],
 "metadata": {
  "kernelspec": {
   "display_name": "base",
   "language": "python",
   "name": "python3"
  },
  "language_info": {
   "codemirror_mode": {
    "name": "ipython",
    "version": 3
   },
   "file_extension": ".py",
   "mimetype": "text/x-python",
   "name": "python",
   "nbconvert_exporter": "python",
   "pygments_lexer": "ipython3",
   "version": "3.9.13"
  }
 },
 "nbformat": 4,
 "nbformat_minor": 2
}
