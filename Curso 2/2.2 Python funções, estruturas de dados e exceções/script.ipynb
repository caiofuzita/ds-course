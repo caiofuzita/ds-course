{
 "cells": [
  {
   "cell_type": "markdown",
   "metadata": {},
   "source": [
    "# Bibliotecas"
   ]
  },
  {
   "cell_type": "code",
   "execution_count": 6,
   "metadata": {},
   "outputs": [
    {
     "data": {
      "text/plain": [
       "<module 'matplotlib.pyplot' from 'C:\\\\Users\\\\Caio Fuzita\\\\AppData\\\\Roaming\\\\Python\\\\Python39\\\\site-packages\\\\matplotlib\\\\pyplot.py'>"
      ]
     },
     "execution_count": 6,
     "metadata": {},
     "output_type": "execute_result"
    }
   ],
   "source": [
    "import matplotlib.pyplot as plt\n",
    "plt"
   ]
  },
  {
   "cell_type": "code",
   "execution_count": 7,
   "metadata": {},
   "outputs": [
    {
     "data": {
      "text/plain": [
       "<BarContainer object of 3 artists>"
      ]
     },
     "execution_count": 7,
     "metadata": {},
     "output_type": "execute_result"
    },
    {
     "data": {
      "image/png": "[encoded data removed]",
      "text/plain": [
       "<Figure size 640x480 with 1 Axes>"
      ]
     },
     "metadata": {},
     "output_type": "display_data"
    }
   ],
   "source": [
    "estudantes = [\"João\", \"Maria\", \"José\"]\n",
    "notas = [8.5, 9, 6.5]\n",
    "\n",
    "plt.bar(x=estudantes, height=notas)"
   ]
  },
  {
   "cell_type": "code",
   "execution_count": 13,
   "metadata": {},
   "outputs": [
    {
     "data": {
      "text/plain": [
       "'Ana'"
      ]
     },
     "execution_count": 13,
     "metadata": {},
     "output_type": "execute_result"
    }
   ],
   "source": [
    "estudantes_2 = [\"João\", \"Maria\", \"José\", \"Ana\"]\n",
    "\n",
    "from random import choice\n",
    "\n",
    "estudante = choice(estudantes_2)\n",
    "estudante\n"
   ]
  },
  {
   "cell_type": "markdown",
   "metadata": {},
   "source": [
    "## Hora da prática"
   ]
  },
  {
   "cell_type": "markdown",
   "metadata": {},
   "source": [
    "### 1.  Escreva um código para instalar a biblioteca matplotlib."
   ]
  },
  {
   "cell_type": "code",
   "execution_count": 14,
   "metadata": {},
   "outputs": [],
   "source": [
    "import matplotlib as plt"
   ]
  },
  {
   "cell_type": "markdown",
   "metadata": {},
   "source": [
    "### 2. Escreva um código para importar a biblioteca numpy com o alias np."
   ]
  },
  {
   "cell_type": "code",
   "execution_count": 15,
   "metadata": {},
   "outputs": [],
   "source": [
    "import numpy as np"
   ]
  },
  {
   "cell_type": "markdown",
   "metadata": {},
   "source": [
    "### 3.  Crie um programa que leia a seguinte lista de números e escolha um número desta aleatoriamente."
   ]
  },
  {
   "cell_type": "markdown",
   "metadata": {},
   "source": [
    "lista = [8, 12, 54, 23, 43, 1, 90, 87, 105, 77]"
   ]
  },
  {
   "cell_type": "code",
   "execution_count": 21,
   "metadata": {},
   "outputs": [
    {
     "data": {
      "text/plain": [
       "87"
      ]
     },
     "execution_count": 21,
     "metadata": {},
     "output_type": "execute_result"
    }
   ],
   "source": [
    "from random import choice\n",
    "\n",
    "lista = [8, 12, 54, 23, 43, 1, 90, 87, 105, 77]\n",
    "\n",
    "resultado = choice(lista)\n",
    "resultado"
   ]
  },
  {
   "cell_type": "markdown",
   "metadata": {},
   "source": [
    "### 4. Crie um programa que sorteia, aleatoriamente, um número inteiro menor que 100."
   ]
  },
  {
   "cell_type": "code",
   "execution_count": 37,
   "metadata": {},
   "outputs": [
    {
     "name": "stdout",
     "output_type": "stream",
     "text": [
      "25\n"
     ]
    }
   ],
   "source": [
    "import random\n",
    "\n",
    "print(random.randrange(100))"
   ]
  },
  {
   "cell_type": "markdown",
   "metadata": {},
   "source": [
    "### 5. Crie um programa que solicite à pessoa usuária digitar dois números inteiros e calcular a potência do 1º número elevado ao 2º."
   ]
  },
  {
   "cell_type": "code",
   "execution_count": 88,
   "metadata": {},
   "outputs": [
    {
     "name": "stdout",
     "output_type": "stream",
     "text": [
      "2.0^3.0 = 8.0\n"
     ]
    }
   ],
   "source": [
    "import math\n",
    "\n",
    "num_1 = float(input('Insira o primeiro número: '))\n",
    "num_2 = float(input('Insira o segundo número: '))\n",
    "\n",
    "print(f'{num_1}^{num_2} = {pow(num_1, num_2)}')\n"
   ]
  },
  {
   "cell_type": "markdown",
   "metadata": {},
   "source": [
    "### 6. Um programa deve ser escrito para sortear uma pessoa seguidora de uma rede social para ganhar um prêmio. A lista de participantes é numerada e devemos escolher aleatoriamente um número de acordo com a quantidade de participantes. Peça à pessoa usuária para fornecer o número de participantes do sorteio e devolva para ela o número sorteado."
   ]
  },
  {
   "cell_type": "code",
   "execution_count": 43,
   "metadata": {},
   "outputs": [
    {
     "name": "stdout",
     "output_type": "stream",
     "text": [
      "O ganhador foi: 146\n"
     ]
    }
   ],
   "source": [
    "num_participantes = int(input('Insira o número de participantes'))\n",
    "\n",
    "print(f'O ganhador foi: {random.randint(1, num_participantes)}')"
   ]
  },
  {
   "cell_type": "markdown",
   "metadata": {},
   "source": [
    "### 7. Você recebeu uma demanda para gerar números de token para acessar o aplicativo de uma empresa. O token precisa ser par e variar de 1000 até 9998. Escreva um código que solicita à pessoa usuária o seu nome e exibe uma mensagem junto a esse token gerado aleatoriamente."
   ]
  },
  {
   "cell_type": "code",
   "execution_count": 70,
   "metadata": {},
   "outputs": [
    {
     "name": "stdout",
     "output_type": "stream",
     "text": [
      "Olá, Caio, o seu token de acesso é 5070, seja bem-vindo(a)!\n"
     ]
    }
   ],
   "source": [
    "nome = input('Insira seu nome: ')\n",
    "\n",
    "token = random.randrange(1000, 9998, 2)\n",
    "\n",
    "print(f'Olá, {nome}, o seu token de acesso é {token}, seja bem-vindo(a)!')"
   ]
  },
  {
   "cell_type": "markdown",
   "metadata": {},
   "source": [
    "### 8. Para diversificar e atrair novos(as) clientes, uma lanchonete criou um item misterioso em seu cardápio chamado \"salada de frutas surpresa\". Neste item, são escolhidas aleatoriamente 3 frutas de uma lista de 12 para compor a salada de frutas da pessoa cliente. Crie o código que faça essa seleção aleatória de acordo com a lista abaixo:"
   ]
  },
  {
   "cell_type": "markdown",
   "metadata": {},
   "source": [
    "frutas = [\"maçã\", \"banana\", \"uva\", \"pêra\", \n",
    "          \"manga\", \"coco\", \"melancia\", \"mamão\",\n",
    "          \"laranja\", \"abacaxi\", \"kiwi\", \"ameixa\"]\n"
   ]
  },
  {
   "cell_type": "code",
   "execution_count": 86,
   "metadata": {},
   "outputs": [
    {
     "name": "stdout",
     "output_type": "stream",
     "text": [
      "mamão\n",
      "coco\n",
      "abacaxi\n"
     ]
    }
   ],
   "source": [
    "frutas = [\"maçã\", \"banana\", \"uva\", \"pêra\", \n",
    "          \"manga\", \"coco\", \"melancia\", \"mamão\",\n",
    "          \"laranja\", \"abacaxi\", \"kiwi\", \"ameixa\"]\n",
    "\n",
    "for i in range(3):\n",
    "    print(choice(frutas))"
   ]
  },
  {
   "cell_type": "markdown",
   "metadata": {},
   "source": [
    "### 9. Você recebeu um desafio de calcular a raiz quadrada de uma lista de números, identificando quais resultaram em um número inteiro. A lista é a seguinte:"
   ]
  },
  {
   "cell_type": "markdown",
   "metadata": {},
   "source": [
    "numeros = [2, 8, 15, 23, 91, 112, 256]\n",
    "No final, informe quais números possuem raízes inteiras e seus respectivos valores."
   ]
  },
  {
   "cell_type": "code",
   "execution_count": 93,
   "metadata": {},
   "outputs": [
    {
     "name": "stdout",
     "output_type": "stream",
     "text": [
      "O número 256 possui raiz quadrada inteira igual a 16\n"
     ]
    }
   ],
   "source": [
    "from math import sqrt\n",
    "\n",
    "numeros = [2, 8, 15, 23, 91, 112, 256]\n",
    "raiz = []\n",
    "\n",
    "for numero in numeros:\n",
    "  raiz.append(sqrt(numero))\n",
    "\n",
    "for i in range(len(raiz)):\n",
    "  if raiz[i] // 1 == raiz[i]:\n",
    "    print(f\"O número {numeros[i]} possui raiz quadrada inteira igual a {int(raiz[i])}\")\n"
   ]
  },
  {
   "cell_type": "markdown",
   "metadata": {},
   "source": [
    "### 10. Faça um programa para uma loja que vende grama para jardins. Essa loja trabalha com jardins circulares e o preço do metro quadrado da grama é de R$ 25,00. Peça à pessoa usuária o raio da área circular e devolva o valor em reais do quanto precisará pagar."
   ]
  },
  {
   "cell_type": "code",
   "execution_count": 94,
   "metadata": {},
   "outputs": [
    {
     "name": "stdout",
     "output_type": "stream",
     "text": [
      "Você precisará pagar R$ 70685.83 por uma área de 2827.43 metros de grama\n"
     ]
    }
   ],
   "source": [
    "from math import pi, pow\n",
    "\n",
    "raio = float(input(\"Digite o raio da área circular em metros: \"))\n",
    "\n",
    "area = pi*pow(raio,2)\n",
    "valor = area * 25.00\n",
    "\n",
    "print(f\"Você precisará pagar R$ {round(valor,2)} por uma área de {round(area,2)} metros de grama\")\n"
   ]
  },
  {
   "cell_type": "markdown",
   "metadata": {},
   "source": [
    "# Funções"
   ]
  },
  {
   "cell_type": "markdown",
   "metadata": {},
   "source": [
    "## Built-in function"
   ]
  },
  {
   "cell_type": "code",
   "execution_count": 95,
   "metadata": {},
   "outputs": [
    {
     "data": {
      "text/plain": [
       "{'19 Trimestre': 8.5, '2° Trimestre': 9.5, '3º trimestre': 7}"
      ]
     },
     "execution_count": 95,
     "metadata": {},
     "output_type": "execute_result"
    }
   ],
   "source": [
    "#Notas do(a) estudante\n",
    "notas = {'19 Trimestre': 8.5, '2° Trimestre': 9.5, '3º trimestre': 7}\n",
    "notas\n"
   ]
  },
  {
   "cell_type": "code",
   "execution_count": 97,
   "metadata": {},
   "outputs": [
    {
     "data": {
      "text/plain": [
       "25.0"
      ]
     },
     "execution_count": 97,
     "metadata": {},
     "output_type": "execute_result"
    }
   ],
   "source": [
    "# Calculando a soma\n",
    "soma = 0\n",
    "\n",
    "for nota in notas.values():\n",
    "    soma += nota\n",
    "\n",
    "soma\n"
   ]
  },
  {
   "cell_type": "code",
   "execution_count": 98,
   "metadata": {},
   "outputs": [
    {
     "data": {
      "text/plain": [
       "25.0"
      ]
     },
     "execution_count": 98,
     "metadata": {},
     "output_type": "execute_result"
    }
   ],
   "source": [
    "# Usando a função embutida sum()\n",
    "somatorio = sum(notas.values())\n",
    "\n",
    "somatorio\n"
   ]
  },
  {
   "cell_type": "code",
   "execution_count": 99,
   "metadata": {},
   "outputs": [
    {
     "data": {
      "text/plain": [
       "3"
      ]
     },
     "execution_count": 99,
     "metadata": {},
     "output_type": "execute_result"
    }
   ],
   "source": [
    "# Usando a função embutida len()\n",
    "qtd_notas = len(notas)\n",
    "\n",
    "qtd_notas\n"
   ]
  },
  {
   "cell_type": "code",
   "execution_count": 100,
   "metadata": {},
   "outputs": [
    {
     "data": {
      "text/plain": [
       "8.333333333333334"
      ]
     },
     "execution_count": 100,
     "metadata": {},
     "output_type": "execute_result"
    }
   ],
   "source": [
    "# Calculando a média\n",
    "media = somatorio / qtd_notas\n",
    "\n",
    "media\n"
   ]
  },
  {
   "cell_type": "code",
   "execution_count": 101,
   "metadata": {},
   "outputs": [
    {
     "name": "stdout",
     "output_type": "stream",
     "text": [
      "Help on built-in function round in module builtins:\n",
      "\n",
      "round(number, ndigits=None)\n",
      "    Round a number to a given precision in decimal digits.\n",
      "    \n",
      "    The return value is an integer if ndigits is omitted or None.  Otherwise\n",
      "    the return value has the same type as the number.  ndigits may be negative.\n",
      "\n"
     ]
    }
   ],
   "source": [
    "help(round)\n"
   ]
  },
  {
   "cell_type": "code",
   "execution_count": 102,
   "metadata": {},
   "outputs": [
    {
     "name": "stdout",
     "output_type": "stream",
     "text": [
      "\u001b[1;31mSignature:\u001b[0m \u001b[0mround\u001b[0m\u001b[1;33m(\u001b[0m\u001b[0mnumber\u001b[0m\u001b[1;33m,\u001b[0m \u001b[0mndigits\u001b[0m\u001b[1;33m=\u001b[0m\u001b[1;32mNone\u001b[0m\u001b[1;33m)\u001b[0m\u001b[1;33m\u001b[0m\u001b[1;33m\u001b[0m\u001b[0m\n",
      "\u001b[1;31mDocstring:\u001b[0m\n",
      "Round a number to a given precision in decimal digits.\n",
      "\n",
      "The return value is an integer if ndigits is omitted or None.  Otherwise\n",
      "the return value has the same type as the number.  ndigits may be negative.\n",
      "\u001b[1;31mType:\u001b[0m      builtin_function_or_method\n"
     ]
    }
   ],
   "source": [
    "round?\n"
   ]
  },
  {
   "cell_type": "code",
   "execution_count": 103,
   "metadata": {},
   "outputs": [
    {
     "data": {
      "text/plain": [
       "8.3"
      ]
     },
     "execution_count": 103,
     "metadata": {},
     "output_type": "execute_result"
    }
   ],
   "source": [
    "media = somatorio / qtd_notas\n",
    "media = round(media,1)\n",
    "media\n"
   ]
  },
  {
   "cell_type": "markdown",
   "metadata": {},
   "source": [
    "## Criando funções"
   ]
  },
  {
   "cell_type": "code",
   "execution_count": 104,
   "metadata": {},
   "outputs": [
    {
     "name": "stdout",
     "output_type": "stream",
     "text": [
      "9.0\n"
     ]
    }
   ],
   "source": [
    "def media():\n",
    "    calculo = (10 + 9 + 8) / 3\n",
    "    print(calculo)\n",
    "\n",
    "media()"
   ]
  },
  {
   "cell_type": "code",
   "execution_count": 18,
   "metadata": {},
   "outputs": [
    {
     "name": "stdout",
     "output_type": "stream",
     "text": [
      "7.0\n"
     ]
    }
   ],
   "source": [
    "def media(nota_1, nota_2, nota_3):\n",
    "    calculo = (nota_1 + nota_2 + nota_3)/3\n",
    "    print(calculo)\n",
    "\n",
    "media(6, 6, 9)\n"
   ]
  },
  {
   "cell_type": "code",
   "execution_count": 106,
   "metadata": {},
   "outputs": [
    {
     "name": "stdout",
     "output_type": "stream",
     "text": [
      "7.0\n"
     ]
    }
   ],
   "source": [
    "nota1 = 8\n",
    "nota2 = 7\n",
    "nota3 = 6\n",
    "\n",
    "media(nota1, nota2, nota3)\n"
   ]
  },
  {
   "cell_type": "code",
   "execution_count": 111,
   "metadata": {},
   "outputs": [
    {
     "name": "stdout",
     "output_type": "stream",
     "text": [
      "8.375\n",
      "8.375\n"
     ]
    },
    {
     "data": {
      "text/plain": [
       "NoneType"
      ]
     },
     "execution_count": 111,
     "metadata": {},
     "output_type": "execute_result"
    }
   ],
   "source": [
    "# Notas do(a) estudante\n",
    "notas = [8.5, 9.0, 6.0, 10.0]\n",
    "\n",
    "def media(lista):\n",
    "    calculo = sum(lista) / len(lista)\n",
    "    print(calculo)\n",
    "\n",
    "media(notas)\n",
    "\n",
    "resultado = media(notas)\n",
    "resultado\n",
    "type(resultado)\n"
   ]
  },
  {
   "cell_type": "markdown",
   "metadata": {},
   "source": [
    "## Funções com retorno"
   ]
  },
  {
   "cell_type": "code",
   "execution_count": 112,
   "metadata": {},
   "outputs": [],
   "source": [
    "# Notas do(a) estudante\n",
    "notas = [8.5, 9.0, 6.0, 10.0]\n",
    "\n",
    "def media(lista):\n",
    "    calculo = sum(lista) / len(lista)\n",
    "    return calculo\n"
   ]
  },
  {
   "cell_type": "code",
   "execution_count": 114,
   "metadata": {},
   "outputs": [
    {
     "data": {
      "text/plain": [
       "8.375"
      ]
     },
     "execution_count": 114,
     "metadata": {},
     "output_type": "execute_result"
    }
   ],
   "source": [
    "resultado = media(notas)\n",
    "resultado\n"
   ]
  },
  {
   "cell_type": "code",
   "execution_count": 117,
   "metadata": {},
   "outputs": [
    {
     "data": {
      "text/plain": [
       "(6.75, 'Aprovado(a)')"
      ]
     },
     "execution_count": 117,
     "metadata": {},
     "output_type": "execute_result"
    }
   ],
   "source": [
    "# Notas do(a) estudante \n",
    "notas = [6.0, 7.0, 9.0, 5.0]\n",
    "\n",
    "def boletim(lista):\n",
    "    media = sum(lista) / len(lista)\n",
    "    \n",
    "    if media >= 6:\n",
    "        situacao = \"Aprovado(a)\"\n",
    "    else:\n",
    "        situacao = \"Reprovado(a)\"\n",
    "    \n",
    "    return (media, situacao)\n",
    "\n",
    "boletim(notas)\n"
   ]
  },
  {
   "cell_type": "markdown",
   "metadata": {},
   "source": [
    "## Funções lambda"
   ]
  },
  {
   "cell_type": "code",
   "execution_count": 1,
   "metadata": {},
   "outputs": [
    {
     "data": {
      "text/plain": [
       "5.5"
      ]
     },
     "execution_count": 1,
     "metadata": {},
     "output_type": "execute_result"
    }
   ],
   "source": [
    "# Comparando uma função de qualitativo no formato de função para função anônima \n",
    "nota = float(input(\"Digite a nota do(a) estudante: \"))\n",
    "\n",
    "def qualitativo(x):\n",
    "    return x + 0.5\n",
    "    \n",
    "qualitativo(nota)"
   ]
  },
  {
   "cell_type": "code",
   "execution_count": 2,
   "metadata": {},
   "outputs": [
    {
     "data": {
      "text/plain": [
       "5.5"
      ]
     },
     "execution_count": 2,
     "metadata": {},
     "output_type": "execute_result"
    }
   ],
   "source": [
    "nota = float(input(\"Digite a nota do(a) estudante: \"))\n",
    "\n",
    "qualitativo = lambda x : x + 0.5\n",
    "\n",
    "qualitativo(nota)"
   ]
  },
  {
   "cell_type": "code",
   "execution_count": 4,
   "metadata": {},
   "outputs": [
    {
     "data": {
      "text/plain": [
       "6.2"
      ]
     },
     "execution_count": 4,
     "metadata": {},
     "output_type": "execute_result"
    }
   ],
   "source": [
    "# Recebendo as notas e calculando a média ponderável\n",
    "N1 = float(input(\"Digite a 1ª nota do(a) estudante: \"))\n",
    "N2 = float(input(\"Digite a 2ª nota do(a) estudante: \"))\n",
    "N3 = float(input(\"Digite a 3ª nota do(a) estudante: \"))\n",
    "\n",
    "media_ponderavel = lambda x, y, z: (x * 3 + y * 2 + z * 5)/10\n",
    "\n",
    "media_estudante = media_ponderavel(N1, N2, N3)\n",
    "media_estudante"
   ]
  },
  {
   "cell_type": "code",
   "execution_count": 7,
   "metadata": {},
   "outputs": [
    {
     "data": {
      "text/plain": [
       "[6.5, 7.5, 9.5, 6.0, 8.5]"
      ]
     },
     "execution_count": 7,
     "metadata": {},
     "output_type": "execute_result"
    }
   ],
   "source": [
    "# Não conseguimos aplicar o lambda em lista direto, é necessário utilizarmos junto a ela a função map\n",
    "# Notas do(a) estudante\n",
    "notas = [6.0, 7.0, 9.0, 5.5, 8.0]\n",
    "qualitativo = 0.5\n",
    "notas_atualizadas = map(lambda x: x + qualitativo, notas)\n",
    "notas_atualizadas = list(notas_atualizadas)\n",
    "\n",
    "notas_atualizadas"
   ]
  },
  {
   "cell_type": "markdown",
   "metadata": {},
   "source": [
    "## Hora da prática"
   ]
  },
  {
   "cell_type": "markdown",
   "metadata": {},
   "source": [
    "### 1. Escreva um código que lê a lista abaixo e faça:"
   ]
  },
  {
   "cell_type": "markdown",
   "metadata": {},
   "source": [
    "lista = [16, 14, 63, 65, 17, 99, 70, 11, 20, 48, 79, 32, 17, 89, 12, 25, 66]\n",
    "<ul>\n",
    "    <li>A leitura do tamanho da lista</li>\n",
    "    <li>A leitura do maior e menor valor</li>\n",
    "    <li>A soma dos valores da lista</li>\n",
    "</ul>\n"
   ]
  },
  {
   "cell_type": "code",
   "execution_count": 12,
   "metadata": {},
   "outputs": [
    {
     "name": "stdout",
     "output_type": "stream",
     "text": [
      "A lista possui 17 números em que o maior número é 99 e o menor número é 11. A soma dos valores presentes nela é igual a 743\n"
     ]
    }
   ],
   "source": [
    "lista = [16, 14, 63, 65, 17, 99, 70, 11, 20, 48, 79, 32, 17, 89, 12, 25, 66]\n",
    "\n",
    "print(f\"A lista possui {len(lista)} números em que o maior número é {max(lista)} e o menor número é {min(lista)}. A soma dos valores presentes nela é igual a {sum(lista)}\")"
   ]
  },
  {
   "cell_type": "markdown",
   "metadata": {},
   "source": [
    "### 2. Escreva uma função que gere a tabuada de um número inteiro de 1 a 10, de acordo com a escolha da pessoa usuária. Como exemplo, para o número 7, a tabuada deve ser mostrada no seguinte formato:"
   ]
  },
  {
   "cell_type": "markdown",
   "metadata": {},
   "source": [
    "Tabuada do 7:\n",
    "7 x 0 = 0\n",
    "7 x 1 = 7\n",
    "[...]\n",
    "7 x 10 = 70"
   ]
  },
  {
   "cell_type": "code",
   "execution_count": 44,
   "metadata": {},
   "outputs": [
    {
     "name": "stdout",
     "output_type": "stream",
     "text": [
      "4 x 1 = 4\n",
      "4 x 2 = 8\n",
      "4 x 3 = 12\n",
      "4 x 4 = 16\n",
      "4 x 5 = 20\n",
      "4 x 6 = 24\n",
      "4 x 7 = 28\n",
      "4 x 8 = 32\n",
      "4 x 9 = 36\n",
      "4 x 10 = 40\n"
     ]
    }
   ],
   "source": [
    "def tabuada(x):\n",
    "    for i in range(1, 11):\n",
    "        print(f'{x} x {i} = {x * i}')\n",
    "\n",
    "tabuada(4)"
   ]
  },
  {
   "cell_type": "markdown",
   "metadata": {},
   "source": [
    "### 3. Crie a função que leia a lista abaixo e retorne uma nova lista com os múltiplos de 3:"
   ]
  },
  {
   "cell_type": "code",
   "execution_count": 48,
   "metadata": {},
   "outputs": [
    {
     "name": "stdout",
     "output_type": "stream",
     "text": [
      "[24, 99]\n"
     ]
    }
   ],
   "source": [
    "lista = [97, 80, 94, 88, 80, 1, 16, 53, 62, 32, 24, 99]\n",
    "\n",
    "def multiplo_3(lista):\n",
    "    resultado = []\n",
    "    for number in lista:\n",
    "        if number % 3 == 0:\n",
    "            resultado.append(number)\n",
    "    return resultado\n",
    "\n",
    "print(multiplo_3(lista))"
   ]
  },
  {
   "cell_type": "markdown",
   "metadata": {},
   "source": [
    "### 4. Crie uma lista dos quadrados dos números da seguinte lista [1, 2, 3, 4, 5, 6, 7, 8, 9, 10]. Lembre-se de utilizar as funções lambda e map() para calcular o quadrado de cada elemento da lista."
   ]
  },
  {
   "cell_type": "code",
   "execution_count": 49,
   "metadata": {},
   "outputs": [
    {
     "data": {
      "text/plain": [
       "[1, 4, 9, 16, 25, 36, 49, 64, 81, 100]"
      ]
     },
     "execution_count": 49,
     "metadata": {},
     "output_type": "execute_result"
    }
   ],
   "source": [
    "lista = [1, 2, 3, 4, 5, 6, 7, 8, 9, 10]\n",
    "\n",
    "quadrados = map(lambda x: x ** 2, lista)\n",
    "quadrados = list(quadrados)\n",
    "quadrados"
   ]
  },
  {
   "cell_type": "markdown",
   "metadata": {},
   "source": [
    "### 5. Você foi contratado(a) como cientista de dados de uma associação de skate. Para analisar as notas recebidas de skatistas em algumas competições ao longo do ano, você precisa criar um código que calcula a pontuação dos(as) atletas. Para isso, o seu código deve receber 5 notas digitadas pelas pessoas juradas."
   ]
  },
  {
   "cell_type": "markdown",
   "metadata": {},
   "source": [
    "Para calcular a pontuação de um(a) skatista, você precisa eliminar a maior e a menor pontuação dentre as 5 notas e tirar a média das 3 notas que sobraram. Retorne a média para apresentar o texto:\n",
    "\n",
    "\"Nota da manobra: [media]\""
   ]
  },
  {
   "cell_type": "code",
   "execution_count": 72,
   "metadata": {},
   "outputs": [
    {
     "name": "stdout",
     "output_type": "stream",
     "text": [
      "Notas geradas [9.72, 9.1, 8.55, 0.98, 4.05]\n",
      "Notas que sobraram [9.1, 8.55, 4.05]\n",
      "Nota da manobra: 7.23\n"
     ]
    }
   ],
   "source": [
    "from random import random\n",
    "\n",
    "def gerador_numeros_float(qtd, intervalo):\n",
    "    result = []\n",
    "    for i in range(qtd):\n",
    "        result.append(round(random() * intervalo, 2))\n",
    "    return result\n",
    "\n",
    "notas = gerador_numeros_float(5, 10)\n",
    "print('Notas geradas', notas)\n",
    "\n",
    "\n",
    "\n",
    "\n",
    "\n",
    "def calculadora_skate(notas):\n",
    "    notas.remove(min(notas))\n",
    "    notas.remove(max(notas))\n",
    "    print('Notas que sobraram', notas)\n",
    "\n",
    "    return round(sum(notas) / len(notas), 2)\n",
    "    \n",
    "print('Nota da manobra:', calculadora_skate(notas))"
   ]
  },
  {
   "cell_type": "markdown",
   "metadata": {},
   "source": [
    "### 6. Para atender a uma demanda de uma instituição de ensino para a análise do desempenho de seus(suas) estudantes, você precisa criar uma função que receba uma lista de 4 notas e retorne:"
   ]
  },
  {
   "cell_type": "markdown",
   "metadata": {},
   "source": [
    "\n",
    "maior nota\n",
    "menor nota\n",
    "média\n",
    "situação (Aprovado(a) ou Reprovado(a))\n",
    "\n",
    "\"O(a) estudante obteve uma média de [media], com a sua maior nota de [maior] pontos e a menor nota de [menor] pontos e foi [situacao]\""
   ]
  },
  {
   "cell_type": "code",
   "execution_count": 8,
   "metadata": {},
   "outputs": [
    {
     "name": "stdout",
     "output_type": "stream",
     "text": [
      "O(a) estudante obteve uma média de 6.56, com a sua maior nota de 8.24 pontos e a menor nota de 3.64 pontos e foi Aprovado\n"
     ]
    }
   ],
   "source": [
    "from random import random\n",
    "\n",
    "def gerador_nota():\n",
    "    notas = []\n",
    "\n",
    "    for i in range(4):\n",
    "        notas.append(round(random() * 10, 2))\n",
    "    \n",
    "    return notas\n",
    "\n",
    "notas = gerador_nota()\n",
    "maior_nota = max(notas)\n",
    "menor_nota = min(notas)\n",
    "media = round(sum(notas) / len(notas), 2)\n",
    "situacao = 'Aprovado' if media >= 6 else 'Reprovado'\n",
    "\n",
    "print(f'O(a) estudante obteve uma média de {media}, com a sua maior nota de {maior_nota} pontos e a menor nota de {menor_nota} pontos e foi {situacao}')"
   ]
  },
  {
   "cell_type": "markdown",
   "metadata": {},
   "source": [
    "### 7. Você recebeu uma demanda para tratar 2 listas com os nomes e sobrenomes de cada estudante concatenando-as para apresentar seus nomes completos na forma Nome Sobrenome. As listas são:\n"
   ]
  },
  {
   "cell_type": "code",
   "execution_count": 9,
   "metadata": {},
   "outputs": [
    {
     "name": "stdout",
     "output_type": "stream",
     "text": [
      "João Silva\n",
      "Maria Souza\n",
      "José Tavares\n"
     ]
    }
   ],
   "source": [
    "nomes = [\"joão\", \"MaRia\", \"JOSÉ\"]\n",
    "sobrenomes = [\"SILVA\", \"souza\", \"Tavares\"]\n",
    "\n",
    "for i in range(len(nomes)):\n",
    "    print(f'{nomes[i].capitalize()} {sobrenomes[i].capitalize()}')"
   ]
  },
  {
   "cell_type": "markdown",
   "metadata": {},
   "source": [
    "### 8.  Como cientista de dados em um time de futebol, você precisa implementar novas formas de coleta de dados sobre o desempenho de jogadores e do time como um todo. Sua primeira ação é criar uma forma de calcular a pontuação do time no campeonato nacional a partir dos dados de gols marcados e sofridos em cada jogo.\n"
   ]
  },
  {
   "cell_type": "markdown",
   "metadata": {},
   "source": [
    "Escreva uma função chamada calcula_pontos que recebe como parâmetros duas listas de números inteiros, representando os gols marcados e sofridos pelo time em cada partida do campeonato. A função deve retornar a pontuação do time e o aproveitamento em percentual, levando em consideração que a vitória vale 3 pontos, o empate vale 1 ponto e a derrota 0 pontos.\n",
    "\n",
    "\"A pontuação do time foi de [pontos] e seu aproveitamento foi de [aprov]%\""
   ]
  },
  {
   "cell_type": "code",
   "execution_count": 10,
   "metadata": {},
   "outputs": [
    {
     "name": "stdout",
     "output_type": "stream",
     "text": [
      "A pontuação do time foi de 6 e seu aproveitamento foi de 40.0%\n"
     ]
    }
   ],
   "source": [
    "gols_marcados = [2, 1, 3, 1, 0]\n",
    "gols_sofridos = [1, 2, 2, 1, 3]\n",
    "\n",
    "def calcula_pontos(marcados, sofridos):\n",
    "    pontos = 0\n",
    "\n",
    "    for i in range(len(gols_marcados)):\n",
    "        if gols_marcados[i] > gols_sofridos[i]:\n",
    "            pontos += 3\n",
    "        elif gols_marcados[i] == gols_sofridos:\n",
    "            pontos += 1\n",
    "    \n",
    "    return pontos\n",
    "\n",
    "pontos = calcula_pontos(gols_marcados, gols_sofridos)\n",
    "\n",
    "aproveitamento = pontos / (len(gols_sofridos) * 3) * 100\n",
    "\n",
    "print(f'A pontuação do time foi de {pontos} e seu aproveitamento foi de {aproveitamento}%')"
   ]
  },
  {
   "cell_type": "markdown",
   "metadata": {},
   "source": [
    "### 9. Você recebeu o desafio de criar um có digo que calcula os gastos de uma viagem para um das quatro cidades partindo de Recife, sendo elas: Salvador, Fortaleza, Natal e Aracaju."
   ]
  },
  {
   "cell_type": "markdown",
   "metadata": {},
   "source": [
    "O custo da diária do hotel é de 150 reais em todas elas e o consumo de gasolina na viagem de carro é de 14 km/l, sendo que o valor da gasolina é de 5 reais o litro. O gastos com passeios e alimentação a se fazer em cada uma delas por dia seria de [200, 400, 250, 300], respectivamente.\n",
    "\n",
    "Sabendo que as distâncias entre Recife e cada uma das cidades é de aproximadamente [850, 800, 300, 550] km, crie três funções nas quais: a 1ª função calcule os gastos com hotel (gasto_hotel), a 2ª calcule os gastos com a gasolina (gasto_gasolina) e a 3ª os gastos com passeio e alimentação (gasto_passeio).\n",
    "\n",
    "Para testar, simule uma viagem de 3 dias para Salvador partindo de Recife. Considere a viagem de ida e volta de carro."
   ]
  },
  {
   "cell_type": "markdown",
   "metadata": {},
   "source": [
    "Você recebeu o desafio de criar um có digo que calcula os gastos de uma viagem para um das quatro cidades partindo de Recife, sendo elas: Salvador, Fortaleza, Natal e Aracaju.\n",
    "\n",
    "O custo da diária do hotel é de 150 reais em todas elas e o consumo de gasolina na viagem de carro é de 14 km/l, sendo que o valor da gasolina é de 5 reais o litro. O gastos com passeios e alimentação a se fazer em cada uma delas por dia seria de [200, 400, 250, 300], respectivamente.\n",
    "\n",
    "Sabendo que as distâncias entre Recife e cada uma das cidades é de aproximadamente [850, 800, 300, 550] km, crie três funções nas quais: a 1ª função calcule os gastos com hotel (gasto_hotel), a 2ª calcule os gastos com a gasolina (gasto_gasolina) e a 3ª os gastos com passeio e alimentação (gasto_passeio).\n",
    "\n",
    "Para testar, simule uma viagem de 3 dias para Salvador partindo de Recife. Considere a viagem de ida e volta de carro."
   ]
  },
  {
   "cell_type": "code",
   "execution_count": 15,
   "metadata": {},
   "outputs": [
    {
     "name": "stdout",
     "output_type": "stream",
     "text": [
      "Viagem de 3 dias de Salvador -> Recife\n",
      "Gasto de hotel: 450\n",
      "Gasto de gasolina: 607.14\n",
      "Gasto passeio e alimentação: 600\n",
      "\n"
     ]
    }
   ],
   "source": [
    "gasto_hotel = lambda dias: dias * 150\n",
    "gasto_gasolina = lambda distancia, consumo, preco: round((distancia / consumo) * preco, 2)\n",
    "\n",
    "def gasto_passeio(cidade, dias):\n",
    "    if cidade == 'Salvador':\n",
    "        return 200 * dias\n",
    "    elif cidade == 'Fortaleza':\n",
    "        return 400 * dias\n",
    "    elif cidade == 'Natal':\n",
    "        return 250 * dias\n",
    "    elif cidade == 'Aracaju':\n",
    "        return 300 * dias\n",
    "\n",
    "print(f'''Viagem de 3 dias de Salvador -> Recife\n",
    "Gasto de hotel: {gasto_hotel(3)}\n",
    "Gasto de gasolina: {gasto_gasolina(850*2, 14, 5)}\n",
    "Gasto passeio e alimentação: {gasto_passeio('Salvador', 3)}\n",
    "''')\n"
   ]
  },
  {
   "cell_type": "markdown",
   "metadata": {},
   "source": [
    "### 10. Você iniciou um estágio em uma empresa que trabalha com processamento de linguagem natural (NLP). Sua líder requisitou que você criasse um trecho de código que recebe uma frase digitada pela pessoa usuária e filtre apenas as palavras com tamanho maior ou igual a 5, exibindo-as em uma lista. Essa demanda é voltada para a análise do padrão de comportamento de pessoas na escrita de palavras acima dessa quantidade de caracteres."
   ]
  },
  {
   "cell_type": "code",
   "execution_count": 43,
   "metadata": {},
   "outputs": [
    {
     "data": {
      "text/plain": [
       "['Aprender', 'Python', 'Alura', 'muito']"
      ]
     },
     "execution_count": 43,
     "metadata": {},
     "output_type": "execute_result"
    }
   ],
   "source": [
    "frase = \"Aprender Python aqui na Alura é muito bom\"\n",
    "\n",
    "resultado = list(filter(lambda x: len(x) >= 5, frase.split()))\n",
    "resultado"
   ]
  },
  {
   "cell_type": "markdown",
   "metadata": {},
   "source": [
    "# Estrutura de dados"
   ]
  },
  {
   "cell_type": "markdown",
   "metadata": {},
   "source": [
    "## Lista de listas"
   ]
  },
  {
   "cell_type": "code",
   "execution_count": 47,
   "metadata": {},
   "outputs": [
    {
     "data": {
      "text/plain": [
       "[[8.0, 9.0, 10.0],\n",
       " [9.0, 7.0, 6.0],\n",
       " [3.4, 7.0, 7.0],\n",
       " [5.5, 6.6, 8.0],\n",
       " [6.0, 10.0, 9.5]]"
      ]
     },
     "execution_count": 47,
     "metadata": {},
     "output_type": "execute_result"
    }
   ],
   "source": [
    "notas_turma = ['João', 8.0, 9.0, 10.0, 'Maria', 9.0, 7.0, 6.0, 'José', 3.4, 7.0, 7.0, 'Cláudia', 5.5, 6.6, 8.0, 'Ana', 6.0, 10.0, 9.5]\n",
    "\n",
    "nomes = []\n",
    "notas_juntas = []\n",
    "\n",
    "for i in range(len(notas_turma)): \n",
    "  if i % 4 ==0: \n",
    "      nomes.append(notas_turma[i])\n",
    "  else: \n",
    "      notas_juntas.append(notas_turma[i])\n",
    "\n",
    "\n",
    "notas = []\n",
    "\n",
    "for i in range(0, len(notas_juntas), 3): \n",
    "  notas.append([notas_juntas[i], notas_juntas[i+1], notas_juntas[i+2]])\n",
    "notas\n"
   ]
  },
  {
   "cell_type": "markdown",
   "metadata": {},
   "source": [
    "## Tuplas"
   ]
  },
  {
   "cell_type": "code",
   "execution_count": 48,
   "metadata": {},
   "outputs": [
    {
     "name": "stdout",
     "output_type": "stream",
     "text": [
      "Júlia\n",
      "Python para DS 1\n"
     ]
    }
   ],
   "source": [
    "cadastro = (\"Júlia\", 23, \"São Paulo\", \"SP\", \"Python para DS 1\")\n",
    "\n",
    "print(cadastro[0]) # imprime Júlia\n",
    "print(cadastro[-1]) # imprime Python para DS 1\n"
   ]
  },
  {
   "cell_type": "code",
   "execution_count": 49,
   "metadata": {},
   "outputs": [
    {
     "name": "stdout",
     "output_type": "stream",
     "text": [
      "A estudante Júlia tem 23 anos e mora em São Paulo-SP. Ela está matriculada na turma de Python para DS 1.\n"
     ]
    }
   ],
   "source": [
    "nome, idade, cidade, estado, turma = cadastro\n",
    "\n",
    "print(f'A estudante {nome} tem {idade} anos e mora em {cidade}-{estado}. Ela está matriculada na turma de {turma}.')\n"
   ]
  },
  {
   "cell_type": "code",
   "execution_count": 52,
   "metadata": {},
   "outputs": [
    {
     "data": {
      "text/plain": [
       "[('João', 'J375'),\n",
       " ('Maria', 'M882'),\n",
       " ('José', 'J9'),\n",
       " ('Cláudia', 'C633'),\n",
       " ('Ana', 'A707')]"
      ]
     },
     "execution_count": 52,
     "metadata": {},
     "output_type": "execute_result"
    }
   ],
   "source": [
    "from random import randint\n",
    "\n",
    "estudantes = [\"João\", \"Maria\", \"José\", \"Cláudia\", \"Ana\"]\n",
    "\n",
    "\n",
    "def gera_codigo():\n",
    "  return str(randint(0,999))\n",
    "\n",
    "\n",
    "codigo_estudantes = []\n",
    "\n",
    "for i in range(len(estudantes)): \n",
    "  codigo_estudantes.append((estudantes[i], estudantes[i][0] + gera_codigo()))\n",
    "\n",
    "codigo_estudantes\n"
   ]
  },
  {
   "cell_type": "markdown",
   "metadata": {},
   "source": [
    "## List comprehension"
   ]
  },
  {
   "cell_type": "code",
   "execution_count": 53,
   "metadata": {},
   "outputs": [],
   "source": [
    "notas = [[8.0, 9.0, 10.0], [9.0, 7.0, 6.0], [3.4, 7.0, 7.0], [5.5, 6.6, 8.0], [6.0, 10.0, 9.5]]\n"
   ]
  },
  {
   "cell_type": "code",
   "execution_count": 54,
   "metadata": {},
   "outputs": [],
   "source": [
    "def media(lista: list=[0]) -> float:\n",
    "  ''' Função para calcular a média de notas passadas por uma lista\n",
    "\n",
    "  lista: list, default [0]\n",
    "    Lista com as notas para calcular a média\n",
    "  return = calculo: float\n",
    "    Média calculada\n",
    "  '''\n",
    "  \n",
    "  calculo = sum(lista) / len(lista)\n",
    "\n",
    "  return calculo\n"
   ]
  },
  {
   "cell_type": "code",
   "execution_count": 57,
   "metadata": {},
   "outputs": [
    {
     "data": {
      "text/plain": [
       "[9.0, 7.3, 5.8, 6.7, 8.5]"
      ]
     },
     "execution_count": 57,
     "metadata": {},
     "output_type": "execute_result"
    }
   ],
   "source": [
    "medias = [round(media(nota), 1) for nota in notas]\n",
    "medias\n"
   ]
  },
  {
   "cell_type": "code",
   "execution_count": 58,
   "metadata": {},
   "outputs": [
    {
     "data": {
      "text/plain": [
       "['João', 'Maria', 'José', 'Cláudia', 'Ana']"
      ]
     },
     "execution_count": 58,
     "metadata": {},
     "output_type": "execute_result"
    }
   ],
   "source": [
    "nomes = [('João', 'J720'), ('Maria', 'M205'), ('José', 'J371'), ('Cláudia', 'C546'), ('Ana', 'A347')]\n",
    "medias = [9.0, 7.3, 5.8, 6.7, 8.5]\n",
    "\n",
    "lista_nomes = [nome[0] for nome in nomes]\n",
    "lista_nomes\n"
   ]
  },
  {
   "cell_type": "code",
   "execution_count": 59,
   "metadata": {},
   "outputs": [
    {
     "data": {
      "text/plain": [
       "[(('João', 'J720'), 9.0),\n",
       " (('Maria', 'M205'), 7.3),\n",
       " (('José', 'J371'), 5.8),\n",
       " (('Cláudia', 'C546'), 6.7),\n",
       " (('Ana', 'A347'), 8.5)]"
      ]
     },
     "execution_count": 59,
     "metadata": {},
     "output_type": "execute_result"
    }
   ],
   "source": [
    "estudantes = list(zip(nomes, medias))\n",
    "estudantes\n"
   ]
  },
  {
   "cell_type": "code",
   "execution_count": 60,
   "metadata": {},
   "outputs": [
    {
     "data": {
      "text/plain": [
       "[('João', 'J720'), ('Ana', 'A347')]"
      ]
     },
     "execution_count": 60,
     "metadata": {},
     "output_type": "execute_result"
    }
   ],
   "source": [
    "candidatos = [estudante[0] for estudante in estudantes if estudante[1] >= 8]\n",
    "candidatos\n"
   ]
  },
  {
   "cell_type": "markdown",
   "metadata": {},
   "source": [
    "## Dict comprehension"
   ]
  },
  {
   "cell_type": "code",
   "execution_count": 61,
   "metadata": {},
   "outputs": [],
   "source": [
    "lista_completa = [[('João', 'J720'), ('Maria', 'M205'), ('José', 'J371'), ('Cláudia', 'C546'), ('Ana', 'A347')],\n",
    "                  [[8.0, 9.0, 10.0], [9.0, 7.0, 6.0], [3.4, 7.0, 7.0], [5.5, 6.6, 8.0], [6.0, 10.0, 9.5]],\n",
    "                  [9.0, 7.3, 5.8, 6.7, 8.5],\n",
    "                  ['Aprovado', 'Aprovado', 'Reprovado', 'Aprovado', 'Aprovado']]\n"
   ]
  },
  {
   "cell_type": "code",
   "execution_count": 62,
   "metadata": {},
   "outputs": [
    {
     "data": {
      "text/plain": [
       "{'Notas': [[8.0, 9.0, 10.0],\n",
       "  [9.0, 7.0, 6.0],\n",
       "  [3.4, 7.0, 7.0],\n",
       "  [5.5, 6.6, 8.0],\n",
       "  [6.0, 10.0, 9.5]],\n",
       " 'Media Final': [9.0, 7.3, 5.8, 6.7, 8.5],\n",
       " 'Situação': ['Aprovado', 'Aprovado', 'Reprovado', 'Aprovado', 'Aprovado']}"
      ]
     },
     "execution_count": 62,
     "metadata": {},
     "output_type": "execute_result"
    }
   ],
   "source": [
    "coluna = [\"Notas\", \"Media Final\", \"Situação\"]\n",
    "\n",
    "cadastro  = {coluna[i]: lista_completa[i+1] for i in range(len(coluna))}\n",
    "cadastro\n"
   ]
  },
  {
   "cell_type": "code",
   "execution_count": 63,
   "metadata": {},
   "outputs": [
    {
     "data": {
      "text/plain": [
       "{'Notas': [[8.0, 9.0, 10.0],\n",
       "  [9.0, 7.0, 6.0],\n",
       "  [3.4, 7.0, 7.0],\n",
       "  [5.5, 6.6, 8.0],\n",
       "  [6.0, 10.0, 9.5]],\n",
       " 'Media Final': [9.0, 7.3, 5.8, 6.7, 8.5],\n",
       " 'Situação': ['Aprovado', 'Aprovado', 'Reprovado', 'Aprovado', 'Aprovado'],\n",
       " 'Estudante': ['João', 'Maria', 'José', 'Cláudia', 'Ana']}"
      ]
     },
     "execution_count": 63,
     "metadata": {},
     "output_type": "execute_result"
    }
   ],
   "source": [
    "cadastro[\"Estudante\"] = [lista_completa[0][i][0] for i in range(len(lista_completa[0]))]\n",
    "cadastro\n"
   ]
  },
  {
   "cell_type": "markdown",
   "metadata": {},
   "source": [
    "## Hora da prática"
   ]
  },
  {
   "cell_type": "markdown",
   "metadata": {},
   "source": [
    "### 1. Crie um código para imprimir a soma dos elementos de cada uma das listas contidas na seguinte lista:\n"
   ]
  },
  {
   "cell_type": "markdown",
   "metadata": {},
   "source": [
    "lista_de_listas = [[4,6,5,9], [1,0,7,2], [3,4,1,8]]\n"
   ]
  },
  {
   "cell_type": "code",
   "execution_count": 67,
   "metadata": {},
   "outputs": [
    {
     "name": "stdout",
     "output_type": "stream",
     "text": [
      "24\n",
      "10\n",
      "16\n"
     ]
    }
   ],
   "source": [
    "lista_de_listas = [[4,6,5,9], [1,0,7,2], [3,4,1,8]]\n",
    "\n",
    "for lista in lista_de_listas:\n",
    "    print(sum(lista))"
   ]
  },
  {
   "cell_type": "markdown",
   "metadata": {},
   "source": [
    "### 2. Crie um código para gerar uma lista que armazena o terceiro elemento de cada tupla contida na seguinte lista de tuplas:"
   ]
  },
  {
   "cell_type": "code",
   "execution_count": 71,
   "metadata": {},
   "outputs": [
    {
     "data": {
      "text/plain": [
       "[81, 67, 83]"
      ]
     },
     "execution_count": 71,
     "metadata": {},
     "output_type": "execute_result"
    }
   ],
   "source": [
    "lista_de_tuplas = [('Pedro', 1.74, 81), ('Júlia', 1.65, 67), ('Otávio', 1.81, 83)]\n",
    "\n",
    "peso = []\n",
    "\n",
    "for dic in lista_de_tuplas:\n",
    "    peso.append(dic[2])\n",
    "\n",
    "peso\n"
   ]
  },
  {
   "cell_type": "markdown",
   "metadata": {},
   "source": [
    "### 3. A partir da lista: lista = ['Pedro', 'Júlia', 'Otávio', 'Eduardo'], crie um código para gerar uma lista de tuplas em que cada tupla tenha o primeiro elemento como a posição do nome na lista original e o segundo elemento sendo o próprio nome."
   ]
  },
  {
   "cell_type": "code",
   "execution_count": 74,
   "metadata": {},
   "outputs": [
    {
     "data": {
      "text/plain": [
       "[(0, 'Pedro'), (1, 'Júlia'), (2, 'Otávio'), (3, 'Eduardo')]"
      ]
     },
     "execution_count": 74,
     "metadata": {},
     "output_type": "execute_result"
    }
   ],
   "source": [
    "lista = ['Pedro', 'Júlia', 'Otávio', 'Eduardo']\n",
    "\n",
    "resultado = []\n",
    "\n",
    "for i in range(len(lista)):\n",
    "    resultado.append((i, lista[i]))\n",
    "\n",
    "resultado"
   ]
  },
  {
   "cell_type": "markdown",
   "metadata": {},
   "source": [
    "### 4. Crie uma lista usando o list comprehension que armazena somente o valor numérico de cada tupla caso o primeiro elemento seja 'Apartamento', a partir da seguinte lista de tuplas:"
   ]
  },
  {
   "cell_type": "code",
   "execution_count": 87,
   "metadata": {},
   "outputs": [
    {
     "data": {
      "text/plain": [
       "[1700, 1400, 1900]"
      ]
     },
     "execution_count": 87,
     "metadata": {},
     "output_type": "execute_result"
    }
   ],
   "source": [
    "aluguel = [('Apartamento', 1700), ('Apartamento', 1400), ('Casa', 2150), ('Apartamento', 1900), ('Casa', 1100)]\n",
    "\n",
    "resultado = [dado[1] for dado in aluguel if dado[0] == 'Apartamento']\n",
    "\n",
    "resultado"
   ]
  },
  {
   "cell_type": "markdown",
   "metadata": {},
   "source": [
    "### 5. Crie um dicionário usando o dict comprehension em que as chaves estão na lista meses = ['Jan', 'Fev', 'Mar', 'Abr', 'Mai', 'Jun', 'Jul', 'Ago', 'Set', 'Out', 'Nov', 'Dez'] e os valores estão em despesa = [860, 490, 1010, 780, 900, 630, 590, 770, 620, 560, 840, 360]."
   ]
  },
  {
   "cell_type": "code",
   "execution_count": 82,
   "metadata": {},
   "outputs": [
    {
     "data": {
      "text/plain": [
       "[('Jan', 860),\n",
       " ('Fev', 490),\n",
       " ('Mar', 1010),\n",
       " ('Abr', 780),\n",
       " ('Mai', 900),\n",
       " ('Jun', 630),\n",
       " ('Jul', 590),\n",
       " ('Ago', 770),\n",
       " ('Set', 620),\n",
       " ('Out', 560),\n",
       " ('Nov', 840),\n",
       " ('Dez', 360)]"
      ]
     },
     "execution_count": 82,
     "metadata": {},
     "output_type": "execute_result"
    }
   ],
   "source": [
    "meses = ['Jan', 'Fev', 'Mar', 'Abr', 'Mai', 'Jun', 'Jul', 'Ago', 'Set', 'Out', 'Nov', 'Dez']\n",
    "despesa = [860, 490, 1010, 780, 900, 630, 590, 770, 620, 560, 840, 360]\n",
    "\n",
    "list(zip(meses, despesa))"
   ]
  },
  {
   "cell_type": "markdown",
   "metadata": {},
   "source": [
    "### 6. Uma loja possui um banco de dados com a informação de venda de cada representante e de cada ano e precisa filtrar somente os dados do ano 2022 com venda maior do que 6000. A loja forneceu uma amostra contendo apenas as colunas com os anos e os valores de venda para que você ajude a realizar a filtragem dos dados a partir de um código:"
   ]
  },
  {
   "cell_type": "code",
   "execution_count": 83,
   "metadata": {},
   "outputs": [],
   "source": [
    "vendas = [('2023', 4093), ('2021', 4320), ('2021', 5959), ('2022', 8883), ('2023', 9859), ('2022', 5141), ('2022', 7688), ('2022', 9544), ('2023', 4794), ('2021', 7178), ('2022', 3030), ('2021', 7471), ('2022', 4226), ('2022', 8190), ('2021', 9680), ('2022', 5616)]"
   ]
  },
  {
   "cell_type": "markdown",
   "metadata": {},
   "source": [
    "Crie uma lista usando list comprehension para filtrar os valores de 2022 e que sejam maiores que 6000."
   ]
  },
  {
   "cell_type": "code",
   "execution_count": 91,
   "metadata": {},
   "outputs": [
    {
     "data": {
      "text/plain": [
       "[8883, 5141, 7688, 9544, 3030, 4226, 8190, 5616]"
      ]
     },
     "execution_count": 91,
     "metadata": {},
     "output_type": "execute_result"
    }
   ],
   "source": [
    "resultado = [valor[1] for valor in vendas if valor[0] == '2022']\n",
    "resultado"
   ]
  },
  {
   "cell_type": "markdown",
   "metadata": {},
   "source": [
    "### 7. Uma clínica analisa dados de pacientes e armazena o valor numérico da glicose em um banco de dados e gostaria de rotular os dados da seguinte maneira:"
   ]
  },
  {
   "cell_type": "markdown",
   "metadata": {},
   "source": [
    "* Glicose igual ou inferior a 70: 'Hipoglicemia'\n",
    "* Glicose entre 70 a 99: 'Normal'\n",
    "* Glicose entre 100 e 125: 'Alterada'\n",
    "* Glicose superior a 125: 'Diabetes'"
   ]
  },
  {
   "cell_type": "markdown",
   "metadata": {},
   "source": [
    "A clínica disponibilizou parte dos valores e sua tarefa é criar uma lista de tuplas usando list comprehension contendo o rótulo e o valor da glicemia em cada tupla."
   ]
  },
  {
   "cell_type": "code",
   "execution_count": 94,
   "metadata": {},
   "outputs": [
    {
     "data": {
      "text/plain": [
       "[(129, 'Diabetes'),\n",
       " (82, 'Normal'),\n",
       " (60, 'Hipoglicemia'),\n",
       " (97, 'Normal'),\n",
       " (101, 'Alterada'),\n",
       " (65, 'Hipoglicemia'),\n",
       " (62, 'Hipoglicemia'),\n",
       " (167, 'Diabetes'),\n",
       " (87, 'Normal'),\n",
       " (53, 'Hipoglicemia'),\n",
       " (58, 'Hipoglicemia'),\n",
       " (92, 'Normal'),\n",
       " (66, 'Hipoglicemia'),\n",
       " (120, 'Alterada'),\n",
       " (109, 'Alterada'),\n",
       " (62, 'Hipoglicemia'),\n",
       " (86, 'Normal'),\n",
       " (96, 'Normal'),\n",
       " (103, 'Alterada'),\n",
       " (88, 'Normal'),\n",
       " (155, 'Diabetes'),\n",
       " (52, 'Hipoglicemia'),\n",
       " (89, 'Normal'),\n",
       " (73, 'Normal')]"
      ]
     },
     "execution_count": 94,
     "metadata": {},
     "output_type": "execute_result"
    }
   ],
   "source": [
    "glicemia = [129, 82, 60, 97, 101, 65, 62, 167, 87, 53, 58, 92, 66, 120, 109, 62, 86, 96, 103, 88, 155, 52, 89, 73]\n",
    "\n",
    "resultado = []\n",
    "rotulo = ''\n",
    "\n",
    "for valor in glicemia:\n",
    "    if valor <= 70:\n",
    "        rotulo = 'Hipoglicemia'\n",
    "    elif valor >= 70 and valor <= 99:\n",
    "        rotulo = 'Normal'\n",
    "    elif valor >= 100 and valor <= 125:\n",
    "        rotulo = 'Alterada'\n",
    "    elif valor > 125:\n",
    "        rotulo = 'Diabetes'\n",
    "    \n",
    "    resultado.append((valor, rotulo))\n",
    "\n",
    "resultado"
   ]
  },
  {
   "cell_type": "markdown",
   "metadata": {},
   "source": [
    "### 8. Um e-commerce possui as informações de id de venda, quantidade vendida e preço do produto divididos nas seguintes listas:"
   ]
  },
  {
   "cell_type": "code",
   "execution_count": 95,
   "metadata": {},
   "outputs": [],
   "source": [
    "id = [0, 1, 2, 3, 4, 5, 6, 7, 8, 9]\n",
    "quantidade = [15, 12, 1, 15, 2, 11, 2, 12, 2, 4]\n",
    "preco = [93.0, 102.0, 18.0, 41.0, 122.0, 14.0, 71.0, 48.0, 14.0, 144.0]\n"
   ]
  },
  {
   "cell_type": "markdown",
   "metadata": {},
   "source": [
    "O e-commerce precisa estruturar esses dados em uma tabela contendo o valor total da venda, que é obtida multiplicando a quantidade pelo preço unitário. Além disso, a tabela precisa conter um cabeçalho indicando as colunas: 'id', 'quantidade', 'preco' e 'total'.\n",
    "\n",
    "Crie uma lista de tuplas em que cada tupla tenha id, quantidade, preço e valor total, na qual a primeira tupla é o cabeçalho da tabela."
   ]
  },
  {
   "cell_type": "code",
   "execution_count": 100,
   "metadata": {},
   "outputs": [
    {
     "data": {
      "text/plain": [
       "[('id', 'quantidade', 'preco', 'total'),\n",
       " (0, 15, 93.0, 1395.0),\n",
       " (1, 12, 102.0, 1224.0),\n",
       " (2, 1, 18.0, 18.0),\n",
       " (3, 15, 41.0, 615.0),\n",
       " (4, 2, 122.0, 244.0),\n",
       " (5, 11, 14.0, 154.0),\n",
       " (6, 2, 71.0, 142.0),\n",
       " (7, 12, 48.0, 576.0),\n",
       " (8, 2, 14.0, 28.0),\n",
       " (9, 4, 144.0, 576.0)]"
      ]
     },
     "execution_count": 100,
     "metadata": {},
     "output_type": "execute_result"
    }
   ],
   "source": [
    "tabela = [('id', 'quantidade', 'preco', 'total')]\n",
    "\n",
    "tabela += [(id[i], quantidade[i], preco[i], quantidade[i] * preco[i]) for i in range(len(id))]\n",
    "\n",
    "tabela"
   ]
  },
  {
   "cell_type": "markdown",
   "metadata": {},
   "source": [
    "### 9. Uma empresa possui filiais espalhadas nos Estados da região Sudeste do Brasil. Em uma das tabelas de cadastro das filiais há uma coluna contendo a informação de qual é o Estado a que pertence: estados = ['SP', 'ES', 'MG', 'MG', 'SP', 'MG', 'ES', 'ES', 'ES', 'SP', 'SP', 'MG', 'ES', 'SP', 'RJ', 'MG', 'RJ', 'SP', 'MG', 'SP', 'ES', 'SP', 'MG']"
   ]
  },
  {
   "cell_type": "code",
   "execution_count": 101,
   "metadata": {},
   "outputs": [],
   "source": [
    "estados = ['SP', 'ES', 'MG', 'MG', 'SP', 'MG', 'ES', 'ES', 'ES', 'SP', 'SP', 'MG', 'ES', 'SP', 'RJ', 'MG', 'RJ', 'SP', 'MG', 'SP', 'ES', 'SP', 'MG']"
   ]
  },
  {
   "cell_type": "markdown",
   "metadata": {},
   "source": [
    "A empresa sempre está abrindo novas filiais, de modo que a tabela está constantemente recebendo novos registros e o gestor gostaria de possuir a informação atualizada da quantidade de filiais em cada Estado.\n",
    "\n",
    "A partir da coluna com a informação dos Estados, crie um dicionário usando dict comprehension com a chave sendo o nome de um Estado e o valor sendo a contagem de vezes em que o Estado aparece na lista."
   ]
  },
  {
   "cell_type": "code",
   "execution_count": 103,
   "metadata": {},
   "outputs": [
    {
     "data": {
      "text/plain": [
       "['MG', 'RJ', 'SP', 'ES']"
      ]
     },
     "execution_count": 103,
     "metadata": {},
     "output_type": "execute_result"
    }
   ],
   "source": [
    "estados_unicos = list(set(estados))\n",
    "\n",
    "estados_unicos"
   ]
  },
  {
   "cell_type": "code",
   "execution_count": 116,
   "metadata": {},
   "outputs": [
    {
     "name": "stdout",
     "output_type": "stream",
     "text": [
      "[['MG', 'MG', 'MG', 'MG', 'MG', 'MG', 'MG'], ['RJ', 'RJ'], ['SP', 'SP', 'SP', 'SP', 'SP', 'SP', 'SP', 'SP'], ['ES', 'ES', 'ES', 'ES', 'ES', 'ES']]\n",
      "{'MG': 7, 'RJ': 2, 'SP': 8, 'ES': 6}\n"
     ]
    }
   ],
   "source": [
    "lista_de_listas = []\n",
    "\n",
    "for estado in estados_unicos:\n",
    "    lista = [st for st in estados if st == estado]\n",
    "    lista_de_listas.append(lista)\n",
    "\n",
    "print(lista_de_listas)\n",
    "\n",
    "contagem_valores = {estados_unicos[i]: len(lista_de_listas[i]) for i in range(len(estados_unicos))}\n",
    "print(contagem_valores)"
   ]
  },
  {
   "cell_type": "markdown",
   "metadata": {},
   "source": [
    "### 10. Nessa mesma tabela de cadastro de filiais, há uma coluna com as informações da quantidade de pessoas colaboradoras e o(a) gestor(a) gostaria de ter um agrupamento da soma dessas pessoas para cada estado. As informações contidas na tabela são:"
   ]
  },
  {
   "cell_type": "code",
   "execution_count": 148,
   "metadata": {},
   "outputs": [
    {
     "name": "stdout",
     "output_type": "stream",
     "text": [
      "[{'MG': 54}, {'RJ': 22}, {'SP': 82}, {'ES': 58}]\n"
     ]
    }
   ],
   "source": [
    "funcionarios = [('SP', 16), ('ES', 8), ('MG', 9), ('MG', 6), ('SP', 10), ('MG', 4), ('ES',9), ('ES', 7), ('ES', 12), ('SP', 7), ('SP', 11), ('MG',8), ('ES',8), ('SP',9), ('RJ', 13), ('MG', 5), ('RJ', 9), ('SP', 12), ('MG', 10), ('SP', 7), ('ES', 14), ('SP', 10), ('MG', 12)]\n",
    "\n",
    "estados_unicos = list(set([dado[0] for dado in funcionarios]))\n",
    "\n",
    "lista_de_listas = []\n",
    "\n",
    "\n",
    "for estado in estados_unicos:\n",
    "    lista = {estado: sum([valor[1] for valor in funcionarios if valor[0] == estado])}\n",
    "    lista_de_listas.append(lista)\n",
    "    \n",
    "print(lista_de_listas)\n",
    "\n"
   ]
  },
  {
   "cell_type": "markdown",
   "metadata": {},
   "source": [
    "# Lidando com exceções"
   ]
  },
  {
   "cell_type": "markdown",
   "metadata": {},
   "source": [
    "## Tratando exceções"
   ]
  },
  {
   "cell_type": "code",
   "execution_count": 149,
   "metadata": {},
   "outputs": [],
   "source": [
    "notas = {'João': [8.0, 9.0, 10.0], 'Maria': [9.0, 7.0, 6.0], 'José': [3.4, 7.0, 8.0],'Cláudia': [5.5, 6.6, 8.0], 'Ana': [6.0, 10.0, 9.5], 'Joaquim': [5.5, 7.5, 9.0], 'Júlia': [6.0, 8.0, 7.0], 'Pedro': [3.0, 4.0, 6.0]}\n"
   ]
  },
  {
   "cell_type": "code",
   "execution_count": 158,
   "metadata": {},
   "outputs": [
    {
     "name": "stdout",
     "output_type": "stream",
     "text": [
      "[3.0, 4.0, 6.0]\n"
     ]
    }
   ],
   "source": [
    "try:\n",
    "    nome = input(\"Digite o nome do(a) estudante: \")\n",
    "    resultado = notas[nome]\n",
    "except KeyError:\n",
    "    print(\"Estudante não matriculado(a) na turma\")\n",
    "else:\n",
    "    print(resultado)\n"
   ]
  },
  {
   "cell_type": "markdown",
   "metadata": {},
   "source": [
    "## Finally"
   ]
  },
  {
   "cell_type": "code",
   "execution_count": 160,
   "metadata": {},
   "outputs": [
    {
     "name": "stdout",
     "output_type": "stream",
     "text": [
      "Estudante não matriculado(a) na turma\n",
      "A consulta foi encerrada!\n"
     ]
    }
   ],
   "source": [
    "try:\n",
    "    nome = input(\"Digite o nome do(a) estudante: \")\n",
    "    resultado = notas[nome]\n",
    "except KeyError:\n",
    "    print(\"Estudante não matriculado(a) na turma\")\n",
    "else:\n",
    "    print(resultado)\n",
    "finally:\n",
    "    print(\"A consulta foi encerrada!\")"
   ]
  },
  {
   "cell_type": "markdown",
   "metadata": {},
   "source": [
    "## Raise"
   ]
  },
  {
   "cell_type": "code",
   "execution_count": 23,
   "metadata": {},
   "outputs": [
    {
     "name": "stdout",
     "output_type": "stream",
     "text": [
      "7.5\n",
      "A consulta foi encerrada!\n"
     ]
    }
   ],
   "source": [
    "def media(notas):\n",
    "    if len(notas) > 4:\n",
    "        raise ValueError(\"A lista não pode possuir mais de 4 notas.\")\n",
    "    return sum(notas) / len(notas)\n",
    "\n",
    "try:\n",
    "    notas = [6, 7, 8, 9]\n",
    "    resultado = media(notas)\n",
    "except TypeError:\n",
    "    print(\"Não foi possível calcular a média do(a) estudante. Só são aceitos valores numéricos!\")\n",
    "except ValueError as e:\n",
    "    print(e)\n",
    "else:\n",
    "    print(resultado)\n",
    "finally:\n",
    "    print(\"A consulta foi encerrada!\")\n",
    "\n"
   ]
  },
  {
   "cell_type": "markdown",
   "metadata": {},
   "source": [
    "## Hora da prática"
   ]
  },
  {
   "cell_type": "markdown",
   "metadata": {},
   "source": [
    "### 1.  Faça um programa que solicite à pessoa usuária digitar dois números float e calcular a divisão entre esses números. O código deve conter um tratamento de erro, indicando o tipo de erro que foi gerado caso a divisão não seja possível de realizar."
   ]
  },
  {
   "cell_type": "markdown",
   "metadata": {},
   "source": [
    "Teste o programa com o segundo valor numérico do input igual a 0. Também teste utilizando caracteres textuais no input para checar os tipos de erro que ocorrem."
   ]
  },
  {
   "cell_type": "code",
   "execution_count": 31,
   "metadata": {},
   "outputs": [
    {
     "name": "stdout",
     "output_type": "stream",
     "text": [
      "Unexpected err=ValueError(\"could not convert string to float: 'a'\"), type(err)=<class 'ValueError'>\n"
     ]
    }
   ],
   "source": [
    "try:\n",
    "    entrada_1 = float(input(\"Insira o primeiro número float: \"))\n",
    "    entrada_2 = float(input(\"Insira o primeiro número float: \"))\n",
    "    print(entrada_1 / entrada_2)\n",
    "except Exception as err:\n",
    "    print(f\"Unexpected {err=}, {type(err)=}\")\n"
   ]
  },
  {
   "cell_type": "markdown",
   "metadata": {},
   "source": [
    "### 2. Faça um programa que solicite à pessoa usuária digitar um texto que será uma chave a ser pesquisada no seguinte dicionário: idades = {'Júlia': 16, 'Carol': 23, 'Alberto': 19, 'Roberta': 17}, armazenando o resultado do valor em uma variável. O código deve conter um tratamento de erro KeyError, imprimindo a informação 'Nome não encontrado', caso ocorra o erro; e imprimir o valor caso não ocorra nenhum."
   ]
  },
  {
   "cell_type": "code",
   "execution_count": 37,
   "metadata": {},
   "outputs": [],
   "source": [
    "idades = {'Júlia': 16, 'Carol': 23, 'Alberto': 19, 'Roberta': 17}"
   ]
  },
  {
   "cell_type": "code",
   "execution_count": 36,
   "metadata": {},
   "outputs": [
    {
     "name": "stdout",
     "output_type": "stream",
     "text": [
      "19\n"
     ]
    }
   ],
   "source": [
    "busca = input('Insira o nome a ser pesquisado: ')\n",
    "\n",
    "try:\n",
    "    print(idades[busca])\n",
    "except:\n",
    "    print('Nome não encontrado')"
   ]
  },
  {
   "cell_type": "markdown",
   "metadata": {},
   "source": [
    "### 3. Crie uma função que recebe uma lista como parâmetro e converta todos os valores da lista para float. A função deve conter um tratamento de erro indicando o tipo de erro gerado e retornar a lista caso não tenha ocorrido nenhum erro. Por fim, deve ter a cláusula finally para imprimir o texto: 'Fim da execução da função'."
   ]
  },
  {
   "cell_type": "code",
   "execution_count": 40,
   "metadata": {},
   "outputs": [
    {
     "name": "stdout",
     "output_type": "stream",
     "text": [
      "[1.0, 2.0, 3.0, 4.0, 5.0]\n",
      "Fim da execução da função\n",
      "Unexpected err=ValueError(\"could not convert string to float: 'a'\"), type(err)=<class 'ValueError'>\n",
      "Fim da execução da função\n"
     ]
    }
   ],
   "source": [
    "def converter_float(lista):\n",
    "    try:\n",
    "        nova_lista = [float(elemento) for elemento in lista]\n",
    "    except Exception as err:\n",
    "        print(f\"Unexpected {err=}, {type(err)=}\")\n",
    "    else:\n",
    "        print(nova_lista)\n",
    "    finally:\n",
    "        print('Fim da execução da função')\n",
    "\n",
    "    \n",
    "\n",
    "converter_float([1, 2, 3, 4, 5])\n",
    "\n",
    "converter_float([1, 2, 3, 4, 5, 'a'])\n"
   ]
  },
  {
   "cell_type": "markdown",
   "metadata": {},
   "source": [
    "### 4. Crie uma função que recebe duas listas como parâmetros e agrupe os elementos um a um das listas, formando uma lista de tuplas de 3 elementos, no qual o primeiro e segundo elemento da tupla são os valores na posição i das listas e o terceiro elemento é a soma dos valores na posição i das listas."
   ]
  },
  {
   "cell_type": "markdown",
   "metadata": {},
   "source": [
    "A função deve conter um tratamento de erro indicando o tipo de erro gerado e retornar como resultado a lista de tuplas. Caso as listas enviadas como parâmetro tenham tamanhos diferentes, a função deve retornar um IndexError com a frase: 'A quantidade de elementos em cada lista é diferente.' Dados para testar a função:"
   ]
  },
  {
   "cell_type": "code",
   "execution_count": 44,
   "metadata": {},
   "outputs": [
    {
     "name": "stdout",
     "output_type": "stream",
     "text": [
      "<class 'IndexError'> Erro: A quantidade de elementos em cada lista é diferente.\n",
      "<class 'TypeError'> Erro: unsupported operand type(s) for +: 'int' and 'str'\n"
     ]
    }
   ],
   "source": [
    "def soma_listas(lista1, lista2):\n",
    "    try:\n",
    "        if len(lista1) == len(lista2):\n",
    "            dados = [(lista1[i], lista2[i], lista1[i]+lista2[i]) for i in range(len(lista1))]\n",
    "        else:\n",
    "            raise IndexError('A quantidade de elementos em cada lista é diferente.')\n",
    "    except Exception as e:\n",
    "        print(type(e), f'Erro: {e}')\n",
    "    else:\n",
    "        return dados  \n",
    "    \n",
    "\n",
    "lista1 = [4,6,7,9,10]\n",
    "lista2 = [-4,6,8,7,9]\n",
    "soma_listas(lista1, lista2)\n",
    "\n",
    "lista1 = [4,6,7,9,10,4]\n",
    "lista2 = [-4,6,8,7,9]\n",
    "soma_listas(lista1, lista2)\n",
    "\n",
    "lista1 = [4,6,7,9,'A']\n",
    "lista2 = [-4,'E',8,7,9]\n",
    "soma_listas(lista1, lista2)"
   ]
  },
  {
   "cell_type": "markdown",
   "metadata": {},
   "source": [
    "### 5. Como desafio, você recebeu a tarefa de desenvolver um código que contabiliza as pontuações de estudantes de uma instituição de ensino de acordo com suas respostas num teste. Este código deve ser testado para um exemplo de 3 estudantes com uma lista de listas em que cada lista possui as respostas de 5 questões objetivas de cada estudante. Cada questão vale um ponto e as alternativas possíveis são A, B, C ou D."
   ]
  },
  {
   "cell_type": "markdown",
   "metadata": {},
   "source": [
    " Como desafio, você recebeu a tarefa de desenvolver um código que contabiliza as pontuações de estudantes de uma instituição de ensino de acordo com suas respostas num teste. Este código deve ser testado para um exemplo de 3 estudantes com uma lista de listas em que cada lista possui as respostas de 5 questões objetivas de cada estudante. Cada questão vale um ponto e as alternativas possíveis são A, B, C ou D.\n",
    " "
   ]
  },
  {
   "cell_type": "code",
   "execution_count": 45,
   "metadata": {},
   "outputs": [],
   "source": [
    "gabarito = ['D', 'A', 'B', 'C', 'A']\n"
   ]
  },
  {
   "cell_type": "code",
   "execution_count": 46,
   "metadata": {},
   "outputs": [],
   "source": [
    "testes_sem_ex = [['D', 'A', 'B', 'C', 'A'], ['C', 'A', 'A', 'C', 'A'], ['D', 'B', 'A', 'C', 'A']]\n"
   ]
  },
  {
   "cell_type": "code",
   "execution_count": 47,
   "metadata": {},
   "outputs": [],
   "source": [
    "testes_com_ex = [['D', 'A', 'B', 'C', 'A'], ['C', 'A', 'A', 'E', 'A'], ['D', 'B', 'A', 'C', 'A']]\n"
   ]
  },
  {
   "cell_type": "code",
   "execution_count": 51,
   "metadata": {},
   "outputs": [],
   "source": [
    "gabarito = ['D', 'A', 'B', 'C', 'A']\n",
    "\n",
    "# Criando a função que recebe a lista de listas com as notas dos estudantes\n",
    "def corretor(testes: list):\n",
    "  pontuacoes = [] # criando a lista que receberá as pontuações caso a exceção não seja lançada\n",
    "  try:\n",
    "    for teste in testes:\n",
    "      nota = 0 # variável que acumula a nota de cada estudante\n",
    "      for i in range(len(teste)):\n",
    "        if teste[i] not in ['A', 'B', 'C', 'D']: # Verificamos se temos uma alternativa valida\n",
    "          raise ValueError(f'A alternativa {teste[i]} não é uma opção de alternativa válida')\n",
    "        elif teste[i] == gabarito[i]: # Verificamos se as respostas são iguais e adicionamos à nota\n",
    "          nota += 1\n",
    "      pontuacoes.append(nota) # adicionamos a nota do(a) estudante na lista de pontuações\n",
    "  except Exception as e:\n",
    "    print(e)\n",
    "  else:\n",
    "    return pontuacoes # retornando a lista de pontuações se não lançarmos a exceção"
   ]
  },
  {
   "cell_type": "code",
   "execution_count": 52,
   "metadata": {},
   "outputs": [
    {
     "name": "stdout",
     "output_type": "stream",
     "text": [
      "A alternativa E não é uma opção de alternativa válida\n"
     ]
    }
   ],
   "source": [
    "corretor(testes_com_ex)"
   ]
  },
  {
   "cell_type": "code",
   "execution_count": 53,
   "metadata": {},
   "outputs": [
    {
     "data": {
      "text/plain": [
       "[5, 3, 3]"
      ]
     },
     "execution_count": 53,
     "metadata": {},
     "output_type": "execute_result"
    }
   ],
   "source": [
    "corretor(testes_sem_ex)"
   ]
  },
  {
   "cell_type": "markdown",
   "metadata": {},
   "source": [
    "### 6. Você está trabalhando com processamento de linguagem natural (NLP) e, dessa vez, sua líder requisitou que você criasse um trecho de código que recebe uma lista com as palavras separadas de uma frase gerada pelo ChatGPT."
   ]
  },
  {
   "cell_type": "markdown",
   "metadata": {},
   "source": [
    "Você precisa criar uma função que avalia cada palavra desse texto e verificar se o tratamento para retirar os símbolos de pontuação (',' '.', '!' e '?') foi realizado. Caso contrário, será lançada uma exceção do tipo ValueError apontando o 1º caso em que foi detectado o uso de uma pontuação por meio da frase \"O texto apresenta pontuações na palavra \"[palavra]\".\". Essa demanda é voltada para a análise do padrão de frases geradas pela inteligência artificial."
   ]
  },
  {
   "cell_type": "code",
   "execution_count": 48,
   "metadata": {},
   "outputs": [],
   "source": [
    "lista_tratada = ['Python', 'é', 'uma', 'linguagem', 'de', 'programação', 'poderosa', 'versátil',\n",
    "                  'e', 'fácil', 'de', 'aprender', 'utilizada', 'em', 'diversos', 'campos', 'desde',\n",
    "                  'análise', 'de', 'dados', 'até', 'inteligência', 'artificial']\n"
   ]
  },
  {
   "cell_type": "code",
   "execution_count": 49,
   "metadata": {},
   "outputs": [],
   "source": [
    "lista_nao_tratada = ['Python', 'é', 'uma', 'linguagem', 'de', 'programação', 'poderosa,', 'versátil',\n",
    "                  'e', 'fácil,', 'de', 'aprender', 'utilizada', 'em', 'diversos', 'campos,', 'desde',\n",
    "                  'análise', 'de', 'dados', 'até', 'inteligência', 'artificial!']\n"
   ]
  },
  {
   "cell_type": "code",
   "execution_count": 54,
   "metadata": {},
   "outputs": [],
   "source": [
    "# criando a função que recebe a lista de palavras\n",
    "def avalia_texto(texto: list):\n",
    "    for palavra in texto:\n",
    "        if ',' in palavra or '.' in palavra or '!' in palavra or '?' in palavra:\n",
    "            raise ValueError(f'O texto apresenta pontuações na palavra \"{palavra}\".')\n",
    "    return \"Texto já tratado!\" # retornando a verificação se não lançada a exceção \n"
   ]
  },
  {
   "cell_type": "code",
   "execution_count": 55,
   "metadata": {},
   "outputs": [
    {
     "name": "stdout",
     "output_type": "stream",
     "text": [
      "Texto já tratado!\n"
     ]
    }
   ],
   "source": [
    "# Testando no exemplo que não lança exceção\n",
    "lista_tratada = ['Python', 'é', 'uma', 'linguagem', 'de', 'programação', 'poderosa', 'versátil',\n",
    "                  'e', 'fácil', 'de', 'aprender', 'utilizada', 'em', 'diversos', 'campos', 'desde',\n",
    "                  'análise', 'de', 'dados', 'até', 'inteligência', 'artificial']\n",
    "\n",
    "try:\n",
    "  avaliacao = avalia_texto(lista_tratada)\n",
    "except Exception as e:\n",
    "  print(e)\n",
    "else:\n",
    "  print(avaliacao)\n"
   ]
  },
  {
   "cell_type": "code",
   "execution_count": 56,
   "metadata": {},
   "outputs": [
    {
     "name": "stdout",
     "output_type": "stream",
     "text": [
      "O texto apresenta pontuações na palavra \"poderosa,\".\n"
     ]
    }
   ],
   "source": [
    "# Testando no exemplo que lança exceção\n",
    "lista_nao_tratada = ['Python', 'é', 'uma', 'linguagem', 'de', 'programação', 'poderosa,', 'versátil',\n",
    "                  'e', 'fácil,', 'de', 'aprender', 'utilizada', 'em', 'diversos', 'campos,', 'desde',\n",
    "                  'análise', 'de', 'dados', 'até', 'inteligência', 'artificial!']\n",
    "\n",
    "try:\n",
    "  avaliacao = avalia_texto(lista_nao_tratada)\n",
    "except Exception as e:\n",
    "  print(e)\n",
    "else:\n",
    "  print(avaliacao)\n"
   ]
  },
  {
   "cell_type": "markdown",
   "metadata": {},
   "source": [
    "### 7. Você foi contratado(a) como uma pessoa cientista de dados para auxiliar um laboratório que faz experimentos sobre o comportamento de uma cultura de fungos. O laboratório precisa avaliar constantemente a razão (divisão) entre os dados de pressão e temperatura do ambiente controlado recolhidos durante a experimentação para definir a melhor condição para os testes."
   ]
  },
  {
   "cell_type": "markdown",
   "metadata": {},
   "source": [
    "Para cumprir com a demanda, você precisa criar uma função divide_colunas que recebe os dados das colunas de pressão e temperatura (que vem no formato de listas) e gerar uma nova coluna com o resultado da divisão. Os parâmetros da função são as duas listas e você deve tratar dentro dela ao menos 2 tipos de exceções:\n",
    "\n",
    "Verificar se as listas têm o mesmo tamanho (ValueError)\n",
    "Verificar se existe alguma divisão por zero (ZeroDivisionError)\n",
    "Para testar a função, vamos realizar a divisão entre duas listas de dados coletados no experimento, com os valores de pressão e temperatura do ambiente controlado.\n",
    "\n",
    "Como teste, use os seguintes dados:"
   ]
  },
  {
   "cell_type": "code",
   "execution_count": 1,
   "metadata": {},
   "outputs": [],
   "source": [
    "# criando a função que recebe as duas listas e a operação a ser realizada\n",
    "def divide_colunas(lista_1: list, lista_2: list) -> list:\n",
    "  # try-except que verifica se é possível calcular a divisão e lança exceção se as listas tem tamanhos diferentes\n",
    "  # ou se temos alguma divisão por zero em um dos cálculos entre os números das listas\n",
    "  try:\n",
    "    if len(lista_1) != len(lista_2): # Verificando se as listas tem o mesmo tamanho, se não lança uma exceção\n",
    "      raise ValueError(\"As listas precisam ter o mesmo tamanho\")\n",
    "\n",
    "    # A função zip pareia os elementos das listas e uma lista é gerada por meio da razão entre os pares\n",
    "    resultado = [round(a / b, 2) for a, b in zip(lista_1, lista_2)] \n",
    "  except ValueError as e:\n",
    "    print(e)\n",
    "  except ZeroDivisionError as e:\n",
    "    print(f\"{e}: A 2ª lista não pode possuir um valor igual a 0\")\n",
    "  else:\n",
    "    return resultado\n"
   ]
  },
  {
   "cell_type": "code",
   "execution_count": 2,
   "metadata": {},
   "outputs": [
    {
     "data": {
      "text/plain": [
       "[5.0, 4.8, 4.67, 4.57, 4.5]"
      ]
     },
     "execution_count": 2,
     "metadata": {},
     "output_type": "execute_result"
    }
   ],
   "source": [
    "# Testando no exemplo que não lança exceção\n",
    "pressoes = [100, 120, 140, 160, 180]\n",
    "temperaturas = [20, 25, 30, 35, 40]\n",
    "\n",
    "divide_colunas(pressoes, temperaturas)\n"
   ]
  },
  {
   "cell_type": "code",
   "execution_count": 59,
   "metadata": {},
   "outputs": [
    {
     "name": "stdout",
     "output_type": "stream",
     "text": [
      "division by zero: A 2ª lista não pode possuir um valor igual a 0\n"
     ]
    }
   ],
   "source": [
    "# Testando no exemplo que lança exceção (ZeroDivisionError)\n",
    "pressoes = [60, 120, 140, 160, 180]\n",
    "temperaturas = [0, 25, 30, 35, 40]\n",
    "\n",
    "divide_colunas(pressoes, temperaturas)\n"
   ]
  },
  {
   "cell_type": "code",
   "execution_count": 3,
   "metadata": {},
   "outputs": [
    {
     "name": "stdout",
     "output_type": "stream",
     "text": [
      "As listas precisam ter o mesmo tamanho\n"
     ]
    }
   ],
   "source": [
    "# Testando no exemplo que lança exceção (ValueError)\n",
    "pressoes = [100, 120, 140, 160]\n",
    "temperaturas = [20, 25, 30, 35, 40]\n",
    "\n",
    "divide_colunas(pressoes, temperaturas)\n"
   ]
  }
 ],
 "metadata": {
  "kernelspec": {
   "display_name": "base",
   "language": "python",
   "name": "python3"
  },
  "language_info": {
   "codemirror_mode": {
    "name": "ipython",
    "version": 3
   },
   "file_extension": ".py",
   "mimetype": "text/x-python",
   "name": "python",
   "nbconvert_exporter": "python",
   "pygments_lexer": "ipython3",
   "version": "3.9.13"
  }
 },
 "nbformat": 4,
 "nbformat_minor": 2
}
